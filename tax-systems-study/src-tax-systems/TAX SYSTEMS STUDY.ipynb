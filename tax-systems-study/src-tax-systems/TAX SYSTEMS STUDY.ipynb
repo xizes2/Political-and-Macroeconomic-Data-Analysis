{
 "cells": [
  {
   "cell_type": "markdown",
   "metadata": {},
   "source": [
    "# Objective: #\n",
    "This study aims to show the general lines of the tax system adopted presently in the analized countries in order to see where the money of the public budget comes from, taxwise.\n",
    "\n",
    "# Analized Countries: #\n",
    "Brazil, Russia, India, China, S. Africa, EUA, Canada, Mexico, Argentina, Germany, Israel, France, Portugal, Spain, Poland, UK, Cingapore, Japan, Vietnam.\n",
    "\n",
    "# Disclaimer:  #\n",
    "Many of the countries analyzed have different tax systems and specificities what makes a perfectly equal comparison almost imposible (if not). That does not invalid comparison between them in a macro level.\n",
    "        \n",
    "# Sources: #\n",
    "- www.tradingeconomics.com  \n",
    "- www.taxfoundation.org  \n",
    "- www.wikipedia.com  \n",
    "- www.valorinveste.globo.com  \n",
    "- www.contabilizei.com.br  \n",
    "- www.oecd.org  \n",
    "- www.worldbank.org  \n",
    "- www2.deloitte.com/content/dam/Deloitte/cn/Documents/international-business-support/deloitte-cn-ibs-canada-int-tax-en-2018.pdf \n",
    "- https://www2.deloitte.com/content/dam/Deloitte/global/Documents/Tax/dttl-tax-southafricaliahighlights-2020.pdf\n",
    "- https://www.sars.gov.za/TaxTypes/DT/Pages/default.aspx\n",
    "- https://home.kpmg/xx/en/home/insights/2011/12/vietnam-income-tax.html\n",
    "- https://www2.deloitte.com/content/dam/Deloitte/global/Documents/Tax/dttl-tax-vietnamhighlights-2020.pdf\n",
    "- https://taxsummaries.pwc.com/vietnam/individual/taxes-on-personal-income\n",
    "- https://taxsummaries.pwc.com/argentina/individual/income-determination\n",
    "- https://www2.deloitte.com/content/dam/Deloitte/ar/Documents/tax/dttl-tax-argentinahighlights-2019.pdf\n",
    "- https://taxsummaries.pwc.com/russian-federation/individual/taxes-on-personal-income\n",
    "- https://www2.deloitte.com/content/dam/Deloitte/us/Documents/Tax/us-tax-ice-country-highlights-russia.pdf\n",
    "- https://www.iras.gov.sg/IRASHome/Individuals/Locals/Working-Out-Your-Taxes/What-is-Taxable-What-is-Not/Dividends/\n",
    "- https://www.guidemesingapore.com/business-guides/taxation-and-accounting/introduction-to-taxation/singapore-tax-system-and-tax-rates#:~:text=Singapore%20follows%20a%20single%2Dtier,22%25%20for%20non%2Dresidents.\n",
    "- https://www.pwc.com/mu/en/services/india-desk/india-ddt-tax.html\n",
    "- https://cleartax.in/s/how-dividends-taxable#:~:text=Answer%3A%20In%20India%2C%20a%20company,is%20liable%20for%20the%20tax.\n",
    "- https://www2.deloitte.com/content/dam/Deloitte/global/Documents/Tax/dttl-tax-chinahighlights-2020.pdf?nc=1\n",
    "- https://taxsummaries.pwc.com/peoples-republic-of-china/individual/taxes-on-personal-income\n",
    "- https://valorinveste.globo.com/blogs/andre-rocha/post/2020/07/governo-quer-baixar-impostos-das-empresas-mas-taxar-dividendos-qual-e-o-efeito-na-acao.ghtml\n",
    "- http://legis.senado.leg.br/sdleg-getter/documento/download/6401fcab-b629-4f14-a140-2f39bc023e81\n",
    "\n",
    "________________________\n",
    "\n",
    "**Nota Pessoal:**\n",
    "- Fazer um heatmap mostrando a regressividade dos sistemas de taxação."
   ]
  },
  {
   "cell_type": "code",
   "execution_count": 1,
   "metadata": {},
   "outputs": [],
   "source": [
    "import pandas as pd"
   ]
  },
  {
   "cell_type": "code",
   "execution_count": 2,
   "metadata": {},
   "outputs": [],
   "source": [
    "#Creating dataframes through reading excel files.\n",
    "corp_tax = pd.read_excel('List of Countries by Corporate Tax Rate.xls')\n",
    "divdnd_tax = pd.read_excel('tax profits and dividends oecd 2020.xls', header=1)\n",
    "pax_tax = pd.read_excel('List of Countries by Personal Income Tax Rate.xls')\n",
    "sales_tax = pd.read_excel('List of Countries by Sales Tax Rate.xls')"
   ]
  },
  {
   "cell_type": "code",
   "execution_count": 3,
   "metadata": {},
   "outputs": [],
   "source": [
    "#Creating list of analizes countries.\n",
    "countries = ['Brazil', 'Russia', 'India', 'China', 'South Africa', 'United States', 'Canada', 'Mexico', 'Argentina', 'Germany', 'Israel', 'France', 'Portugal', 'Spain', 'Poland', 'United Kingdom', 'Singapore', 'Japan', 'Vietnam']"
   ]
  },
  {
   "cell_type": "markdown",
   "metadata": {},
   "source": [
    "# 1st phase: Treat all df´s individually."
   ]
  },
  {
   "cell_type": "markdown",
   "metadata": {},
   "source": [
    "**Treating corp_tax:**"
   ]
  },
  {
   "cell_type": "code",
   "execution_count": 4,
   "metadata": {},
   "outputs": [
    {
     "data": {
      "text/html": [
       "<div>\n",
       "<style scoped>\n",
       "    .dataframe tbody tr th:only-of-type {\n",
       "        vertical-align: middle;\n",
       "    }\n",
       "\n",
       "    .dataframe tbody tr th {\n",
       "        vertical-align: top;\n",
       "    }\n",
       "\n",
       "    .dataframe thead th {\n",
       "        text-align: right;\n",
       "    }\n",
       "</style>\n",
       "<table border=\"1\" class=\"dataframe\">\n",
       "  <thead>\n",
       "    <tr style=\"text-align: right;\">\n",
       "      <th></th>\n",
       "      <th>Country</th>\n",
       "      <th>Last</th>\n",
       "    </tr>\n",
       "  </thead>\n",
       "  <tbody>\n",
       "    <tr>\n",
       "      <th>0</th>\n",
       "      <td>Afghanistan Corporate Tax Rate</td>\n",
       "      <td>20.0</td>\n",
       "    </tr>\n",
       "    <tr>\n",
       "      <th>1</th>\n",
       "      <td>Albania Corporate Tax Rate</td>\n",
       "      <td>15.0</td>\n",
       "    </tr>\n",
       "    <tr>\n",
       "      <th>2</th>\n",
       "      <td>Algeria Corporate Tax Rate</td>\n",
       "      <td>26.0</td>\n",
       "    </tr>\n",
       "    <tr>\n",
       "      <th>3</th>\n",
       "      <td>Angola Corporate Tax Rate</td>\n",
       "      <td>30.0</td>\n",
       "    </tr>\n",
       "    <tr>\n",
       "      <th>4</th>\n",
       "      <td>Argentina Corporate Tax Rate</td>\n",
       "      <td>25.0</td>\n",
       "    </tr>\n",
       "    <tr>\n",
       "      <th>...</th>\n",
       "      <td>...</td>\n",
       "      <td>...</td>\n",
       "    </tr>\n",
       "    <tr>\n",
       "      <th>158</th>\n",
       "      <td>Venezuela Corporate Tax Rate</td>\n",
       "      <td>34.0</td>\n",
       "    </tr>\n",
       "    <tr>\n",
       "      <th>159</th>\n",
       "      <td>Vietnam Corporate Tax Rate</td>\n",
       "      <td>20.0</td>\n",
       "    </tr>\n",
       "    <tr>\n",
       "      <th>160</th>\n",
       "      <td>Yemen Corporate Tax Rate</td>\n",
       "      <td>20.0</td>\n",
       "    </tr>\n",
       "    <tr>\n",
       "      <th>161</th>\n",
       "      <td>Zambia Corporate Tax Rate</td>\n",
       "      <td>35.0</td>\n",
       "    </tr>\n",
       "    <tr>\n",
       "      <th>162</th>\n",
       "      <td>Zimbabwe Corporate Tax Rate</td>\n",
       "      <td>25.0</td>\n",
       "    </tr>\n",
       "  </tbody>\n",
       "</table>\n",
       "<p>163 rows × 2 columns</p>\n",
       "</div>"
      ],
      "text/plain": [
       "                            Country  Last\n",
       "0    Afghanistan Corporate Tax Rate  20.0\n",
       "1        Albania Corporate Tax Rate  15.0\n",
       "2        Algeria Corporate Tax Rate  26.0\n",
       "3         Angola Corporate Tax Rate  30.0\n",
       "4      Argentina Corporate Tax Rate  25.0\n",
       "..                              ...   ...\n",
       "158    Venezuela Corporate Tax Rate  34.0\n",
       "159      Vietnam Corporate Tax Rate  20.0\n",
       "160        Yemen Corporate Tax Rate  20.0\n",
       "161       Zambia Corporate Tax Rate  35.0\n",
       "162     Zimbabwe Corporate Tax Rate  25.0\n",
       "\n",
       "[163 rows x 2 columns]"
      ]
     },
     "execution_count": 4,
     "metadata": {},
     "output_type": "execute_result"
    }
   ],
   "source": [
    "corp_tax"
   ]
  },
  {
   "cell_type": "code",
   "execution_count": 5,
   "metadata": {},
   "outputs": [],
   "source": [
    "#Excluding the phrase 'Corporate Tax Rate' from the 'Country' column on corp_tax df to leave just the names of the countries.\n",
    "corp_tax.Country = corp_tax.Country.apply(lambda x: x.replace(' Corporate Tax Rate', ''))"
   ]
  },
  {
   "cell_type": "code",
   "execution_count": 6,
   "metadata": {},
   "outputs": [],
   "source": [
    "#Change the name of the 'Last' column.\n",
    "corp_tax.rename(columns={'Last':'Corporate Income Tax'}, inplace=True)"
   ]
  },
  {
   "cell_type": "code",
   "execution_count": 7,
   "metadata": {},
   "outputs": [],
   "source": [
    "#Creating final df with only the selected countries.\n",
    "corp_tax_final = corp_tax[corp_tax['Country'].isin(countries)]"
   ]
  },
  {
   "cell_type": "code",
   "execution_count": 8,
   "metadata": {},
   "outputs": [
    {
     "data": {
      "text/html": [
       "<div>\n",
       "<style scoped>\n",
       "    .dataframe tbody tr th:only-of-type {\n",
       "        vertical-align: middle;\n",
       "    }\n",
       "\n",
       "    .dataframe tbody tr th {\n",
       "        vertical-align: top;\n",
       "    }\n",
       "\n",
       "    .dataframe thead th {\n",
       "        text-align: right;\n",
       "    }\n",
       "</style>\n",
       "<table border=\"1\" class=\"dataframe\">\n",
       "  <thead>\n",
       "    <tr style=\"text-align: right;\">\n",
       "      <th></th>\n",
       "      <th>Country</th>\n",
       "      <th>Corporate Income Tax</th>\n",
       "    </tr>\n",
       "  </thead>\n",
       "  <tbody>\n",
       "    <tr>\n",
       "      <th>0</th>\n",
       "      <td>Argentina</td>\n",
       "      <td>25.00</td>\n",
       "    </tr>\n",
       "    <tr>\n",
       "      <th>1</th>\n",
       "      <td>Brazil</td>\n",
       "      <td>34.00</td>\n",
       "    </tr>\n",
       "    <tr>\n",
       "      <th>2</th>\n",
       "      <td>Canada</td>\n",
       "      <td>26.50</td>\n",
       "    </tr>\n",
       "    <tr>\n",
       "      <th>3</th>\n",
       "      <td>China</td>\n",
       "      <td>25.00</td>\n",
       "    </tr>\n",
       "    <tr>\n",
       "      <th>4</th>\n",
       "      <td>France</td>\n",
       "      <td>28.00</td>\n",
       "    </tr>\n",
       "    <tr>\n",
       "      <th>5</th>\n",
       "      <td>Germany</td>\n",
       "      <td>30.00</td>\n",
       "    </tr>\n",
       "    <tr>\n",
       "      <th>6</th>\n",
       "      <td>India</td>\n",
       "      <td>25.17</td>\n",
       "    </tr>\n",
       "    <tr>\n",
       "      <th>7</th>\n",
       "      <td>Israel</td>\n",
       "      <td>23.00</td>\n",
       "    </tr>\n",
       "    <tr>\n",
       "      <th>8</th>\n",
       "      <td>Japan</td>\n",
       "      <td>30.62</td>\n",
       "    </tr>\n",
       "    <tr>\n",
       "      <th>9</th>\n",
       "      <td>Mexico</td>\n",
       "      <td>30.00</td>\n",
       "    </tr>\n",
       "    <tr>\n",
       "      <th>10</th>\n",
       "      <td>Poland</td>\n",
       "      <td>19.00</td>\n",
       "    </tr>\n",
       "    <tr>\n",
       "      <th>11</th>\n",
       "      <td>Portugal</td>\n",
       "      <td>21.00</td>\n",
       "    </tr>\n",
       "    <tr>\n",
       "      <th>12</th>\n",
       "      <td>Russia</td>\n",
       "      <td>20.00</td>\n",
       "    </tr>\n",
       "    <tr>\n",
       "      <th>13</th>\n",
       "      <td>Singapore</td>\n",
       "      <td>17.00</td>\n",
       "    </tr>\n",
       "    <tr>\n",
       "      <th>14</th>\n",
       "      <td>South Africa</td>\n",
       "      <td>28.00</td>\n",
       "    </tr>\n",
       "    <tr>\n",
       "      <th>15</th>\n",
       "      <td>Spain</td>\n",
       "      <td>25.00</td>\n",
       "    </tr>\n",
       "    <tr>\n",
       "      <th>16</th>\n",
       "      <td>United Kingdom</td>\n",
       "      <td>19.00</td>\n",
       "    </tr>\n",
       "    <tr>\n",
       "      <th>17</th>\n",
       "      <td>United States</td>\n",
       "      <td>21.00</td>\n",
       "    </tr>\n",
       "    <tr>\n",
       "      <th>18</th>\n",
       "      <td>Vietnam</td>\n",
       "      <td>20.00</td>\n",
       "    </tr>\n",
       "  </tbody>\n",
       "</table>\n",
       "</div>"
      ],
      "text/plain": [
       "           Country  Corporate Income Tax\n",
       "0        Argentina                 25.00\n",
       "1           Brazil                 34.00\n",
       "2           Canada                 26.50\n",
       "3            China                 25.00\n",
       "4           France                 28.00\n",
       "5          Germany                 30.00\n",
       "6            India                 25.17\n",
       "7           Israel                 23.00\n",
       "8            Japan                 30.62\n",
       "9           Mexico                 30.00\n",
       "10          Poland                 19.00\n",
       "11        Portugal                 21.00\n",
       "12          Russia                 20.00\n",
       "13       Singapore                 17.00\n",
       "14    South Africa                 28.00\n",
       "15           Spain                 25.00\n",
       "16  United Kingdom                 19.00\n",
       "17   United States                 21.00\n",
       "18         Vietnam                 20.00"
      ]
     },
     "execution_count": 8,
     "metadata": {},
     "output_type": "execute_result"
    }
   ],
   "source": [
    "#Reseting index.\n",
    "corp_tax_final.reset_index(drop=True, inplace=True)\n",
    "corp_tax_final"
   ]
  },
  {
   "cell_type": "markdown",
   "metadata": {},
   "source": [
    "**Treating divdnd_tax:**  \n",
    "\n",
    "Disclaimer: For this study we are considering specially the local individual shareholders."
   ]
  },
  {
   "cell_type": "code",
   "execution_count": 9,
   "metadata": {},
   "outputs": [
    {
     "data": {
      "text/html": [
       "<div>\n",
       "<style scoped>\n",
       "    .dataframe tbody tr th:only-of-type {\n",
       "        vertical-align: middle;\n",
       "    }\n",
       "\n",
       "    .dataframe tbody tr th {\n",
       "        vertical-align: top;\n",
       "    }\n",
       "\n",
       "    .dataframe thead th {\n",
       "        text-align: right;\n",
       "    }\n",
       "</style>\n",
       "<table border=\"1\" class=\"dataframe\">\n",
       "  <thead>\n",
       "    <tr style=\"text-align: right;\">\n",
       "      <th></th>\n",
       "      <th>Country</th>\n",
       "      <th>tax</th>\n",
       "    </tr>\n",
       "  </thead>\n",
       "  <tbody>\n",
       "    <tr>\n",
       "      <th>0</th>\n",
       "      <td>Canada</td>\n",
       "      <td>26.44</td>\n",
       "    </tr>\n",
       "    <tr>\n",
       "      <th>1</th>\n",
       "      <td>Ireland</td>\n",
       "      <td>12.50</td>\n",
       "    </tr>\n",
       "    <tr>\n",
       "      <th>2</th>\n",
       "      <td>Australia</td>\n",
       "      <td>30.00</td>\n",
       "    </tr>\n",
       "    <tr>\n",
       "      <th>3</th>\n",
       "      <td>Korea</td>\n",
       "      <td>27.50</td>\n",
       "    </tr>\n",
       "    <tr>\n",
       "      <th>4</th>\n",
       "      <td>Denmark</td>\n",
       "      <td>22.00</td>\n",
       "    </tr>\n",
       "  </tbody>\n",
       "</table>\n",
       "</div>"
      ],
      "text/plain": [
       "     Country    tax\n",
       "0     Canada  26.44\n",
       "1    Ireland  12.50\n",
       "2  Australia  30.00\n",
       "3      Korea  27.50\n",
       "4    Denmark  22.00"
      ]
     },
     "execution_count": 9,
     "metadata": {},
     "output_type": "execute_result"
    }
   ],
   "source": [
    "divdnd_tax.head()"
   ]
  },
  {
   "cell_type": "code",
   "execution_count": 10,
   "metadata": {},
   "outputs": [
    {
     "data": {
      "text/html": [
       "<div>\n",
       "<style scoped>\n",
       "    .dataframe tbody tr th:only-of-type {\n",
       "        vertical-align: middle;\n",
       "    }\n",
       "\n",
       "    .dataframe tbody tr th {\n",
       "        vertical-align: top;\n",
       "    }\n",
       "\n",
       "    .dataframe thead th {\n",
       "        text-align: right;\n",
       "    }\n",
       "</style>\n",
       "<table border=\"1\" class=\"dataframe\">\n",
       "  <thead>\n",
       "    <tr style=\"text-align: right;\">\n",
       "      <th></th>\n",
       "      <th>Country</th>\n",
       "      <th>Dividend Tax</th>\n",
       "    </tr>\n",
       "  </thead>\n",
       "  <tbody>\n",
       "    <tr>\n",
       "      <th>0</th>\n",
       "      <td>Canada</td>\n",
       "      <td>26.440000</td>\n",
       "    </tr>\n",
       "    <tr>\n",
       "      <th>1</th>\n",
       "      <td>Ireland</td>\n",
       "      <td>12.500000</td>\n",
       "    </tr>\n",
       "    <tr>\n",
       "      <th>2</th>\n",
       "      <td>Australia</td>\n",
       "      <td>30.000000</td>\n",
       "    </tr>\n",
       "    <tr>\n",
       "      <th>3</th>\n",
       "      <td>Korea</td>\n",
       "      <td>27.500000</td>\n",
       "    </tr>\n",
       "    <tr>\n",
       "      <th>4</th>\n",
       "      <td>Denmark</td>\n",
       "      <td>22.000000</td>\n",
       "    </tr>\n",
       "    <tr>\n",
       "      <th>5</th>\n",
       "      <td>Luxembourg</td>\n",
       "      <td>24.940000</td>\n",
       "    </tr>\n",
       "    <tr>\n",
       "      <th>6</th>\n",
       "      <td>Mexico</td>\n",
       "      <td>30.000000</td>\n",
       "    </tr>\n",
       "    <tr>\n",
       "      <th>7</th>\n",
       "      <td>Chile</td>\n",
       "      <td>25.000000</td>\n",
       "    </tr>\n",
       "    <tr>\n",
       "      <th>8</th>\n",
       "      <td>Turkey</td>\n",
       "      <td>22.000000</td>\n",
       "    </tr>\n",
       "    <tr>\n",
       "      <th>9</th>\n",
       "      <td>United Kingdom</td>\n",
       "      <td>19.000000</td>\n",
       "    </tr>\n",
       "    <tr>\n",
       "      <th>10</th>\n",
       "      <td>Finland</td>\n",
       "      <td>20.000000</td>\n",
       "    </tr>\n",
       "    <tr>\n",
       "      <th>11</th>\n",
       "      <td>France</td>\n",
       "      <td>32.023000</td>\n",
       "    </tr>\n",
       "    <tr>\n",
       "      <th>12</th>\n",
       "      <td>Israel</td>\n",
       "      <td>23.000000</td>\n",
       "    </tr>\n",
       "    <tr>\n",
       "      <th>13</th>\n",
       "      <td>New Zealand</td>\n",
       "      <td>28.000000</td>\n",
       "    </tr>\n",
       "    <tr>\n",
       "      <th>14</th>\n",
       "      <td>Norway</td>\n",
       "      <td>22.000000</td>\n",
       "    </tr>\n",
       "    <tr>\n",
       "      <th>15</th>\n",
       "      <td>Belgium</td>\n",
       "      <td>29.000000</td>\n",
       "    </tr>\n",
       "    <tr>\n",
       "      <th>16</th>\n",
       "      <td>Sweden</td>\n",
       "      <td>21.400000</td>\n",
       "    </tr>\n",
       "    <tr>\n",
       "      <th>17</th>\n",
       "      <td>United States</td>\n",
       "      <td>25.766571</td>\n",
       "    </tr>\n",
       "    <tr>\n",
       "      <th>18</th>\n",
       "      <td>Portugal</td>\n",
       "      <td>31.500000</td>\n",
       "    </tr>\n",
       "    <tr>\n",
       "      <th>19</th>\n",
       "      <td>Austria</td>\n",
       "      <td>25.000000</td>\n",
       "    </tr>\n",
       "    <tr>\n",
       "      <th>20</th>\n",
       "      <td>Slovenia</td>\n",
       "      <td>19.000000</td>\n",
       "    </tr>\n",
       "    <tr>\n",
       "      <th>21</th>\n",
       "      <td>Germany</td>\n",
       "      <td>29.897059</td>\n",
       "    </tr>\n",
       "    <tr>\n",
       "      <th>22</th>\n",
       "      <td>Italy</td>\n",
       "      <td>24.000000</td>\n",
       "    </tr>\n",
       "    <tr>\n",
       "      <th>23</th>\n",
       "      <td>Netherlands</td>\n",
       "      <td>25.000000</td>\n",
       "    </tr>\n",
       "    <tr>\n",
       "      <th>24</th>\n",
       "      <td>Spain</td>\n",
       "      <td>25.000000</td>\n",
       "    </tr>\n",
       "    <tr>\n",
       "      <th>25</th>\n",
       "      <td>Switzerland</td>\n",
       "      <td>21.148581</td>\n",
       "    </tr>\n",
       "    <tr>\n",
       "      <th>26</th>\n",
       "      <td>Iceland</td>\n",
       "      <td>20.000000</td>\n",
       "    </tr>\n",
       "    <tr>\n",
       "      <th>27</th>\n",
       "      <td>Japan</td>\n",
       "      <td>29.740000</td>\n",
       "    </tr>\n",
       "    <tr>\n",
       "      <th>28</th>\n",
       "      <td>Poland</td>\n",
       "      <td>19.000000</td>\n",
       "    </tr>\n",
       "    <tr>\n",
       "      <th>29</th>\n",
       "      <td>Czech Republic</td>\n",
       "      <td>19.000000</td>\n",
       "    </tr>\n",
       "    <tr>\n",
       "      <th>30</th>\n",
       "      <td>Hungary</td>\n",
       "      <td>9.000000</td>\n",
       "    </tr>\n",
       "    <tr>\n",
       "      <th>31</th>\n",
       "      <td>Estonia</td>\n",
       "      <td>20.000000</td>\n",
       "    </tr>\n",
       "    <tr>\n",
       "      <th>32</th>\n",
       "      <td>Slovak Republic</td>\n",
       "      <td>21.000000</td>\n",
       "    </tr>\n",
       "    <tr>\n",
       "      <th>33</th>\n",
       "      <td>Greece</td>\n",
       "      <td>24.000000</td>\n",
       "    </tr>\n",
       "    <tr>\n",
       "      <th>34</th>\n",
       "      <td>Latvia</td>\n",
       "      <td>20.000000</td>\n",
       "    </tr>\n",
       "    <tr>\n",
       "      <th>35</th>\n",
       "      <td>Lithuania</td>\n",
       "      <td>15.000000</td>\n",
       "    </tr>\n",
       "  </tbody>\n",
       "</table>\n",
       "</div>"
      ],
      "text/plain": [
       "            Country  Dividend Tax\n",
       "0            Canada     26.440000\n",
       "1           Ireland     12.500000\n",
       "2         Australia     30.000000\n",
       "3             Korea     27.500000\n",
       "4           Denmark     22.000000\n",
       "5        Luxembourg     24.940000\n",
       "6            Mexico     30.000000\n",
       "7             Chile     25.000000\n",
       "8            Turkey     22.000000\n",
       "9    United Kingdom     19.000000\n",
       "10          Finland     20.000000\n",
       "11           France     32.023000\n",
       "12           Israel     23.000000\n",
       "13      New Zealand     28.000000\n",
       "14           Norway     22.000000\n",
       "15          Belgium     29.000000\n",
       "16           Sweden     21.400000\n",
       "17    United States     25.766571\n",
       "18         Portugal     31.500000\n",
       "19          Austria     25.000000\n",
       "20         Slovenia     19.000000\n",
       "21          Germany     29.897059\n",
       "22            Italy     24.000000\n",
       "23      Netherlands     25.000000\n",
       "24            Spain     25.000000\n",
       "25      Switzerland     21.148581\n",
       "26          Iceland     20.000000\n",
       "27            Japan     29.740000\n",
       "28           Poland     19.000000\n",
       "29   Czech Republic     19.000000\n",
       "30          Hungary      9.000000\n",
       "31          Estonia     20.000000\n",
       "32  Slovak Republic     21.000000\n",
       "33           Greece     24.000000\n",
       "34           Latvia     20.000000\n",
       "35        Lithuania     15.000000"
      ]
     },
     "execution_count": 10,
     "metadata": {},
     "output_type": "execute_result"
    }
   ],
   "source": [
    "#Renaming 'tax' column.\n",
    "divdnd_tax.rename(columns={'tax':'Dividend Tax'}, inplace=True)\n",
    "divdnd_tax"
   ]
  },
  {
   "cell_type": "code",
   "execution_count": 11,
   "metadata": {},
   "outputs": [],
   "source": [
    "#Defining function to change the numbers to two decimals.\n",
    "def two_decimals(number):\n",
    "    return round(number, ndigits=2)"
   ]
  },
  {
   "cell_type": "code",
   "execution_count": 12,
   "metadata": {},
   "outputs": [
    {
     "data": {
      "text/html": [
       "<div>\n",
       "<style scoped>\n",
       "    .dataframe tbody tr th:only-of-type {\n",
       "        vertical-align: middle;\n",
       "    }\n",
       "\n",
       "    .dataframe tbody tr th {\n",
       "        vertical-align: top;\n",
       "    }\n",
       "\n",
       "    .dataframe thead th {\n",
       "        text-align: right;\n",
       "    }\n",
       "</style>\n",
       "<table border=\"1\" class=\"dataframe\">\n",
       "  <thead>\n",
       "    <tr style=\"text-align: right;\">\n",
       "      <th></th>\n",
       "      <th>Country</th>\n",
       "      <th>Dividend Tax</th>\n",
       "    </tr>\n",
       "  </thead>\n",
       "  <tbody>\n",
       "    <tr>\n",
       "      <th>0</th>\n",
       "      <td>Canada</td>\n",
       "      <td>26.44</td>\n",
       "    </tr>\n",
       "    <tr>\n",
       "      <th>1</th>\n",
       "      <td>Ireland</td>\n",
       "      <td>12.50</td>\n",
       "    </tr>\n",
       "    <tr>\n",
       "      <th>2</th>\n",
       "      <td>Australia</td>\n",
       "      <td>30.00</td>\n",
       "    </tr>\n",
       "    <tr>\n",
       "      <th>3</th>\n",
       "      <td>Korea</td>\n",
       "      <td>27.50</td>\n",
       "    </tr>\n",
       "    <tr>\n",
       "      <th>4</th>\n",
       "      <td>Denmark</td>\n",
       "      <td>22.00</td>\n",
       "    </tr>\n",
       "    <tr>\n",
       "      <th>5</th>\n",
       "      <td>Luxembourg</td>\n",
       "      <td>24.94</td>\n",
       "    </tr>\n",
       "    <tr>\n",
       "      <th>6</th>\n",
       "      <td>Mexico</td>\n",
       "      <td>30.00</td>\n",
       "    </tr>\n",
       "    <tr>\n",
       "      <th>7</th>\n",
       "      <td>Chile</td>\n",
       "      <td>25.00</td>\n",
       "    </tr>\n",
       "    <tr>\n",
       "      <th>8</th>\n",
       "      <td>Turkey</td>\n",
       "      <td>22.00</td>\n",
       "    </tr>\n",
       "    <tr>\n",
       "      <th>9</th>\n",
       "      <td>United Kingdom</td>\n",
       "      <td>19.00</td>\n",
       "    </tr>\n",
       "    <tr>\n",
       "      <th>10</th>\n",
       "      <td>Finland</td>\n",
       "      <td>20.00</td>\n",
       "    </tr>\n",
       "    <tr>\n",
       "      <th>11</th>\n",
       "      <td>France</td>\n",
       "      <td>32.02</td>\n",
       "    </tr>\n",
       "    <tr>\n",
       "      <th>12</th>\n",
       "      <td>Israel</td>\n",
       "      <td>23.00</td>\n",
       "    </tr>\n",
       "    <tr>\n",
       "      <th>13</th>\n",
       "      <td>New Zealand</td>\n",
       "      <td>28.00</td>\n",
       "    </tr>\n",
       "    <tr>\n",
       "      <th>14</th>\n",
       "      <td>Norway</td>\n",
       "      <td>22.00</td>\n",
       "    </tr>\n",
       "    <tr>\n",
       "      <th>15</th>\n",
       "      <td>Belgium</td>\n",
       "      <td>29.00</td>\n",
       "    </tr>\n",
       "    <tr>\n",
       "      <th>16</th>\n",
       "      <td>Sweden</td>\n",
       "      <td>21.40</td>\n",
       "    </tr>\n",
       "    <tr>\n",
       "      <th>17</th>\n",
       "      <td>United States</td>\n",
       "      <td>25.77</td>\n",
       "    </tr>\n",
       "    <tr>\n",
       "      <th>18</th>\n",
       "      <td>Portugal</td>\n",
       "      <td>31.50</td>\n",
       "    </tr>\n",
       "    <tr>\n",
       "      <th>19</th>\n",
       "      <td>Austria</td>\n",
       "      <td>25.00</td>\n",
       "    </tr>\n",
       "    <tr>\n",
       "      <th>20</th>\n",
       "      <td>Slovenia</td>\n",
       "      <td>19.00</td>\n",
       "    </tr>\n",
       "    <tr>\n",
       "      <th>21</th>\n",
       "      <td>Germany</td>\n",
       "      <td>29.90</td>\n",
       "    </tr>\n",
       "    <tr>\n",
       "      <th>22</th>\n",
       "      <td>Italy</td>\n",
       "      <td>24.00</td>\n",
       "    </tr>\n",
       "    <tr>\n",
       "      <th>23</th>\n",
       "      <td>Netherlands</td>\n",
       "      <td>25.00</td>\n",
       "    </tr>\n",
       "    <tr>\n",
       "      <th>24</th>\n",
       "      <td>Spain</td>\n",
       "      <td>25.00</td>\n",
       "    </tr>\n",
       "    <tr>\n",
       "      <th>25</th>\n",
       "      <td>Switzerland</td>\n",
       "      <td>21.15</td>\n",
       "    </tr>\n",
       "    <tr>\n",
       "      <th>26</th>\n",
       "      <td>Iceland</td>\n",
       "      <td>20.00</td>\n",
       "    </tr>\n",
       "    <tr>\n",
       "      <th>27</th>\n",
       "      <td>Japan</td>\n",
       "      <td>29.74</td>\n",
       "    </tr>\n",
       "    <tr>\n",
       "      <th>28</th>\n",
       "      <td>Poland</td>\n",
       "      <td>19.00</td>\n",
       "    </tr>\n",
       "    <tr>\n",
       "      <th>29</th>\n",
       "      <td>Czech Republic</td>\n",
       "      <td>19.00</td>\n",
       "    </tr>\n",
       "    <tr>\n",
       "      <th>30</th>\n",
       "      <td>Hungary</td>\n",
       "      <td>9.00</td>\n",
       "    </tr>\n",
       "    <tr>\n",
       "      <th>31</th>\n",
       "      <td>Estonia</td>\n",
       "      <td>20.00</td>\n",
       "    </tr>\n",
       "    <tr>\n",
       "      <th>32</th>\n",
       "      <td>Slovak Republic</td>\n",
       "      <td>21.00</td>\n",
       "    </tr>\n",
       "    <tr>\n",
       "      <th>33</th>\n",
       "      <td>Greece</td>\n",
       "      <td>24.00</td>\n",
       "    </tr>\n",
       "    <tr>\n",
       "      <th>34</th>\n",
       "      <td>Latvia</td>\n",
       "      <td>20.00</td>\n",
       "    </tr>\n",
       "    <tr>\n",
       "      <th>35</th>\n",
       "      <td>Lithuania</td>\n",
       "      <td>15.00</td>\n",
       "    </tr>\n",
       "  </tbody>\n",
       "</table>\n",
       "</div>"
      ],
      "text/plain": [
       "            Country  Dividend Tax\n",
       "0            Canada         26.44\n",
       "1           Ireland         12.50\n",
       "2         Australia         30.00\n",
       "3             Korea         27.50\n",
       "4           Denmark         22.00\n",
       "5        Luxembourg         24.94\n",
       "6            Mexico         30.00\n",
       "7             Chile         25.00\n",
       "8            Turkey         22.00\n",
       "9    United Kingdom         19.00\n",
       "10          Finland         20.00\n",
       "11           France         32.02\n",
       "12           Israel         23.00\n",
       "13      New Zealand         28.00\n",
       "14           Norway         22.00\n",
       "15          Belgium         29.00\n",
       "16           Sweden         21.40\n",
       "17    United States         25.77\n",
       "18         Portugal         31.50\n",
       "19          Austria         25.00\n",
       "20         Slovenia         19.00\n",
       "21          Germany         29.90\n",
       "22            Italy         24.00\n",
       "23      Netherlands         25.00\n",
       "24            Spain         25.00\n",
       "25      Switzerland         21.15\n",
       "26          Iceland         20.00\n",
       "27            Japan         29.74\n",
       "28           Poland         19.00\n",
       "29   Czech Republic         19.00\n",
       "30          Hungary          9.00\n",
       "31          Estonia         20.00\n",
       "32  Slovak Republic         21.00\n",
       "33           Greece         24.00\n",
       "34           Latvia         20.00\n",
       "35        Lithuania         15.00"
      ]
     },
     "execution_count": 12,
     "metadata": {},
     "output_type": "execute_result"
    }
   ],
   "source": [
    "#Applying the function above.\n",
    "divdnd_tax['Dividend Tax'] = divdnd_tax['Dividend Tax'].apply(lambda x: two_decimals(x))\n",
    "divdnd_tax"
   ]
  },
  {
   "cell_type": "code",
   "execution_count": 13,
   "metadata": {},
   "outputs": [],
   "source": [
    "#Selecting only the countries within 'countries' list.\n",
    "divdnd_tax_final = divdnd_tax[divdnd_tax['Country'].isin(countries)].reset_index(drop=True)"
   ]
  },
  {
   "cell_type": "code",
   "execution_count": 14,
   "metadata": {},
   "outputs": [
    {
     "data": {
      "text/html": [
       "<div>\n",
       "<style scoped>\n",
       "    .dataframe tbody tr th:only-of-type {\n",
       "        vertical-align: middle;\n",
       "    }\n",
       "\n",
       "    .dataframe tbody tr th {\n",
       "        vertical-align: top;\n",
       "    }\n",
       "\n",
       "    .dataframe thead th {\n",
       "        text-align: right;\n",
       "    }\n",
       "</style>\n",
       "<table border=\"1\" class=\"dataframe\">\n",
       "  <thead>\n",
       "    <tr style=\"text-align: right;\">\n",
       "      <th></th>\n",
       "      <th>Country</th>\n",
       "      <th>Dividend Tax</th>\n",
       "    </tr>\n",
       "  </thead>\n",
       "  <tbody>\n",
       "    <tr>\n",
       "      <th>0</th>\n",
       "      <td>Canada</td>\n",
       "      <td>26.44</td>\n",
       "    </tr>\n",
       "    <tr>\n",
       "      <th>1</th>\n",
       "      <td>Mexico</td>\n",
       "      <td>30.00</td>\n",
       "    </tr>\n",
       "    <tr>\n",
       "      <th>2</th>\n",
       "      <td>United Kingdom</td>\n",
       "      <td>19.00</td>\n",
       "    </tr>\n",
       "    <tr>\n",
       "      <th>3</th>\n",
       "      <td>France</td>\n",
       "      <td>32.02</td>\n",
       "    </tr>\n",
       "    <tr>\n",
       "      <th>4</th>\n",
       "      <td>Israel</td>\n",
       "      <td>23.00</td>\n",
       "    </tr>\n",
       "    <tr>\n",
       "      <th>5</th>\n",
       "      <td>United States</td>\n",
       "      <td>25.77</td>\n",
       "    </tr>\n",
       "    <tr>\n",
       "      <th>6</th>\n",
       "      <td>Portugal</td>\n",
       "      <td>31.50</td>\n",
       "    </tr>\n",
       "    <tr>\n",
       "      <th>7</th>\n",
       "      <td>Germany</td>\n",
       "      <td>29.90</td>\n",
       "    </tr>\n",
       "    <tr>\n",
       "      <th>8</th>\n",
       "      <td>Spain</td>\n",
       "      <td>25.00</td>\n",
       "    </tr>\n",
       "    <tr>\n",
       "      <th>9</th>\n",
       "      <td>Japan</td>\n",
       "      <td>29.74</td>\n",
       "    </tr>\n",
       "    <tr>\n",
       "      <th>10</th>\n",
       "      <td>Poland</td>\n",
       "      <td>19.00</td>\n",
       "    </tr>\n",
       "  </tbody>\n",
       "</table>\n",
       "</div>"
      ],
      "text/plain": [
       "           Country  Dividend Tax\n",
       "0           Canada         26.44\n",
       "1           Mexico         30.00\n",
       "2   United Kingdom         19.00\n",
       "3           France         32.02\n",
       "4           Israel         23.00\n",
       "5    United States         25.77\n",
       "6         Portugal         31.50\n",
       "7          Germany         29.90\n",
       "8            Spain         25.00\n",
       "9            Japan         29.74\n",
       "10          Poland         19.00"
      ]
     },
     "execution_count": 14,
     "metadata": {},
     "output_type": "execute_result"
    }
   ],
   "source": [
    "divdnd_tax_final"
   ]
  },
  {
   "cell_type": "code",
   "execution_count": 15,
   "metadata": {},
   "outputs": [
    {
     "data": {
      "text/plain": [
       "['Vietnam',\n",
       " 'China',\n",
       " 'South Africa',\n",
       " 'Russia',\n",
       " 'India',\n",
       " 'Singapore',\n",
       " 'Argentina',\n",
       " 'Brazil']"
      ]
     },
     "execution_count": 15,
     "metadata": {},
     "output_type": "execute_result"
    }
   ],
   "source": [
    "#Checking which countries are not in the dataframe.\n",
    "#Personal Note: Observe that I had to use the method 'set' so Python would allow me to subtract one group from the other.\n",
    "missing_countries = list(set(countries) - set(divdnd_tax_final['Country']))\n",
    "missing_countries"
   ]
  },
  {
   "cell_type": "code",
   "execution_count": 16,
   "metadata": {},
   "outputs": [],
   "source": [
    "#Creating dict with the sources mentioned on the beggining.\n",
    "missing_countries = {'Country':['South Africa', 'Vitenam', 'Argentina', 'Russia', 'Singapore', 'India', 'China', 'Brazil'], 'Dividend Tax':[20,5,13,13,0,10,20,0]}"
   ]
  },
  {
   "cell_type": "code",
   "execution_count": 17,
   "metadata": {},
   "outputs": [],
   "source": [
    "#Creating dataframe.\n",
    "missing_countries = pd.DataFrame(missing_countries)"
   ]
  },
  {
   "cell_type": "code",
   "execution_count": 18,
   "metadata": {},
   "outputs": [],
   "source": [
    "#Concatenating the two df´s.\n",
    "divdnd_tax_final = pd.concat([divdnd_tax_final, missing_countries])"
   ]
  },
  {
   "cell_type": "code",
   "execution_count": 19,
   "metadata": {},
   "outputs": [
    {
     "data": {
      "text/html": [
       "<div>\n",
       "<style scoped>\n",
       "    .dataframe tbody tr th:only-of-type {\n",
       "        vertical-align: middle;\n",
       "    }\n",
       "\n",
       "    .dataframe tbody tr th {\n",
       "        vertical-align: top;\n",
       "    }\n",
       "\n",
       "    .dataframe thead th {\n",
       "        text-align: right;\n",
       "    }\n",
       "</style>\n",
       "<table border=\"1\" class=\"dataframe\">\n",
       "  <thead>\n",
       "    <tr style=\"text-align: right;\">\n",
       "      <th></th>\n",
       "      <th>Country</th>\n",
       "      <th>Dividend Tax</th>\n",
       "    </tr>\n",
       "  </thead>\n",
       "  <tbody>\n",
       "    <tr>\n",
       "      <th>0</th>\n",
       "      <td>Argentina</td>\n",
       "      <td>13.00</td>\n",
       "    </tr>\n",
       "    <tr>\n",
       "      <th>1</th>\n",
       "      <td>Brazil</td>\n",
       "      <td>0.00</td>\n",
       "    </tr>\n",
       "    <tr>\n",
       "      <th>2</th>\n",
       "      <td>Canada</td>\n",
       "      <td>26.44</td>\n",
       "    </tr>\n",
       "    <tr>\n",
       "      <th>3</th>\n",
       "      <td>China</td>\n",
       "      <td>20.00</td>\n",
       "    </tr>\n",
       "    <tr>\n",
       "      <th>4</th>\n",
       "      <td>France</td>\n",
       "      <td>32.02</td>\n",
       "    </tr>\n",
       "    <tr>\n",
       "      <th>5</th>\n",
       "      <td>Germany</td>\n",
       "      <td>29.90</td>\n",
       "    </tr>\n",
       "    <tr>\n",
       "      <th>6</th>\n",
       "      <td>India</td>\n",
       "      <td>10.00</td>\n",
       "    </tr>\n",
       "    <tr>\n",
       "      <th>7</th>\n",
       "      <td>Israel</td>\n",
       "      <td>23.00</td>\n",
       "    </tr>\n",
       "    <tr>\n",
       "      <th>8</th>\n",
       "      <td>Japan</td>\n",
       "      <td>29.74</td>\n",
       "    </tr>\n",
       "    <tr>\n",
       "      <th>9</th>\n",
       "      <td>Mexico</td>\n",
       "      <td>30.00</td>\n",
       "    </tr>\n",
       "    <tr>\n",
       "      <th>10</th>\n",
       "      <td>Poland</td>\n",
       "      <td>19.00</td>\n",
       "    </tr>\n",
       "    <tr>\n",
       "      <th>11</th>\n",
       "      <td>Portugal</td>\n",
       "      <td>31.50</td>\n",
       "    </tr>\n",
       "    <tr>\n",
       "      <th>12</th>\n",
       "      <td>Russia</td>\n",
       "      <td>13.00</td>\n",
       "    </tr>\n",
       "    <tr>\n",
       "      <th>13</th>\n",
       "      <td>Singapore</td>\n",
       "      <td>0.00</td>\n",
       "    </tr>\n",
       "    <tr>\n",
       "      <th>14</th>\n",
       "      <td>South Africa</td>\n",
       "      <td>20.00</td>\n",
       "    </tr>\n",
       "    <tr>\n",
       "      <th>15</th>\n",
       "      <td>Spain</td>\n",
       "      <td>25.00</td>\n",
       "    </tr>\n",
       "    <tr>\n",
       "      <th>16</th>\n",
       "      <td>United Kingdom</td>\n",
       "      <td>19.00</td>\n",
       "    </tr>\n",
       "    <tr>\n",
       "      <th>17</th>\n",
       "      <td>United States</td>\n",
       "      <td>25.77</td>\n",
       "    </tr>\n",
       "    <tr>\n",
       "      <th>18</th>\n",
       "      <td>Vitenam</td>\n",
       "      <td>5.00</td>\n",
       "    </tr>\n",
       "  </tbody>\n",
       "</table>\n",
       "</div>"
      ],
      "text/plain": [
       "           Country  Dividend Tax\n",
       "0        Argentina         13.00\n",
       "1           Brazil          0.00\n",
       "2           Canada         26.44\n",
       "3            China         20.00\n",
       "4           France         32.02\n",
       "5          Germany         29.90\n",
       "6            India         10.00\n",
       "7           Israel         23.00\n",
       "8            Japan         29.74\n",
       "9           Mexico         30.00\n",
       "10          Poland         19.00\n",
       "11        Portugal         31.50\n",
       "12          Russia         13.00\n",
       "13       Singapore          0.00\n",
       "14    South Africa         20.00\n",
       "15           Spain         25.00\n",
       "16  United Kingdom         19.00\n",
       "17   United States         25.77\n",
       "18         Vitenam          5.00"
      ]
     },
     "execution_count": 19,
     "metadata": {},
     "output_type": "execute_result"
    }
   ],
   "source": [
    "# Ordering df by country name and reseting index.\n",
    "divdnd_tax_final.sort_values('Country', inplace=True)\n",
    "divdnd_tax_final.reset_index(drop=True, inplace=True)\n",
    "divdnd_tax_final"
   ]
  },
  {
   "cell_type": "markdown",
   "metadata": {},
   "source": [
    "**Treating pax_tax**"
   ]
  },
  {
   "cell_type": "code",
   "execution_count": 20,
   "metadata": {},
   "outputs": [
    {
     "data": {
      "text/html": [
       "<div>\n",
       "<style scoped>\n",
       "    .dataframe tbody tr th:only-of-type {\n",
       "        vertical-align: middle;\n",
       "    }\n",
       "\n",
       "    .dataframe tbody tr th {\n",
       "        vertical-align: top;\n",
       "    }\n",
       "\n",
       "    .dataframe thead th {\n",
       "        text-align: right;\n",
       "    }\n",
       "</style>\n",
       "<table border=\"1\" class=\"dataframe\">\n",
       "  <thead>\n",
       "    <tr style=\"text-align: right;\">\n",
       "      <th></th>\n",
       "      <th>Country</th>\n",
       "      <th>Last</th>\n",
       "    </tr>\n",
       "  </thead>\n",
       "  <tbody>\n",
       "    <tr>\n",
       "      <th>0</th>\n",
       "      <td>Ivory Coast</td>\n",
       "      <td>60.00</td>\n",
       "    </tr>\n",
       "    <tr>\n",
       "      <th>1</th>\n",
       "      <td>Sweden</td>\n",
       "      <td>57.20</td>\n",
       "    </tr>\n",
       "    <tr>\n",
       "      <th>2</th>\n",
       "      <td>Finland</td>\n",
       "      <td>56.95</td>\n",
       "    </tr>\n",
       "    <tr>\n",
       "      <th>3</th>\n",
       "      <td>Japan</td>\n",
       "      <td>55.95</td>\n",
       "    </tr>\n",
       "    <tr>\n",
       "      <th>4</th>\n",
       "      <td>Denmark</td>\n",
       "      <td>55.80</td>\n",
       "    </tr>\n",
       "    <tr>\n",
       "      <th>...</th>\n",
       "      <td>...</td>\n",
       "      <td>...</td>\n",
       "    </tr>\n",
       "    <tr>\n",
       "      <th>152</th>\n",
       "      <td>Kuwait</td>\n",
       "      <td>0.00</td>\n",
       "    </tr>\n",
       "    <tr>\n",
       "      <th>153</th>\n",
       "      <td>Oman</td>\n",
       "      <td>0.00</td>\n",
       "    </tr>\n",
       "    <tr>\n",
       "      <th>154</th>\n",
       "      <td>Qatar</td>\n",
       "      <td>0.00</td>\n",
       "    </tr>\n",
       "    <tr>\n",
       "      <th>155</th>\n",
       "      <td>Saudi Arabia</td>\n",
       "      <td>0.00</td>\n",
       "    </tr>\n",
       "    <tr>\n",
       "      <th>156</th>\n",
       "      <td>United Arab Emirates</td>\n",
       "      <td>0.00</td>\n",
       "    </tr>\n",
       "  </tbody>\n",
       "</table>\n",
       "<p>157 rows × 2 columns</p>\n",
       "</div>"
      ],
      "text/plain": [
       "                  Country   Last\n",
       "0             Ivory Coast  60.00\n",
       "1                  Sweden  57.20\n",
       "2                 Finland  56.95\n",
       "3                   Japan  55.95\n",
       "4                 Denmark  55.80\n",
       "..                    ...    ...\n",
       "152                Kuwait   0.00\n",
       "153                  Oman   0.00\n",
       "154                 Qatar   0.00\n",
       "155          Saudi Arabia   0.00\n",
       "156  United Arab Emirates   0.00\n",
       "\n",
       "[157 rows x 2 columns]"
      ]
     },
     "execution_count": 20,
     "metadata": {},
     "output_type": "execute_result"
    }
   ],
   "source": [
    "pax_tax"
   ]
  },
  {
   "cell_type": "code",
   "execution_count": 21,
   "metadata": {},
   "outputs": [],
   "source": [
    "#Selecting only the countries in 'countries'.\n",
    "pax_tax_final = pax_tax[pax_tax['Country'].isin(countries)]"
   ]
  },
  {
   "cell_type": "code",
   "execution_count": 22,
   "metadata": {},
   "outputs": [
    {
     "name": "stderr",
     "output_type": "stream",
     "text": [
      "<ipython-input-22-16386f816ed3>:2: SettingWithCopyWarning: \n",
      "A value is trying to be set on a copy of a slice from a DataFrame\n",
      "\n",
      "See the caveats in the documentation: https://pandas.pydata.org/pandas-docs/stable/user_guide/indexing.html#returning-a-view-versus-a-copy\n",
      "  pax_tax_final.sort_values('Country', inplace=True)\n"
     ]
    }
   ],
   "source": [
    "#Sorting df by country name.\n",
    "pax_tax_final.sort_values('Country', inplace=True)"
   ]
  },
  {
   "cell_type": "code",
   "execution_count": 23,
   "metadata": {},
   "outputs": [
    {
     "data": {
      "text/html": [
       "<div>\n",
       "<style scoped>\n",
       "    .dataframe tbody tr th:only-of-type {\n",
       "        vertical-align: middle;\n",
       "    }\n",
       "\n",
       "    .dataframe tbody tr th {\n",
       "        vertical-align: top;\n",
       "    }\n",
       "\n",
       "    .dataframe thead th {\n",
       "        text-align: right;\n",
       "    }\n",
       "</style>\n",
       "<table border=\"1\" class=\"dataframe\">\n",
       "  <thead>\n",
       "    <tr style=\"text-align: right;\">\n",
       "      <th></th>\n",
       "      <th>Country</th>\n",
       "      <th>Last</th>\n",
       "    </tr>\n",
       "  </thead>\n",
       "  <tbody>\n",
       "    <tr>\n",
       "      <th>0</th>\n",
       "      <td>Argentina</td>\n",
       "      <td>35.00</td>\n",
       "    </tr>\n",
       "    <tr>\n",
       "      <th>1</th>\n",
       "      <td>Brazil</td>\n",
       "      <td>27.50</td>\n",
       "    </tr>\n",
       "    <tr>\n",
       "      <th>2</th>\n",
       "      <td>Canada</td>\n",
       "      <td>33.00</td>\n",
       "    </tr>\n",
       "    <tr>\n",
       "      <th>3</th>\n",
       "      <td>China</td>\n",
       "      <td>45.00</td>\n",
       "    </tr>\n",
       "    <tr>\n",
       "      <th>4</th>\n",
       "      <td>France</td>\n",
       "      <td>45.00</td>\n",
       "    </tr>\n",
       "    <tr>\n",
       "      <th>5</th>\n",
       "      <td>Germany</td>\n",
       "      <td>45.00</td>\n",
       "    </tr>\n",
       "    <tr>\n",
       "      <th>6</th>\n",
       "      <td>India</td>\n",
       "      <td>35.88</td>\n",
       "    </tr>\n",
       "    <tr>\n",
       "      <th>7</th>\n",
       "      <td>Israel</td>\n",
       "      <td>50.00</td>\n",
       "    </tr>\n",
       "    <tr>\n",
       "      <th>8</th>\n",
       "      <td>Japan</td>\n",
       "      <td>55.95</td>\n",
       "    </tr>\n",
       "    <tr>\n",
       "      <th>9</th>\n",
       "      <td>Mexico</td>\n",
       "      <td>35.00</td>\n",
       "    </tr>\n",
       "    <tr>\n",
       "      <th>10</th>\n",
       "      <td>Poland</td>\n",
       "      <td>32.00</td>\n",
       "    </tr>\n",
       "    <tr>\n",
       "      <th>11</th>\n",
       "      <td>Portugal</td>\n",
       "      <td>48.00</td>\n",
       "    </tr>\n",
       "    <tr>\n",
       "      <th>12</th>\n",
       "      <td>Russia</td>\n",
       "      <td>13.00</td>\n",
       "    </tr>\n",
       "    <tr>\n",
       "      <th>13</th>\n",
       "      <td>Singapore</td>\n",
       "      <td>22.00</td>\n",
       "    </tr>\n",
       "    <tr>\n",
       "      <th>14</th>\n",
       "      <td>South Africa</td>\n",
       "      <td>45.00</td>\n",
       "    </tr>\n",
       "    <tr>\n",
       "      <th>15</th>\n",
       "      <td>Spain</td>\n",
       "      <td>45.00</td>\n",
       "    </tr>\n",
       "    <tr>\n",
       "      <th>16</th>\n",
       "      <td>United Kingdom</td>\n",
       "      <td>45.00</td>\n",
       "    </tr>\n",
       "    <tr>\n",
       "      <th>17</th>\n",
       "      <td>United States</td>\n",
       "      <td>37.00</td>\n",
       "    </tr>\n",
       "    <tr>\n",
       "      <th>18</th>\n",
       "      <td>Vietnam</td>\n",
       "      <td>35.00</td>\n",
       "    </tr>\n",
       "  </tbody>\n",
       "</table>\n",
       "</div>"
      ],
      "text/plain": [
       "           Country   Last\n",
       "0        Argentina  35.00\n",
       "1           Brazil  27.50\n",
       "2           Canada  33.00\n",
       "3            China  45.00\n",
       "4           France  45.00\n",
       "5          Germany  45.00\n",
       "6            India  35.88\n",
       "7           Israel  50.00\n",
       "8            Japan  55.95\n",
       "9           Mexico  35.00\n",
       "10          Poland  32.00\n",
       "11        Portugal  48.00\n",
       "12          Russia  13.00\n",
       "13       Singapore  22.00\n",
       "14    South Africa  45.00\n",
       "15           Spain  45.00\n",
       "16  United Kingdom  45.00\n",
       "17   United States  37.00\n",
       "18         Vietnam  35.00"
      ]
     },
     "execution_count": 23,
     "metadata": {},
     "output_type": "execute_result"
    }
   ],
   "source": [
    "#Reseting index.\n",
    "pax_tax_final.reset_index(drop=True, inplace=True)\n",
    "pax_tax_final"
   ]
  },
  {
   "cell_type": "code",
   "execution_count": 24,
   "metadata": {},
   "outputs": [
    {
     "name": "stderr",
     "output_type": "stream",
     "text": [
      "D:\\Anaconda\\lib\\site-packages\\pandas\\core\\frame.py:4125: SettingWithCopyWarning: \n",
      "A value is trying to be set on a copy of a slice from a DataFrame\n",
      "\n",
      "See the caveats in the documentation: https://pandas.pydata.org/pandas-docs/stable/user_guide/indexing.html#returning-a-view-versus-a-copy\n",
      "  return super().rename(\n"
     ]
    },
    {
     "data": {
      "text/html": [
       "<div>\n",
       "<style scoped>\n",
       "    .dataframe tbody tr th:only-of-type {\n",
       "        vertical-align: middle;\n",
       "    }\n",
       "\n",
       "    .dataframe tbody tr th {\n",
       "        vertical-align: top;\n",
       "    }\n",
       "\n",
       "    .dataframe thead th {\n",
       "        text-align: right;\n",
       "    }\n",
       "</style>\n",
       "<table border=\"1\" class=\"dataframe\">\n",
       "  <thead>\n",
       "    <tr style=\"text-align: right;\">\n",
       "      <th></th>\n",
       "      <th>Country</th>\n",
       "      <th>Personal Income Tax</th>\n",
       "    </tr>\n",
       "  </thead>\n",
       "  <tbody>\n",
       "    <tr>\n",
       "      <th>0</th>\n",
       "      <td>Argentina</td>\n",
       "      <td>35.00</td>\n",
       "    </tr>\n",
       "    <tr>\n",
       "      <th>1</th>\n",
       "      <td>Brazil</td>\n",
       "      <td>27.50</td>\n",
       "    </tr>\n",
       "    <tr>\n",
       "      <th>2</th>\n",
       "      <td>Canada</td>\n",
       "      <td>33.00</td>\n",
       "    </tr>\n",
       "    <tr>\n",
       "      <th>3</th>\n",
       "      <td>China</td>\n",
       "      <td>45.00</td>\n",
       "    </tr>\n",
       "    <tr>\n",
       "      <th>4</th>\n",
       "      <td>France</td>\n",
       "      <td>45.00</td>\n",
       "    </tr>\n",
       "    <tr>\n",
       "      <th>5</th>\n",
       "      <td>Germany</td>\n",
       "      <td>45.00</td>\n",
       "    </tr>\n",
       "    <tr>\n",
       "      <th>6</th>\n",
       "      <td>India</td>\n",
       "      <td>35.88</td>\n",
       "    </tr>\n",
       "    <tr>\n",
       "      <th>7</th>\n",
       "      <td>Israel</td>\n",
       "      <td>50.00</td>\n",
       "    </tr>\n",
       "    <tr>\n",
       "      <th>8</th>\n",
       "      <td>Japan</td>\n",
       "      <td>55.95</td>\n",
       "    </tr>\n",
       "    <tr>\n",
       "      <th>9</th>\n",
       "      <td>Mexico</td>\n",
       "      <td>35.00</td>\n",
       "    </tr>\n",
       "    <tr>\n",
       "      <th>10</th>\n",
       "      <td>Poland</td>\n",
       "      <td>32.00</td>\n",
       "    </tr>\n",
       "    <tr>\n",
       "      <th>11</th>\n",
       "      <td>Portugal</td>\n",
       "      <td>48.00</td>\n",
       "    </tr>\n",
       "    <tr>\n",
       "      <th>12</th>\n",
       "      <td>Russia</td>\n",
       "      <td>13.00</td>\n",
       "    </tr>\n",
       "    <tr>\n",
       "      <th>13</th>\n",
       "      <td>Singapore</td>\n",
       "      <td>22.00</td>\n",
       "    </tr>\n",
       "    <tr>\n",
       "      <th>14</th>\n",
       "      <td>South Africa</td>\n",
       "      <td>45.00</td>\n",
       "    </tr>\n",
       "    <tr>\n",
       "      <th>15</th>\n",
       "      <td>Spain</td>\n",
       "      <td>45.00</td>\n",
       "    </tr>\n",
       "    <tr>\n",
       "      <th>16</th>\n",
       "      <td>United Kingdom</td>\n",
       "      <td>45.00</td>\n",
       "    </tr>\n",
       "    <tr>\n",
       "      <th>17</th>\n",
       "      <td>United States</td>\n",
       "      <td>37.00</td>\n",
       "    </tr>\n",
       "    <tr>\n",
       "      <th>18</th>\n",
       "      <td>Vietnam</td>\n",
       "      <td>35.00</td>\n",
       "    </tr>\n",
       "  </tbody>\n",
       "</table>\n",
       "</div>"
      ],
      "text/plain": [
       "           Country  Personal Income Tax\n",
       "0        Argentina                35.00\n",
       "1           Brazil                27.50\n",
       "2           Canada                33.00\n",
       "3            China                45.00\n",
       "4           France                45.00\n",
       "5          Germany                45.00\n",
       "6            India                35.88\n",
       "7           Israel                50.00\n",
       "8            Japan                55.95\n",
       "9           Mexico                35.00\n",
       "10          Poland                32.00\n",
       "11        Portugal                48.00\n",
       "12          Russia                13.00\n",
       "13       Singapore                22.00\n",
       "14    South Africa                45.00\n",
       "15           Spain                45.00\n",
       "16  United Kingdom                45.00\n",
       "17   United States                37.00\n",
       "18         Vietnam                35.00"
      ]
     },
     "execution_count": 24,
     "metadata": {},
     "output_type": "execute_result"
    }
   ],
   "source": [
    "pax_tax_final.rename(columns={'Last': 'Personal Income Tax'}, inplace=True)\n",
    "pax_tax_final"
   ]
  },
  {
   "cell_type": "markdown",
   "metadata": {},
   "source": [
    "**Treating sales_tax**"
   ]
  },
  {
   "cell_type": "code",
   "execution_count": 25,
   "metadata": {},
   "outputs": [
    {
     "data": {
      "text/html": [
       "<div>\n",
       "<style scoped>\n",
       "    .dataframe tbody tr th:only-of-type {\n",
       "        vertical-align: middle;\n",
       "    }\n",
       "\n",
       "    .dataframe tbody tr th {\n",
       "        vertical-align: top;\n",
       "    }\n",
       "\n",
       "    .dataframe thead th {\n",
       "        text-align: right;\n",
       "    }\n",
       "</style>\n",
       "<table border=\"1\" class=\"dataframe\">\n",
       "  <thead>\n",
       "    <tr style=\"text-align: right;\">\n",
       "      <th></th>\n",
       "      <th>Country</th>\n",
       "      <th>VAT tax system</th>\n",
       "      <th>Complex Tax System</th>\n",
       "      <th>Unnamed: 3</th>\n",
       "    </tr>\n",
       "  </thead>\n",
       "  <tbody>\n",
       "    <tr>\n",
       "      <th>0</th>\n",
       "      <td>Bhutan</td>\n",
       "      <td>50</td>\n",
       "      <td>NaN</td>\n",
       "      <td>NaN</td>\n",
       "    </tr>\n",
       "    <tr>\n",
       "      <th>1</th>\n",
       "      <td>Hungary</td>\n",
       "      <td>27</td>\n",
       "      <td>NaN</td>\n",
       "      <td>NaN</td>\n",
       "    </tr>\n",
       "    <tr>\n",
       "      <th>2</th>\n",
       "      <td>Croatia</td>\n",
       "      <td>25</td>\n",
       "      <td>NaN</td>\n",
       "      <td>NaN</td>\n",
       "    </tr>\n",
       "    <tr>\n",
       "      <th>3</th>\n",
       "      <td>Denmark</td>\n",
       "      <td>25</td>\n",
       "      <td>NaN</td>\n",
       "      <td>NaN</td>\n",
       "    </tr>\n",
       "    <tr>\n",
       "      <th>4</th>\n",
       "      <td>Norway</td>\n",
       "      <td>25</td>\n",
       "      <td>NaN</td>\n",
       "      <td>NaN</td>\n",
       "    </tr>\n",
       "    <tr>\n",
       "      <th>...</th>\n",
       "      <td>...</td>\n",
       "      <td>...</td>\n",
       "      <td>...</td>\n",
       "      <td>...</td>\n",
       "    </tr>\n",
       "    <tr>\n",
       "      <th>174</th>\n",
       "      <td>Andorra</td>\n",
       "      <td>4.5</td>\n",
       "      <td>NaN</td>\n",
       "      <td>NaN</td>\n",
       "    </tr>\n",
       "    <tr>\n",
       "      <th>175</th>\n",
       "      <td>Guam</td>\n",
       "      <td>2</td>\n",
       "      <td>NaN</td>\n",
       "      <td>NaN</td>\n",
       "    </tr>\n",
       "    <tr>\n",
       "      <th>176</th>\n",
       "      <td>Aruba</td>\n",
       "      <td>1.5</td>\n",
       "      <td>NaN</td>\n",
       "      <td>NaN</td>\n",
       "    </tr>\n",
       "    <tr>\n",
       "      <th>177</th>\n",
       "      <td>Oman</td>\n",
       "      <td>0</td>\n",
       "      <td>NaN</td>\n",
       "      <td>NaN</td>\n",
       "    </tr>\n",
       "    <tr>\n",
       "      <th>178</th>\n",
       "      <td>United States</td>\n",
       "      <td>State + local taxes (average)</td>\n",
       "      <td>7.0</td>\n",
       "      <td>https://en.wikipedia.org/wiki/Sales_taxes_in_t...</td>\n",
       "    </tr>\n",
       "  </tbody>\n",
       "</table>\n",
       "<p>179 rows × 4 columns</p>\n",
       "</div>"
      ],
      "text/plain": [
       "           Country                 VAT tax system  Complex Tax System  \\\n",
       "0           Bhutan                             50                 NaN   \n",
       "1          Hungary                             27                 NaN   \n",
       "2          Croatia                             25                 NaN   \n",
       "3          Denmark                             25                 NaN   \n",
       "4           Norway                             25                 NaN   \n",
       "..             ...                            ...                 ...   \n",
       "174        Andorra                            4.5                 NaN   \n",
       "175           Guam                              2                 NaN   \n",
       "176          Aruba                            1.5                 NaN   \n",
       "177           Oman                              0                 NaN   \n",
       "178  United States  State + local taxes (average)                 7.0   \n",
       "\n",
       "                                            Unnamed: 3  \n",
       "0                                                  NaN  \n",
       "1                                                  NaN  \n",
       "2                                                  NaN  \n",
       "3                                                  NaN  \n",
       "4                                                  NaN  \n",
       "..                                                 ...  \n",
       "174                                                NaN  \n",
       "175                                                NaN  \n",
       "176                                                NaN  \n",
       "177                                                NaN  \n",
       "178  https://en.wikipedia.org/wiki/Sales_taxes_in_t...  \n",
       "\n",
       "[179 rows x 4 columns]"
      ]
     },
     "execution_count": 25,
     "metadata": {},
     "output_type": "execute_result"
    }
   ],
   "source": [
    "sales_tax"
   ]
  },
  {
   "cell_type": "code",
   "execution_count": 26,
   "metadata": {},
   "outputs": [
    {
     "data": {
      "text/html": [
       "<div>\n",
       "<style scoped>\n",
       "    .dataframe tbody tr th:only-of-type {\n",
       "        vertical-align: middle;\n",
       "    }\n",
       "\n",
       "    .dataframe tbody tr th {\n",
       "        vertical-align: top;\n",
       "    }\n",
       "\n",
       "    .dataframe thead th {\n",
       "        text-align: right;\n",
       "    }\n",
       "</style>\n",
       "<table border=\"1\" class=\"dataframe\">\n",
       "  <thead>\n",
       "    <tr style=\"text-align: right;\">\n",
       "      <th></th>\n",
       "      <th>Country</th>\n",
       "      <th>VAT tax system</th>\n",
       "      <th>Complex Tax System</th>\n",
       "      <th>Unnamed: 3</th>\n",
       "    </tr>\n",
       "  </thead>\n",
       "  <tbody>\n",
       "    <tr>\n",
       "      <th>10</th>\n",
       "      <td>Poland</td>\n",
       "      <td>23</td>\n",
       "      <td>NaN</td>\n",
       "      <td>NaN</td>\n",
       "    </tr>\n",
       "    <tr>\n",
       "      <th>11</th>\n",
       "      <td>Portugal</td>\n",
       "      <td>23</td>\n",
       "      <td>NaN</td>\n",
       "      <td>NaN</td>\n",
       "    </tr>\n",
       "    <tr>\n",
       "      <th>16</th>\n",
       "      <td>Argentina</td>\n",
       "      <td>21</td>\n",
       "      <td>NaN</td>\n",
       "      <td>NaN</td>\n",
       "    </tr>\n",
       "    <tr>\n",
       "      <th>23</th>\n",
       "      <td>Spain</td>\n",
       "      <td>21</td>\n",
       "      <td>NaN</td>\n",
       "      <td>NaN</td>\n",
       "    </tr>\n",
       "    <tr>\n",
       "      <th>32</th>\n",
       "      <td>France</td>\n",
       "      <td>20</td>\n",
       "      <td>NaN</td>\n",
       "      <td>NaN</td>\n",
       "    </tr>\n",
       "    <tr>\n",
       "      <th>38</th>\n",
       "      <td>Russia</td>\n",
       "      <td>20</td>\n",
       "      <td>NaN</td>\n",
       "      <td>NaN</td>\n",
       "    </tr>\n",
       "    <tr>\n",
       "      <th>42</th>\n",
       "      <td>United Kingdom</td>\n",
       "      <td>20</td>\n",
       "      <td>NaN</td>\n",
       "      <td>NaN</td>\n",
       "    </tr>\n",
       "    <tr>\n",
       "      <th>63</th>\n",
       "      <td>India</td>\n",
       "      <td>18</td>\n",
       "      <td>NaN</td>\n",
       "      <td>NaN</td>\n",
       "    </tr>\n",
       "    <tr>\n",
       "      <th>79</th>\n",
       "      <td>Brazil</td>\n",
       "      <td>State + local taxes (average)</td>\n",
       "      <td>38.0</td>\n",
       "      <td>NaN</td>\n",
       "    </tr>\n",
       "    <tr>\n",
       "      <th>80</th>\n",
       "      <td>Israel</td>\n",
       "      <td>17</td>\n",
       "      <td>NaN</td>\n",
       "      <td>NaN</td>\n",
       "    </tr>\n",
       "    <tr>\n",
       "      <th>88</th>\n",
       "      <td>Germany</td>\n",
       "      <td>16</td>\n",
       "      <td>NaN</td>\n",
       "      <td>NaN</td>\n",
       "    </tr>\n",
       "    <tr>\n",
       "      <th>91</th>\n",
       "      <td>Mexico</td>\n",
       "      <td>16</td>\n",
       "      <td>NaN</td>\n",
       "      <td>NaN</td>\n",
       "    </tr>\n",
       "    <tr>\n",
       "      <th>112</th>\n",
       "      <td>South Africa</td>\n",
       "      <td>15</td>\n",
       "      <td>NaN</td>\n",
       "      <td>NaN</td>\n",
       "    </tr>\n",
       "    <tr>\n",
       "      <th>124</th>\n",
       "      <td>China</td>\n",
       "      <td>13</td>\n",
       "      <td>NaN</td>\n",
       "      <td>NaN</td>\n",
       "    </tr>\n",
       "    <tr>\n",
       "      <th>146</th>\n",
       "      <td>Japan</td>\n",
       "      <td>10</td>\n",
       "      <td>NaN</td>\n",
       "      <td>NaN</td>\n",
       "    </tr>\n",
       "    <tr>\n",
       "      <th>156</th>\n",
       "      <td>Vietnam</td>\n",
       "      <td>10</td>\n",
       "      <td>NaN</td>\n",
       "      <td>NaN</td>\n",
       "    </tr>\n",
       "    <tr>\n",
       "      <th>164</th>\n",
       "      <td>Singapore</td>\n",
       "      <td>7</td>\n",
       "      <td>NaN</td>\n",
       "      <td>NaN</td>\n",
       "    </tr>\n",
       "    <tr>\n",
       "      <th>167</th>\n",
       "      <td>Canada</td>\n",
       "      <td>5</td>\n",
       "      <td>NaN</td>\n",
       "      <td>NaN</td>\n",
       "    </tr>\n",
       "    <tr>\n",
       "      <th>178</th>\n",
       "      <td>United States</td>\n",
       "      <td>State + local taxes (average)</td>\n",
       "      <td>7.0</td>\n",
       "      <td>https://en.wikipedia.org/wiki/Sales_taxes_in_t...</td>\n",
       "    </tr>\n",
       "  </tbody>\n",
       "</table>\n",
       "</div>"
      ],
      "text/plain": [
       "            Country                 VAT tax system  Complex Tax System  \\\n",
       "10           Poland                             23                 NaN   \n",
       "11         Portugal                             23                 NaN   \n",
       "16        Argentina                             21                 NaN   \n",
       "23            Spain                             21                 NaN   \n",
       "32           France                             20                 NaN   \n",
       "38           Russia                             20                 NaN   \n",
       "42   United Kingdom                             20                 NaN   \n",
       "63            India                             18                 NaN   \n",
       "79           Brazil  State + local taxes (average)                38.0   \n",
       "80           Israel                             17                 NaN   \n",
       "88          Germany                             16                 NaN   \n",
       "91           Mexico                             16                 NaN   \n",
       "112    South Africa                             15                 NaN   \n",
       "124           China                             13                 NaN   \n",
       "146           Japan                             10                 NaN   \n",
       "156         Vietnam                             10                 NaN   \n",
       "164       Singapore                              7                 NaN   \n",
       "167          Canada                              5                 NaN   \n",
       "178   United States  State + local taxes (average)                 7.0   \n",
       "\n",
       "                                            Unnamed: 3  \n",
       "10                                                 NaN  \n",
       "11                                                 NaN  \n",
       "16                                                 NaN  \n",
       "23                                                 NaN  \n",
       "32                                                 NaN  \n",
       "38                                                 NaN  \n",
       "42                                                 NaN  \n",
       "63                                                 NaN  \n",
       "79                                                 NaN  \n",
       "80                                                 NaN  \n",
       "88                                                 NaN  \n",
       "91                                                 NaN  \n",
       "112                                                NaN  \n",
       "124                                                NaN  \n",
       "146                                                NaN  \n",
       "156                                                NaN  \n",
       "164                                                NaN  \n",
       "167                                                NaN  \n",
       "178  https://en.wikipedia.org/wiki/Sales_taxes_in_t...  "
      ]
     },
     "execution_count": 26,
     "metadata": {},
     "output_type": "execute_result"
    }
   ],
   "source": [
    "#Selecting countries.\n",
    "sales_tax_final = sales_tax[sales_tax['Country'].isin(countries)]\n",
    "sales_tax_final"
   ]
  },
  {
   "cell_type": "code",
   "execution_count": 27,
   "metadata": {},
   "outputs": [
    {
     "name": "stderr",
     "output_type": "stream",
     "text": [
      "<ipython-input-27-c71887d26f27>:2: SettingWithCopyWarning: \n",
      "A value is trying to be set on a copy of a slice from a DataFrame\n",
      "\n",
      "See the caveats in the documentation: https://pandas.pydata.org/pandas-docs/stable/user_guide/indexing.html#returning-a-view-versus-a-copy\n",
      "  sales_tax_final.sort_values('Country', inplace=True)\n"
     ]
    },
    {
     "data": {
      "text/html": [
       "<div>\n",
       "<style scoped>\n",
       "    .dataframe tbody tr th:only-of-type {\n",
       "        vertical-align: middle;\n",
       "    }\n",
       "\n",
       "    .dataframe tbody tr th {\n",
       "        vertical-align: top;\n",
       "    }\n",
       "\n",
       "    .dataframe thead th {\n",
       "        text-align: right;\n",
       "    }\n",
       "</style>\n",
       "<table border=\"1\" class=\"dataframe\">\n",
       "  <thead>\n",
       "    <tr style=\"text-align: right;\">\n",
       "      <th></th>\n",
       "      <th>Country</th>\n",
       "      <th>VAT tax system</th>\n",
       "      <th>Complex Tax System</th>\n",
       "      <th>Unnamed: 3</th>\n",
       "    </tr>\n",
       "  </thead>\n",
       "  <tbody>\n",
       "    <tr>\n",
       "      <th>16</th>\n",
       "      <td>Argentina</td>\n",
       "      <td>21</td>\n",
       "      <td>NaN</td>\n",
       "      <td>NaN</td>\n",
       "    </tr>\n",
       "    <tr>\n",
       "      <th>79</th>\n",
       "      <td>Brazil</td>\n",
       "      <td>State + local taxes (average)</td>\n",
       "      <td>38.0</td>\n",
       "      <td>NaN</td>\n",
       "    </tr>\n",
       "    <tr>\n",
       "      <th>167</th>\n",
       "      <td>Canada</td>\n",
       "      <td>5</td>\n",
       "      <td>NaN</td>\n",
       "      <td>NaN</td>\n",
       "    </tr>\n",
       "    <tr>\n",
       "      <th>124</th>\n",
       "      <td>China</td>\n",
       "      <td>13</td>\n",
       "      <td>NaN</td>\n",
       "      <td>NaN</td>\n",
       "    </tr>\n",
       "    <tr>\n",
       "      <th>32</th>\n",
       "      <td>France</td>\n",
       "      <td>20</td>\n",
       "      <td>NaN</td>\n",
       "      <td>NaN</td>\n",
       "    </tr>\n",
       "    <tr>\n",
       "      <th>88</th>\n",
       "      <td>Germany</td>\n",
       "      <td>16</td>\n",
       "      <td>NaN</td>\n",
       "      <td>NaN</td>\n",
       "    </tr>\n",
       "    <tr>\n",
       "      <th>63</th>\n",
       "      <td>India</td>\n",
       "      <td>18</td>\n",
       "      <td>NaN</td>\n",
       "      <td>NaN</td>\n",
       "    </tr>\n",
       "    <tr>\n",
       "      <th>80</th>\n",
       "      <td>Israel</td>\n",
       "      <td>17</td>\n",
       "      <td>NaN</td>\n",
       "      <td>NaN</td>\n",
       "    </tr>\n",
       "    <tr>\n",
       "      <th>146</th>\n",
       "      <td>Japan</td>\n",
       "      <td>10</td>\n",
       "      <td>NaN</td>\n",
       "      <td>NaN</td>\n",
       "    </tr>\n",
       "    <tr>\n",
       "      <th>91</th>\n",
       "      <td>Mexico</td>\n",
       "      <td>16</td>\n",
       "      <td>NaN</td>\n",
       "      <td>NaN</td>\n",
       "    </tr>\n",
       "    <tr>\n",
       "      <th>10</th>\n",
       "      <td>Poland</td>\n",
       "      <td>23</td>\n",
       "      <td>NaN</td>\n",
       "      <td>NaN</td>\n",
       "    </tr>\n",
       "    <tr>\n",
       "      <th>11</th>\n",
       "      <td>Portugal</td>\n",
       "      <td>23</td>\n",
       "      <td>NaN</td>\n",
       "      <td>NaN</td>\n",
       "    </tr>\n",
       "    <tr>\n",
       "      <th>38</th>\n",
       "      <td>Russia</td>\n",
       "      <td>20</td>\n",
       "      <td>NaN</td>\n",
       "      <td>NaN</td>\n",
       "    </tr>\n",
       "    <tr>\n",
       "      <th>164</th>\n",
       "      <td>Singapore</td>\n",
       "      <td>7</td>\n",
       "      <td>NaN</td>\n",
       "      <td>NaN</td>\n",
       "    </tr>\n",
       "    <tr>\n",
       "      <th>112</th>\n",
       "      <td>South Africa</td>\n",
       "      <td>15</td>\n",
       "      <td>NaN</td>\n",
       "      <td>NaN</td>\n",
       "    </tr>\n",
       "    <tr>\n",
       "      <th>23</th>\n",
       "      <td>Spain</td>\n",
       "      <td>21</td>\n",
       "      <td>NaN</td>\n",
       "      <td>NaN</td>\n",
       "    </tr>\n",
       "    <tr>\n",
       "      <th>42</th>\n",
       "      <td>United Kingdom</td>\n",
       "      <td>20</td>\n",
       "      <td>NaN</td>\n",
       "      <td>NaN</td>\n",
       "    </tr>\n",
       "    <tr>\n",
       "      <th>178</th>\n",
       "      <td>United States</td>\n",
       "      <td>State + local taxes (average)</td>\n",
       "      <td>7.0</td>\n",
       "      <td>https://en.wikipedia.org/wiki/Sales_taxes_in_t...</td>\n",
       "    </tr>\n",
       "    <tr>\n",
       "      <th>156</th>\n",
       "      <td>Vietnam</td>\n",
       "      <td>10</td>\n",
       "      <td>NaN</td>\n",
       "      <td>NaN</td>\n",
       "    </tr>\n",
       "  </tbody>\n",
       "</table>\n",
       "</div>"
      ],
      "text/plain": [
       "            Country                 VAT tax system  Complex Tax System  \\\n",
       "16        Argentina                             21                 NaN   \n",
       "79           Brazil  State + local taxes (average)                38.0   \n",
       "167          Canada                              5                 NaN   \n",
       "124           China                             13                 NaN   \n",
       "32           France                             20                 NaN   \n",
       "88          Germany                             16                 NaN   \n",
       "63            India                             18                 NaN   \n",
       "80           Israel                             17                 NaN   \n",
       "146           Japan                             10                 NaN   \n",
       "91           Mexico                             16                 NaN   \n",
       "10           Poland                             23                 NaN   \n",
       "11         Portugal                             23                 NaN   \n",
       "38           Russia                             20                 NaN   \n",
       "164       Singapore                              7                 NaN   \n",
       "112    South Africa                             15                 NaN   \n",
       "23            Spain                             21                 NaN   \n",
       "42   United Kingdom                             20                 NaN   \n",
       "178   United States  State + local taxes (average)                 7.0   \n",
       "156         Vietnam                             10                 NaN   \n",
       "\n",
       "                                            Unnamed: 3  \n",
       "16                                                 NaN  \n",
       "79                                                 NaN  \n",
       "167                                                NaN  \n",
       "124                                                NaN  \n",
       "32                                                 NaN  \n",
       "88                                                 NaN  \n",
       "63                                                 NaN  \n",
       "80                                                 NaN  \n",
       "146                                                NaN  \n",
       "91                                                 NaN  \n",
       "10                                                 NaN  \n",
       "11                                                 NaN  \n",
       "38                                                 NaN  \n",
       "164                                                NaN  \n",
       "112                                                NaN  \n",
       "23                                                 NaN  \n",
       "42                                                 NaN  \n",
       "178  https://en.wikipedia.org/wiki/Sales_taxes_in_t...  \n",
       "156                                                NaN  "
      ]
     },
     "execution_count": 27,
     "metadata": {},
     "output_type": "execute_result"
    }
   ],
   "source": [
    "#Sorting alphabetically by countries names.\n",
    "sales_tax_final.sort_values('Country', inplace=True)\n",
    "sales_tax_final"
   ]
  },
  {
   "cell_type": "code",
   "execution_count": 28,
   "metadata": {},
   "outputs": [
    {
     "data": {
      "text/html": [
       "<div>\n",
       "<style scoped>\n",
       "    .dataframe tbody tr th:only-of-type {\n",
       "        vertical-align: middle;\n",
       "    }\n",
       "\n",
       "    .dataframe tbody tr th {\n",
       "        vertical-align: top;\n",
       "    }\n",
       "\n",
       "    .dataframe thead th {\n",
       "        text-align: right;\n",
       "    }\n",
       "</style>\n",
       "<table border=\"1\" class=\"dataframe\">\n",
       "  <thead>\n",
       "    <tr style=\"text-align: right;\">\n",
       "      <th></th>\n",
       "      <th>Country</th>\n",
       "      <th>VAT tax system</th>\n",
       "      <th>Complex Tax System</th>\n",
       "      <th>Unnamed: 3</th>\n",
       "    </tr>\n",
       "  </thead>\n",
       "  <tbody>\n",
       "    <tr>\n",
       "      <th>0</th>\n",
       "      <td>Argentina</td>\n",
       "      <td>21</td>\n",
       "      <td>NaN</td>\n",
       "      <td>NaN</td>\n",
       "    </tr>\n",
       "    <tr>\n",
       "      <th>1</th>\n",
       "      <td>Brazil</td>\n",
       "      <td>State + local taxes (average)</td>\n",
       "      <td>38.0</td>\n",
       "      <td>NaN</td>\n",
       "    </tr>\n",
       "    <tr>\n",
       "      <th>2</th>\n",
       "      <td>Canada</td>\n",
       "      <td>5</td>\n",
       "      <td>NaN</td>\n",
       "      <td>NaN</td>\n",
       "    </tr>\n",
       "    <tr>\n",
       "      <th>3</th>\n",
       "      <td>China</td>\n",
       "      <td>13</td>\n",
       "      <td>NaN</td>\n",
       "      <td>NaN</td>\n",
       "    </tr>\n",
       "    <tr>\n",
       "      <th>4</th>\n",
       "      <td>France</td>\n",
       "      <td>20</td>\n",
       "      <td>NaN</td>\n",
       "      <td>NaN</td>\n",
       "    </tr>\n",
       "    <tr>\n",
       "      <th>5</th>\n",
       "      <td>Germany</td>\n",
       "      <td>16</td>\n",
       "      <td>NaN</td>\n",
       "      <td>NaN</td>\n",
       "    </tr>\n",
       "    <tr>\n",
       "      <th>6</th>\n",
       "      <td>India</td>\n",
       "      <td>18</td>\n",
       "      <td>NaN</td>\n",
       "      <td>NaN</td>\n",
       "    </tr>\n",
       "    <tr>\n",
       "      <th>7</th>\n",
       "      <td>Israel</td>\n",
       "      <td>17</td>\n",
       "      <td>NaN</td>\n",
       "      <td>NaN</td>\n",
       "    </tr>\n",
       "    <tr>\n",
       "      <th>8</th>\n",
       "      <td>Japan</td>\n",
       "      <td>10</td>\n",
       "      <td>NaN</td>\n",
       "      <td>NaN</td>\n",
       "    </tr>\n",
       "    <tr>\n",
       "      <th>9</th>\n",
       "      <td>Mexico</td>\n",
       "      <td>16</td>\n",
       "      <td>NaN</td>\n",
       "      <td>NaN</td>\n",
       "    </tr>\n",
       "    <tr>\n",
       "      <th>10</th>\n",
       "      <td>Poland</td>\n",
       "      <td>23</td>\n",
       "      <td>NaN</td>\n",
       "      <td>NaN</td>\n",
       "    </tr>\n",
       "    <tr>\n",
       "      <th>11</th>\n",
       "      <td>Portugal</td>\n",
       "      <td>23</td>\n",
       "      <td>NaN</td>\n",
       "      <td>NaN</td>\n",
       "    </tr>\n",
       "    <tr>\n",
       "      <th>12</th>\n",
       "      <td>Russia</td>\n",
       "      <td>20</td>\n",
       "      <td>NaN</td>\n",
       "      <td>NaN</td>\n",
       "    </tr>\n",
       "    <tr>\n",
       "      <th>13</th>\n",
       "      <td>Singapore</td>\n",
       "      <td>7</td>\n",
       "      <td>NaN</td>\n",
       "      <td>NaN</td>\n",
       "    </tr>\n",
       "    <tr>\n",
       "      <th>14</th>\n",
       "      <td>South Africa</td>\n",
       "      <td>15</td>\n",
       "      <td>NaN</td>\n",
       "      <td>NaN</td>\n",
       "    </tr>\n",
       "    <tr>\n",
       "      <th>15</th>\n",
       "      <td>Spain</td>\n",
       "      <td>21</td>\n",
       "      <td>NaN</td>\n",
       "      <td>NaN</td>\n",
       "    </tr>\n",
       "    <tr>\n",
       "      <th>16</th>\n",
       "      <td>United Kingdom</td>\n",
       "      <td>20</td>\n",
       "      <td>NaN</td>\n",
       "      <td>NaN</td>\n",
       "    </tr>\n",
       "    <tr>\n",
       "      <th>17</th>\n",
       "      <td>United States</td>\n",
       "      <td>State + local taxes (average)</td>\n",
       "      <td>7.0</td>\n",
       "      <td>https://en.wikipedia.org/wiki/Sales_taxes_in_t...</td>\n",
       "    </tr>\n",
       "    <tr>\n",
       "      <th>18</th>\n",
       "      <td>Vietnam</td>\n",
       "      <td>10</td>\n",
       "      <td>NaN</td>\n",
       "      <td>NaN</td>\n",
       "    </tr>\n",
       "  </tbody>\n",
       "</table>\n",
       "</div>"
      ],
      "text/plain": [
       "           Country                 VAT tax system  Complex Tax System  \\\n",
       "0        Argentina                             21                 NaN   \n",
       "1           Brazil  State + local taxes (average)                38.0   \n",
       "2           Canada                              5                 NaN   \n",
       "3            China                             13                 NaN   \n",
       "4           France                             20                 NaN   \n",
       "5          Germany                             16                 NaN   \n",
       "6            India                             18                 NaN   \n",
       "7           Israel                             17                 NaN   \n",
       "8            Japan                             10                 NaN   \n",
       "9           Mexico                             16                 NaN   \n",
       "10          Poland                             23                 NaN   \n",
       "11        Portugal                             23                 NaN   \n",
       "12          Russia                             20                 NaN   \n",
       "13       Singapore                              7                 NaN   \n",
       "14    South Africa                             15                 NaN   \n",
       "15           Spain                             21                 NaN   \n",
       "16  United Kingdom                             20                 NaN   \n",
       "17   United States  State + local taxes (average)                 7.0   \n",
       "18         Vietnam                             10                 NaN   \n",
       "\n",
       "                                           Unnamed: 3  \n",
       "0                                                 NaN  \n",
       "1                                                 NaN  \n",
       "2                                                 NaN  \n",
       "3                                                 NaN  \n",
       "4                                                 NaN  \n",
       "5                                                 NaN  \n",
       "6                                                 NaN  \n",
       "7                                                 NaN  \n",
       "8                                                 NaN  \n",
       "9                                                 NaN  \n",
       "10                                                NaN  \n",
       "11                                                NaN  \n",
       "12                                                NaN  \n",
       "13                                                NaN  \n",
       "14                                                NaN  \n",
       "15                                                NaN  \n",
       "16                                                NaN  \n",
       "17  https://en.wikipedia.org/wiki/Sales_taxes_in_t...  \n",
       "18                                                NaN  "
      ]
     },
     "execution_count": 28,
     "metadata": {},
     "output_type": "execute_result"
    }
   ],
   "source": [
    "#Reseting index.\n",
    "sales_tax_final.reset_index(drop=True, inplace=True)\n",
    "sales_tax_final"
   ]
  },
  {
   "cell_type": "code",
   "execution_count": 29,
   "metadata": {},
   "outputs": [
    {
     "name": "stderr",
     "output_type": "stream",
     "text": [
      "D:\\Anaconda\\lib\\site-packages\\pandas\\core\\indexing.py:671: SettingWithCopyWarning: \n",
      "A value is trying to be set on a copy of a slice from a DataFrame\n",
      "\n",
      "See the caveats in the documentation: https://pandas.pydata.org/pandas-docs/stable/user_guide/indexing.html#returning-a-view-versus-a-copy\n",
      "  self._setitem_with_indexer(indexer, value)\n",
      "<ipython-input-29-28521af81c7a>:2: SettingWithCopyWarning: \n",
      "A value is trying to be set on a copy of a slice from a DataFrame\n",
      "\n",
      "See the caveats in the documentation: https://pandas.pydata.org/pandas-docs/stable/user_guide/indexing.html#returning-a-view-versus-a-copy\n",
      "  sales_tax_final['VAT tax system'].iloc[1] = 38\n",
      "<ipython-input-29-28521af81c7a>:3: SettingWithCopyWarning: \n",
      "A value is trying to be set on a copy of a slice from a DataFrame\n",
      "\n",
      "See the caveats in the documentation: https://pandas.pydata.org/pandas-docs/stable/user_guide/indexing.html#returning-a-view-versus-a-copy\n",
      "  sales_tax_final['VAT tax system'].iloc[17] = 7\n"
     ]
    }
   ],
   "source": [
    "#Changing values of specific cells (Brazil and US).\n",
    "sales_tax_final['VAT tax system'].iloc[1] = 38\n",
    "sales_tax_final['VAT tax system'].iloc[17] = 7"
   ]
  },
  {
   "cell_type": "code",
   "execution_count": 30,
   "metadata": {},
   "outputs": [
    {
     "data": {
      "text/html": [
       "<div>\n",
       "<style scoped>\n",
       "    .dataframe tbody tr th:only-of-type {\n",
       "        vertical-align: middle;\n",
       "    }\n",
       "\n",
       "    .dataframe tbody tr th {\n",
       "        vertical-align: top;\n",
       "    }\n",
       "\n",
       "    .dataframe thead th {\n",
       "        text-align: right;\n",
       "    }\n",
       "</style>\n",
       "<table border=\"1\" class=\"dataframe\">\n",
       "  <thead>\n",
       "    <tr style=\"text-align: right;\">\n",
       "      <th></th>\n",
       "      <th>Country</th>\n",
       "      <th>VAT tax system</th>\n",
       "      <th>Complex Tax System</th>\n",
       "      <th>Unnamed: 3</th>\n",
       "    </tr>\n",
       "  </thead>\n",
       "  <tbody>\n",
       "    <tr>\n",
       "      <th>0</th>\n",
       "      <td>Argentina</td>\n",
       "      <td>21</td>\n",
       "      <td>NaN</td>\n",
       "      <td>NaN</td>\n",
       "    </tr>\n",
       "    <tr>\n",
       "      <th>1</th>\n",
       "      <td>Brazil</td>\n",
       "      <td>38</td>\n",
       "      <td>38.0</td>\n",
       "      <td>NaN</td>\n",
       "    </tr>\n",
       "    <tr>\n",
       "      <th>2</th>\n",
       "      <td>Canada</td>\n",
       "      <td>5</td>\n",
       "      <td>NaN</td>\n",
       "      <td>NaN</td>\n",
       "    </tr>\n",
       "    <tr>\n",
       "      <th>3</th>\n",
       "      <td>China</td>\n",
       "      <td>13</td>\n",
       "      <td>NaN</td>\n",
       "      <td>NaN</td>\n",
       "    </tr>\n",
       "    <tr>\n",
       "      <th>4</th>\n",
       "      <td>France</td>\n",
       "      <td>20</td>\n",
       "      <td>NaN</td>\n",
       "      <td>NaN</td>\n",
       "    </tr>\n",
       "    <tr>\n",
       "      <th>5</th>\n",
       "      <td>Germany</td>\n",
       "      <td>16</td>\n",
       "      <td>NaN</td>\n",
       "      <td>NaN</td>\n",
       "    </tr>\n",
       "    <tr>\n",
       "      <th>6</th>\n",
       "      <td>India</td>\n",
       "      <td>18</td>\n",
       "      <td>NaN</td>\n",
       "      <td>NaN</td>\n",
       "    </tr>\n",
       "    <tr>\n",
       "      <th>7</th>\n",
       "      <td>Israel</td>\n",
       "      <td>17</td>\n",
       "      <td>NaN</td>\n",
       "      <td>NaN</td>\n",
       "    </tr>\n",
       "    <tr>\n",
       "      <th>8</th>\n",
       "      <td>Japan</td>\n",
       "      <td>10</td>\n",
       "      <td>NaN</td>\n",
       "      <td>NaN</td>\n",
       "    </tr>\n",
       "    <tr>\n",
       "      <th>9</th>\n",
       "      <td>Mexico</td>\n",
       "      <td>16</td>\n",
       "      <td>NaN</td>\n",
       "      <td>NaN</td>\n",
       "    </tr>\n",
       "    <tr>\n",
       "      <th>10</th>\n",
       "      <td>Poland</td>\n",
       "      <td>23</td>\n",
       "      <td>NaN</td>\n",
       "      <td>NaN</td>\n",
       "    </tr>\n",
       "    <tr>\n",
       "      <th>11</th>\n",
       "      <td>Portugal</td>\n",
       "      <td>23</td>\n",
       "      <td>NaN</td>\n",
       "      <td>NaN</td>\n",
       "    </tr>\n",
       "    <tr>\n",
       "      <th>12</th>\n",
       "      <td>Russia</td>\n",
       "      <td>20</td>\n",
       "      <td>NaN</td>\n",
       "      <td>NaN</td>\n",
       "    </tr>\n",
       "    <tr>\n",
       "      <th>13</th>\n",
       "      <td>Singapore</td>\n",
       "      <td>7</td>\n",
       "      <td>NaN</td>\n",
       "      <td>NaN</td>\n",
       "    </tr>\n",
       "    <tr>\n",
       "      <th>14</th>\n",
       "      <td>South Africa</td>\n",
       "      <td>15</td>\n",
       "      <td>NaN</td>\n",
       "      <td>NaN</td>\n",
       "    </tr>\n",
       "    <tr>\n",
       "      <th>15</th>\n",
       "      <td>Spain</td>\n",
       "      <td>21</td>\n",
       "      <td>NaN</td>\n",
       "      <td>NaN</td>\n",
       "    </tr>\n",
       "    <tr>\n",
       "      <th>16</th>\n",
       "      <td>United Kingdom</td>\n",
       "      <td>20</td>\n",
       "      <td>NaN</td>\n",
       "      <td>NaN</td>\n",
       "    </tr>\n",
       "    <tr>\n",
       "      <th>17</th>\n",
       "      <td>United States</td>\n",
       "      <td>7</td>\n",
       "      <td>7.0</td>\n",
       "      <td>https://en.wikipedia.org/wiki/Sales_taxes_in_t...</td>\n",
       "    </tr>\n",
       "    <tr>\n",
       "      <th>18</th>\n",
       "      <td>Vietnam</td>\n",
       "      <td>10</td>\n",
       "      <td>NaN</td>\n",
       "      <td>NaN</td>\n",
       "    </tr>\n",
       "  </tbody>\n",
       "</table>\n",
       "</div>"
      ],
      "text/plain": [
       "           Country VAT tax system  Complex Tax System  \\\n",
       "0        Argentina             21                 NaN   \n",
       "1           Brazil             38                38.0   \n",
       "2           Canada              5                 NaN   \n",
       "3            China             13                 NaN   \n",
       "4           France             20                 NaN   \n",
       "5          Germany             16                 NaN   \n",
       "6            India             18                 NaN   \n",
       "7           Israel             17                 NaN   \n",
       "8            Japan             10                 NaN   \n",
       "9           Mexico             16                 NaN   \n",
       "10          Poland             23                 NaN   \n",
       "11        Portugal             23                 NaN   \n",
       "12          Russia             20                 NaN   \n",
       "13       Singapore              7                 NaN   \n",
       "14    South Africa             15                 NaN   \n",
       "15           Spain             21                 NaN   \n",
       "16  United Kingdom             20                 NaN   \n",
       "17   United States              7                 7.0   \n",
       "18         Vietnam             10                 NaN   \n",
       "\n",
       "                                           Unnamed: 3  \n",
       "0                                                 NaN  \n",
       "1                                                 NaN  \n",
       "2                                                 NaN  \n",
       "3                                                 NaN  \n",
       "4                                                 NaN  \n",
       "5                                                 NaN  \n",
       "6                                                 NaN  \n",
       "7                                                 NaN  \n",
       "8                                                 NaN  \n",
       "9                                                 NaN  \n",
       "10                                                NaN  \n",
       "11                                                NaN  \n",
       "12                                                NaN  \n",
       "13                                                NaN  \n",
       "14                                                NaN  \n",
       "15                                                NaN  \n",
       "16                                                NaN  \n",
       "17  https://en.wikipedia.org/wiki/Sales_taxes_in_t...  \n",
       "18                                                NaN  "
      ]
     },
     "execution_count": 30,
     "metadata": {},
     "output_type": "execute_result"
    }
   ],
   "source": [
    "sales_tax_final"
   ]
  },
  {
   "cell_type": "code",
   "execution_count": 31,
   "metadata": {},
   "outputs": [
    {
     "name": "stderr",
     "output_type": "stream",
     "text": [
      "D:\\Anaconda\\lib\\site-packages\\pandas\\core\\frame.py:3990: SettingWithCopyWarning: \n",
      "A value is trying to be set on a copy of a slice from a DataFrame\n",
      "\n",
      "See the caveats in the documentation: https://pandas.pydata.org/pandas-docs/stable/user_guide/indexing.html#returning-a-view-versus-a-copy\n",
      "  return super().drop(\n"
     ]
    }
   ],
   "source": [
    "#Dropping two useless columns.\n",
    "sales_tax_final.drop(['Complex Tax System', 'Unnamed: 3'], axis=1, inplace=True)"
   ]
  },
  {
   "cell_type": "code",
   "execution_count": 32,
   "metadata": {},
   "outputs": [
    {
     "name": "stderr",
     "output_type": "stream",
     "text": [
      "D:\\Anaconda\\lib\\site-packages\\pandas\\core\\frame.py:4125: SettingWithCopyWarning: \n",
      "A value is trying to be set on a copy of a slice from a DataFrame\n",
      "\n",
      "See the caveats in the documentation: https://pandas.pydata.org/pandas-docs/stable/user_guide/indexing.html#returning-a-view-versus-a-copy\n",
      "  return super().rename(\n"
     ]
    },
    {
     "data": {
      "text/html": [
       "<div>\n",
       "<style scoped>\n",
       "    .dataframe tbody tr th:only-of-type {\n",
       "        vertical-align: middle;\n",
       "    }\n",
       "\n",
       "    .dataframe tbody tr th {\n",
       "        vertical-align: top;\n",
       "    }\n",
       "\n",
       "    .dataframe thead th {\n",
       "        text-align: right;\n",
       "    }\n",
       "</style>\n",
       "<table border=\"1\" class=\"dataframe\">\n",
       "  <thead>\n",
       "    <tr style=\"text-align: right;\">\n",
       "      <th></th>\n",
       "      <th>Country</th>\n",
       "      <th>Sales Tax</th>\n",
       "    </tr>\n",
       "  </thead>\n",
       "  <tbody>\n",
       "    <tr>\n",
       "      <th>0</th>\n",
       "      <td>Argentina</td>\n",
       "      <td>21</td>\n",
       "    </tr>\n",
       "    <tr>\n",
       "      <th>1</th>\n",
       "      <td>Brazil</td>\n",
       "      <td>38</td>\n",
       "    </tr>\n",
       "    <tr>\n",
       "      <th>2</th>\n",
       "      <td>Canada</td>\n",
       "      <td>5</td>\n",
       "    </tr>\n",
       "    <tr>\n",
       "      <th>3</th>\n",
       "      <td>China</td>\n",
       "      <td>13</td>\n",
       "    </tr>\n",
       "    <tr>\n",
       "      <th>4</th>\n",
       "      <td>France</td>\n",
       "      <td>20</td>\n",
       "    </tr>\n",
       "    <tr>\n",
       "      <th>5</th>\n",
       "      <td>Germany</td>\n",
       "      <td>16</td>\n",
       "    </tr>\n",
       "    <tr>\n",
       "      <th>6</th>\n",
       "      <td>India</td>\n",
       "      <td>18</td>\n",
       "    </tr>\n",
       "    <tr>\n",
       "      <th>7</th>\n",
       "      <td>Israel</td>\n",
       "      <td>17</td>\n",
       "    </tr>\n",
       "    <tr>\n",
       "      <th>8</th>\n",
       "      <td>Japan</td>\n",
       "      <td>10</td>\n",
       "    </tr>\n",
       "    <tr>\n",
       "      <th>9</th>\n",
       "      <td>Mexico</td>\n",
       "      <td>16</td>\n",
       "    </tr>\n",
       "    <tr>\n",
       "      <th>10</th>\n",
       "      <td>Poland</td>\n",
       "      <td>23</td>\n",
       "    </tr>\n",
       "    <tr>\n",
       "      <th>11</th>\n",
       "      <td>Portugal</td>\n",
       "      <td>23</td>\n",
       "    </tr>\n",
       "    <tr>\n",
       "      <th>12</th>\n",
       "      <td>Russia</td>\n",
       "      <td>20</td>\n",
       "    </tr>\n",
       "    <tr>\n",
       "      <th>13</th>\n",
       "      <td>Singapore</td>\n",
       "      <td>7</td>\n",
       "    </tr>\n",
       "    <tr>\n",
       "      <th>14</th>\n",
       "      <td>South Africa</td>\n",
       "      <td>15</td>\n",
       "    </tr>\n",
       "    <tr>\n",
       "      <th>15</th>\n",
       "      <td>Spain</td>\n",
       "      <td>21</td>\n",
       "    </tr>\n",
       "    <tr>\n",
       "      <th>16</th>\n",
       "      <td>United Kingdom</td>\n",
       "      <td>20</td>\n",
       "    </tr>\n",
       "    <tr>\n",
       "      <th>17</th>\n",
       "      <td>United States</td>\n",
       "      <td>7</td>\n",
       "    </tr>\n",
       "    <tr>\n",
       "      <th>18</th>\n",
       "      <td>Vietnam</td>\n",
       "      <td>10</td>\n",
       "    </tr>\n",
       "  </tbody>\n",
       "</table>\n",
       "</div>"
      ],
      "text/plain": [
       "           Country Sales Tax\n",
       "0        Argentina        21\n",
       "1           Brazil        38\n",
       "2           Canada         5\n",
       "3            China        13\n",
       "4           France        20\n",
       "5          Germany        16\n",
       "6            India        18\n",
       "7           Israel        17\n",
       "8            Japan        10\n",
       "9           Mexico        16\n",
       "10          Poland        23\n",
       "11        Portugal        23\n",
       "12          Russia        20\n",
       "13       Singapore         7\n",
       "14    South Africa        15\n",
       "15           Spain        21\n",
       "16  United Kingdom        20\n",
       "17   United States         7\n",
       "18         Vietnam        10"
      ]
     },
     "execution_count": 32,
     "metadata": {},
     "output_type": "execute_result"
    }
   ],
   "source": [
    "#Renaming 'VAT ...' column.\n",
    "sales_tax_final.rename(columns={'VAT tax system': 'Sales Tax'}, inplace=True)\n",
    "sales_tax_final"
   ]
  },
  {
   "cell_type": "code",
   "execution_count": 33,
   "metadata": {},
   "outputs": [
    {
     "name": "stderr",
     "output_type": "stream",
     "text": [
      "<ipython-input-33-08ca70a59c37>:1: SettingWithCopyWarning: \n",
      "A value is trying to be set on a copy of a slice from a DataFrame.\n",
      "Try using .loc[row_indexer,col_indexer] = value instead\n",
      "\n",
      "See the caveats in the documentation: https://pandas.pydata.org/pandas-docs/stable/user_guide/indexing.html#returning-a-view-versus-a-copy\n",
      "  sales_tax_final['Sales Tax'] = sales_tax_final['Sales Tax'].apply(lambda x: float(x))\n"
     ]
    },
    {
     "data": {
      "text/html": [
       "<div>\n",
       "<style scoped>\n",
       "    .dataframe tbody tr th:only-of-type {\n",
       "        vertical-align: middle;\n",
       "    }\n",
       "\n",
       "    .dataframe tbody tr th {\n",
       "        vertical-align: top;\n",
       "    }\n",
       "\n",
       "    .dataframe thead th {\n",
       "        text-align: right;\n",
       "    }\n",
       "</style>\n",
       "<table border=\"1\" class=\"dataframe\">\n",
       "  <thead>\n",
       "    <tr style=\"text-align: right;\">\n",
       "      <th></th>\n",
       "      <th>Country</th>\n",
       "      <th>Sales Tax</th>\n",
       "    </tr>\n",
       "  </thead>\n",
       "  <tbody>\n",
       "    <tr>\n",
       "      <th>0</th>\n",
       "      <td>Argentina</td>\n",
       "      <td>21.0</td>\n",
       "    </tr>\n",
       "    <tr>\n",
       "      <th>1</th>\n",
       "      <td>Brazil</td>\n",
       "      <td>38.0</td>\n",
       "    </tr>\n",
       "    <tr>\n",
       "      <th>2</th>\n",
       "      <td>Canada</td>\n",
       "      <td>5.0</td>\n",
       "    </tr>\n",
       "    <tr>\n",
       "      <th>3</th>\n",
       "      <td>China</td>\n",
       "      <td>13.0</td>\n",
       "    </tr>\n",
       "    <tr>\n",
       "      <th>4</th>\n",
       "      <td>France</td>\n",
       "      <td>20.0</td>\n",
       "    </tr>\n",
       "    <tr>\n",
       "      <th>5</th>\n",
       "      <td>Germany</td>\n",
       "      <td>16.0</td>\n",
       "    </tr>\n",
       "    <tr>\n",
       "      <th>6</th>\n",
       "      <td>India</td>\n",
       "      <td>18.0</td>\n",
       "    </tr>\n",
       "    <tr>\n",
       "      <th>7</th>\n",
       "      <td>Israel</td>\n",
       "      <td>17.0</td>\n",
       "    </tr>\n",
       "    <tr>\n",
       "      <th>8</th>\n",
       "      <td>Japan</td>\n",
       "      <td>10.0</td>\n",
       "    </tr>\n",
       "    <tr>\n",
       "      <th>9</th>\n",
       "      <td>Mexico</td>\n",
       "      <td>16.0</td>\n",
       "    </tr>\n",
       "    <tr>\n",
       "      <th>10</th>\n",
       "      <td>Poland</td>\n",
       "      <td>23.0</td>\n",
       "    </tr>\n",
       "    <tr>\n",
       "      <th>11</th>\n",
       "      <td>Portugal</td>\n",
       "      <td>23.0</td>\n",
       "    </tr>\n",
       "    <tr>\n",
       "      <th>12</th>\n",
       "      <td>Russia</td>\n",
       "      <td>20.0</td>\n",
       "    </tr>\n",
       "    <tr>\n",
       "      <th>13</th>\n",
       "      <td>Singapore</td>\n",
       "      <td>7.0</td>\n",
       "    </tr>\n",
       "    <tr>\n",
       "      <th>14</th>\n",
       "      <td>South Africa</td>\n",
       "      <td>15.0</td>\n",
       "    </tr>\n",
       "    <tr>\n",
       "      <th>15</th>\n",
       "      <td>Spain</td>\n",
       "      <td>21.0</td>\n",
       "    </tr>\n",
       "    <tr>\n",
       "      <th>16</th>\n",
       "      <td>United Kingdom</td>\n",
       "      <td>20.0</td>\n",
       "    </tr>\n",
       "    <tr>\n",
       "      <th>17</th>\n",
       "      <td>United States</td>\n",
       "      <td>7.0</td>\n",
       "    </tr>\n",
       "    <tr>\n",
       "      <th>18</th>\n",
       "      <td>Vietnam</td>\n",
       "      <td>10.0</td>\n",
       "    </tr>\n",
       "  </tbody>\n",
       "</table>\n",
       "</div>"
      ],
      "text/plain": [
       "           Country  Sales Tax\n",
       "0        Argentina       21.0\n",
       "1           Brazil       38.0\n",
       "2           Canada        5.0\n",
       "3            China       13.0\n",
       "4           France       20.0\n",
       "5          Germany       16.0\n",
       "6            India       18.0\n",
       "7           Israel       17.0\n",
       "8            Japan       10.0\n",
       "9           Mexico       16.0\n",
       "10          Poland       23.0\n",
       "11        Portugal       23.0\n",
       "12          Russia       20.0\n",
       "13       Singapore        7.0\n",
       "14    South Africa       15.0\n",
       "15           Spain       21.0\n",
       "16  United Kingdom       20.0\n",
       "17   United States        7.0\n",
       "18         Vietnam       10.0"
      ]
     },
     "execution_count": 33,
     "metadata": {},
     "output_type": "execute_result"
    }
   ],
   "source": [
    "sales_tax_final['Sales Tax'] = sales_tax_final['Sales Tax'].apply(lambda x: float(x))\n",
    "sales_tax_final"
   ]
  },
  {
   "cell_type": "markdown",
   "metadata": {},
   "source": [
    "# 2nd phase: Merge all four df´s into one."
   ]
  },
  {
   "cell_type": "code",
   "execution_count": 34,
   "metadata": {},
   "outputs": [
    {
     "data": {
      "text/html": [
       "<div>\n",
       "<style scoped>\n",
       "    .dataframe tbody tr th:only-of-type {\n",
       "        vertical-align: middle;\n",
       "    }\n",
       "\n",
       "    .dataframe tbody tr th {\n",
       "        vertical-align: top;\n",
       "    }\n",
       "\n",
       "    .dataframe thead th {\n",
       "        text-align: right;\n",
       "    }\n",
       "</style>\n",
       "<table border=\"1\" class=\"dataframe\">\n",
       "  <thead>\n",
       "    <tr style=\"text-align: right;\">\n",
       "      <th></th>\n",
       "      <th>Country</th>\n",
       "      <th>Corporate Income Tax</th>\n",
       "      <th>Country</th>\n",
       "      <th>Dividend Tax</th>\n",
       "      <th>Country</th>\n",
       "      <th>Personal Income Tax</th>\n",
       "      <th>Country</th>\n",
       "      <th>Sales Tax</th>\n",
       "    </tr>\n",
       "  </thead>\n",
       "  <tbody>\n",
       "    <tr>\n",
       "      <th>0</th>\n",
       "      <td>Argentina</td>\n",
       "      <td>25.00</td>\n",
       "      <td>Argentina</td>\n",
       "      <td>13.00</td>\n",
       "      <td>Argentina</td>\n",
       "      <td>35.00</td>\n",
       "      <td>Argentina</td>\n",
       "      <td>21.0</td>\n",
       "    </tr>\n",
       "    <tr>\n",
       "      <th>1</th>\n",
       "      <td>Brazil</td>\n",
       "      <td>34.00</td>\n",
       "      <td>Brazil</td>\n",
       "      <td>0.00</td>\n",
       "      <td>Brazil</td>\n",
       "      <td>27.50</td>\n",
       "      <td>Brazil</td>\n",
       "      <td>38.0</td>\n",
       "    </tr>\n",
       "    <tr>\n",
       "      <th>2</th>\n",
       "      <td>Canada</td>\n",
       "      <td>26.50</td>\n",
       "      <td>Canada</td>\n",
       "      <td>26.44</td>\n",
       "      <td>Canada</td>\n",
       "      <td>33.00</td>\n",
       "      <td>Canada</td>\n",
       "      <td>5.0</td>\n",
       "    </tr>\n",
       "    <tr>\n",
       "      <th>3</th>\n",
       "      <td>China</td>\n",
       "      <td>25.00</td>\n",
       "      <td>China</td>\n",
       "      <td>20.00</td>\n",
       "      <td>China</td>\n",
       "      <td>45.00</td>\n",
       "      <td>China</td>\n",
       "      <td>13.0</td>\n",
       "    </tr>\n",
       "    <tr>\n",
       "      <th>4</th>\n",
       "      <td>France</td>\n",
       "      <td>28.00</td>\n",
       "      <td>France</td>\n",
       "      <td>32.02</td>\n",
       "      <td>France</td>\n",
       "      <td>45.00</td>\n",
       "      <td>France</td>\n",
       "      <td>20.0</td>\n",
       "    </tr>\n",
       "    <tr>\n",
       "      <th>5</th>\n",
       "      <td>Germany</td>\n",
       "      <td>30.00</td>\n",
       "      <td>Germany</td>\n",
       "      <td>29.90</td>\n",
       "      <td>Germany</td>\n",
       "      <td>45.00</td>\n",
       "      <td>Germany</td>\n",
       "      <td>16.0</td>\n",
       "    </tr>\n",
       "    <tr>\n",
       "      <th>6</th>\n",
       "      <td>India</td>\n",
       "      <td>25.17</td>\n",
       "      <td>India</td>\n",
       "      <td>10.00</td>\n",
       "      <td>India</td>\n",
       "      <td>35.88</td>\n",
       "      <td>India</td>\n",
       "      <td>18.0</td>\n",
       "    </tr>\n",
       "    <tr>\n",
       "      <th>7</th>\n",
       "      <td>Israel</td>\n",
       "      <td>23.00</td>\n",
       "      <td>Israel</td>\n",
       "      <td>23.00</td>\n",
       "      <td>Israel</td>\n",
       "      <td>50.00</td>\n",
       "      <td>Israel</td>\n",
       "      <td>17.0</td>\n",
       "    </tr>\n",
       "    <tr>\n",
       "      <th>8</th>\n",
       "      <td>Japan</td>\n",
       "      <td>30.62</td>\n",
       "      <td>Japan</td>\n",
       "      <td>29.74</td>\n",
       "      <td>Japan</td>\n",
       "      <td>55.95</td>\n",
       "      <td>Japan</td>\n",
       "      <td>10.0</td>\n",
       "    </tr>\n",
       "    <tr>\n",
       "      <th>9</th>\n",
       "      <td>Mexico</td>\n",
       "      <td>30.00</td>\n",
       "      <td>Mexico</td>\n",
       "      <td>30.00</td>\n",
       "      <td>Mexico</td>\n",
       "      <td>35.00</td>\n",
       "      <td>Mexico</td>\n",
       "      <td>16.0</td>\n",
       "    </tr>\n",
       "    <tr>\n",
       "      <th>10</th>\n",
       "      <td>Poland</td>\n",
       "      <td>19.00</td>\n",
       "      <td>Poland</td>\n",
       "      <td>19.00</td>\n",
       "      <td>Poland</td>\n",
       "      <td>32.00</td>\n",
       "      <td>Poland</td>\n",
       "      <td>23.0</td>\n",
       "    </tr>\n",
       "    <tr>\n",
       "      <th>11</th>\n",
       "      <td>Portugal</td>\n",
       "      <td>21.00</td>\n",
       "      <td>Portugal</td>\n",
       "      <td>31.50</td>\n",
       "      <td>Portugal</td>\n",
       "      <td>48.00</td>\n",
       "      <td>Portugal</td>\n",
       "      <td>23.0</td>\n",
       "    </tr>\n",
       "    <tr>\n",
       "      <th>12</th>\n",
       "      <td>Russia</td>\n",
       "      <td>20.00</td>\n",
       "      <td>Russia</td>\n",
       "      <td>13.00</td>\n",
       "      <td>Russia</td>\n",
       "      <td>13.00</td>\n",
       "      <td>Russia</td>\n",
       "      <td>20.0</td>\n",
       "    </tr>\n",
       "    <tr>\n",
       "      <th>13</th>\n",
       "      <td>Singapore</td>\n",
       "      <td>17.00</td>\n",
       "      <td>Singapore</td>\n",
       "      <td>0.00</td>\n",
       "      <td>Singapore</td>\n",
       "      <td>22.00</td>\n",
       "      <td>Singapore</td>\n",
       "      <td>7.0</td>\n",
       "    </tr>\n",
       "    <tr>\n",
       "      <th>14</th>\n",
       "      <td>South Africa</td>\n",
       "      <td>28.00</td>\n",
       "      <td>South Africa</td>\n",
       "      <td>20.00</td>\n",
       "      <td>South Africa</td>\n",
       "      <td>45.00</td>\n",
       "      <td>South Africa</td>\n",
       "      <td>15.0</td>\n",
       "    </tr>\n",
       "    <tr>\n",
       "      <th>15</th>\n",
       "      <td>Spain</td>\n",
       "      <td>25.00</td>\n",
       "      <td>Spain</td>\n",
       "      <td>25.00</td>\n",
       "      <td>Spain</td>\n",
       "      <td>45.00</td>\n",
       "      <td>Spain</td>\n",
       "      <td>21.0</td>\n",
       "    </tr>\n",
       "    <tr>\n",
       "      <th>16</th>\n",
       "      <td>United Kingdom</td>\n",
       "      <td>19.00</td>\n",
       "      <td>United Kingdom</td>\n",
       "      <td>19.00</td>\n",
       "      <td>United Kingdom</td>\n",
       "      <td>45.00</td>\n",
       "      <td>United Kingdom</td>\n",
       "      <td>20.0</td>\n",
       "    </tr>\n",
       "    <tr>\n",
       "      <th>17</th>\n",
       "      <td>United States</td>\n",
       "      <td>21.00</td>\n",
       "      <td>United States</td>\n",
       "      <td>25.77</td>\n",
       "      <td>United States</td>\n",
       "      <td>37.00</td>\n",
       "      <td>United States</td>\n",
       "      <td>7.0</td>\n",
       "    </tr>\n",
       "    <tr>\n",
       "      <th>18</th>\n",
       "      <td>Vietnam</td>\n",
       "      <td>20.00</td>\n",
       "      <td>Vitenam</td>\n",
       "      <td>5.00</td>\n",
       "      <td>Vietnam</td>\n",
       "      <td>35.00</td>\n",
       "      <td>Vietnam</td>\n",
       "      <td>10.0</td>\n",
       "    </tr>\n",
       "  </tbody>\n",
       "</table>\n",
       "</div>"
      ],
      "text/plain": [
       "           Country  Corporate Income Tax         Country  Dividend Tax  \\\n",
       "0        Argentina                 25.00       Argentina         13.00   \n",
       "1           Brazil                 34.00          Brazil          0.00   \n",
       "2           Canada                 26.50          Canada         26.44   \n",
       "3            China                 25.00           China         20.00   \n",
       "4           France                 28.00          France         32.02   \n",
       "5          Germany                 30.00         Germany         29.90   \n",
       "6            India                 25.17           India         10.00   \n",
       "7           Israel                 23.00          Israel         23.00   \n",
       "8            Japan                 30.62           Japan         29.74   \n",
       "9           Mexico                 30.00          Mexico         30.00   \n",
       "10          Poland                 19.00          Poland         19.00   \n",
       "11        Portugal                 21.00        Portugal         31.50   \n",
       "12          Russia                 20.00          Russia         13.00   \n",
       "13       Singapore                 17.00       Singapore          0.00   \n",
       "14    South Africa                 28.00    South Africa         20.00   \n",
       "15           Spain                 25.00           Spain         25.00   \n",
       "16  United Kingdom                 19.00  United Kingdom         19.00   \n",
       "17   United States                 21.00   United States         25.77   \n",
       "18         Vietnam                 20.00         Vitenam          5.00   \n",
       "\n",
       "           Country  Personal Income Tax         Country  Sales Tax  \n",
       "0        Argentina                35.00       Argentina       21.0  \n",
       "1           Brazil                27.50          Brazil       38.0  \n",
       "2           Canada                33.00          Canada        5.0  \n",
       "3            China                45.00           China       13.0  \n",
       "4           France                45.00          France       20.0  \n",
       "5          Germany                45.00         Germany       16.0  \n",
       "6            India                35.88           India       18.0  \n",
       "7           Israel                50.00          Israel       17.0  \n",
       "8            Japan                55.95           Japan       10.0  \n",
       "9           Mexico                35.00          Mexico       16.0  \n",
       "10          Poland                32.00          Poland       23.0  \n",
       "11        Portugal                48.00        Portugal       23.0  \n",
       "12          Russia                13.00          Russia       20.0  \n",
       "13       Singapore                22.00       Singapore        7.0  \n",
       "14    South Africa                45.00    South Africa       15.0  \n",
       "15           Spain                45.00           Spain       21.0  \n",
       "16  United Kingdom                45.00  United Kingdom       20.0  \n",
       "17   United States                37.00   United States        7.0  \n",
       "18         Vietnam                35.00         Vietnam       10.0  "
      ]
     },
     "execution_count": 34,
     "metadata": {},
     "output_type": "execute_result"
    }
   ],
   "source": [
    "#Concat won´t work in this case because I have 4 columns with the same name on where I want to join the df´s.\n",
    "tax_system = pd.concat([corp_tax_final, divdnd_tax_final, pax_tax_final, sales_tax_final], axis=1)\n",
    "tax_system"
   ]
  },
  {
   "cell_type": "code",
   "execution_count": 35,
   "metadata": {},
   "outputs": [],
   "source": [
    "#So I use the function 'merge' and choose to merge the df´s on the 'Country' column.\n",
    "final_tax_system = corp_tax_final.merge(divdnd_tax_final, on='Country', left_index=True, right_index=True).merge(pax_tax_final).merge(sales_tax_final)"
   ]
  },
  {
   "cell_type": "code",
   "execution_count": 36,
   "metadata": {},
   "outputs": [
    {
     "data": {
      "text/html": [
       "<div>\n",
       "<style scoped>\n",
       "    .dataframe tbody tr th:only-of-type {\n",
       "        vertical-align: middle;\n",
       "    }\n",
       "\n",
       "    .dataframe tbody tr th {\n",
       "        vertical-align: top;\n",
       "    }\n",
       "\n",
       "    .dataframe thead th {\n",
       "        text-align: right;\n",
       "    }\n",
       "</style>\n",
       "<table border=\"1\" class=\"dataframe\">\n",
       "  <thead>\n",
       "    <tr style=\"text-align: right;\">\n",
       "      <th></th>\n",
       "      <th>Country</th>\n",
       "      <th>Corporate Income Tax</th>\n",
       "      <th>Dividend Tax</th>\n",
       "      <th>Personal Income Tax</th>\n",
       "      <th>Sales Tax</th>\n",
       "    </tr>\n",
       "  </thead>\n",
       "  <tbody>\n",
       "    <tr>\n",
       "      <th>0</th>\n",
       "      <td>Argentina</td>\n",
       "      <td>25.00</td>\n",
       "      <td>13.00</td>\n",
       "      <td>35.00</td>\n",
       "      <td>21.0</td>\n",
       "    </tr>\n",
       "    <tr>\n",
       "      <th>1</th>\n",
       "      <td>Brazil</td>\n",
       "      <td>34.00</td>\n",
       "      <td>0.00</td>\n",
       "      <td>27.50</td>\n",
       "      <td>38.0</td>\n",
       "    </tr>\n",
       "    <tr>\n",
       "      <th>2</th>\n",
       "      <td>Canada</td>\n",
       "      <td>26.50</td>\n",
       "      <td>26.44</td>\n",
       "      <td>33.00</td>\n",
       "      <td>5.0</td>\n",
       "    </tr>\n",
       "    <tr>\n",
       "      <th>3</th>\n",
       "      <td>China</td>\n",
       "      <td>25.00</td>\n",
       "      <td>20.00</td>\n",
       "      <td>45.00</td>\n",
       "      <td>13.0</td>\n",
       "    </tr>\n",
       "    <tr>\n",
       "      <th>4</th>\n",
       "      <td>France</td>\n",
       "      <td>28.00</td>\n",
       "      <td>32.02</td>\n",
       "      <td>45.00</td>\n",
       "      <td>20.0</td>\n",
       "    </tr>\n",
       "    <tr>\n",
       "      <th>5</th>\n",
       "      <td>Germany</td>\n",
       "      <td>30.00</td>\n",
       "      <td>29.90</td>\n",
       "      <td>45.00</td>\n",
       "      <td>16.0</td>\n",
       "    </tr>\n",
       "    <tr>\n",
       "      <th>6</th>\n",
       "      <td>India</td>\n",
       "      <td>25.17</td>\n",
       "      <td>10.00</td>\n",
       "      <td>35.88</td>\n",
       "      <td>18.0</td>\n",
       "    </tr>\n",
       "    <tr>\n",
       "      <th>7</th>\n",
       "      <td>Israel</td>\n",
       "      <td>23.00</td>\n",
       "      <td>23.00</td>\n",
       "      <td>50.00</td>\n",
       "      <td>17.0</td>\n",
       "    </tr>\n",
       "    <tr>\n",
       "      <th>8</th>\n",
       "      <td>Japan</td>\n",
       "      <td>30.62</td>\n",
       "      <td>29.74</td>\n",
       "      <td>55.95</td>\n",
       "      <td>10.0</td>\n",
       "    </tr>\n",
       "    <tr>\n",
       "      <th>9</th>\n",
       "      <td>Mexico</td>\n",
       "      <td>30.00</td>\n",
       "      <td>30.00</td>\n",
       "      <td>35.00</td>\n",
       "      <td>16.0</td>\n",
       "    </tr>\n",
       "    <tr>\n",
       "      <th>10</th>\n",
       "      <td>Poland</td>\n",
       "      <td>19.00</td>\n",
       "      <td>19.00</td>\n",
       "      <td>32.00</td>\n",
       "      <td>23.0</td>\n",
       "    </tr>\n",
       "    <tr>\n",
       "      <th>11</th>\n",
       "      <td>Portugal</td>\n",
       "      <td>21.00</td>\n",
       "      <td>31.50</td>\n",
       "      <td>48.00</td>\n",
       "      <td>23.0</td>\n",
       "    </tr>\n",
       "    <tr>\n",
       "      <th>12</th>\n",
       "      <td>Russia</td>\n",
       "      <td>20.00</td>\n",
       "      <td>13.00</td>\n",
       "      <td>13.00</td>\n",
       "      <td>20.0</td>\n",
       "    </tr>\n",
       "    <tr>\n",
       "      <th>13</th>\n",
       "      <td>Singapore</td>\n",
       "      <td>17.00</td>\n",
       "      <td>0.00</td>\n",
       "      <td>22.00</td>\n",
       "      <td>7.0</td>\n",
       "    </tr>\n",
       "    <tr>\n",
       "      <th>14</th>\n",
       "      <td>South Africa</td>\n",
       "      <td>28.00</td>\n",
       "      <td>20.00</td>\n",
       "      <td>45.00</td>\n",
       "      <td>15.0</td>\n",
       "    </tr>\n",
       "    <tr>\n",
       "      <th>15</th>\n",
       "      <td>Spain</td>\n",
       "      <td>25.00</td>\n",
       "      <td>25.00</td>\n",
       "      <td>45.00</td>\n",
       "      <td>21.0</td>\n",
       "    </tr>\n",
       "    <tr>\n",
       "      <th>16</th>\n",
       "      <td>United Kingdom</td>\n",
       "      <td>19.00</td>\n",
       "      <td>19.00</td>\n",
       "      <td>45.00</td>\n",
       "      <td>20.0</td>\n",
       "    </tr>\n",
       "    <tr>\n",
       "      <th>17</th>\n",
       "      <td>United States</td>\n",
       "      <td>21.00</td>\n",
       "      <td>25.77</td>\n",
       "      <td>37.00</td>\n",
       "      <td>7.0</td>\n",
       "    </tr>\n",
       "    <tr>\n",
       "      <th>18</th>\n",
       "      <td>Vietnam</td>\n",
       "      <td>20.00</td>\n",
       "      <td>5.00</td>\n",
       "      <td>35.00</td>\n",
       "      <td>10.0</td>\n",
       "    </tr>\n",
       "  </tbody>\n",
       "</table>\n",
       "</div>"
      ],
      "text/plain": [
       "           Country  Corporate Income Tax  Dividend Tax  Personal Income Tax  \\\n",
       "0        Argentina                 25.00         13.00                35.00   \n",
       "1           Brazil                 34.00          0.00                27.50   \n",
       "2           Canada                 26.50         26.44                33.00   \n",
       "3            China                 25.00         20.00                45.00   \n",
       "4           France                 28.00         32.02                45.00   \n",
       "5          Germany                 30.00         29.90                45.00   \n",
       "6            India                 25.17         10.00                35.88   \n",
       "7           Israel                 23.00         23.00                50.00   \n",
       "8            Japan                 30.62         29.74                55.95   \n",
       "9           Mexico                 30.00         30.00                35.00   \n",
       "10          Poland                 19.00         19.00                32.00   \n",
       "11        Portugal                 21.00         31.50                48.00   \n",
       "12          Russia                 20.00         13.00                13.00   \n",
       "13       Singapore                 17.00          0.00                22.00   \n",
       "14    South Africa                 28.00         20.00                45.00   \n",
       "15           Spain                 25.00         25.00                45.00   \n",
       "16  United Kingdom                 19.00         19.00                45.00   \n",
       "17   United States                 21.00         25.77                37.00   \n",
       "18         Vietnam                 20.00          5.00                35.00   \n",
       "\n",
       "    Sales Tax  \n",
       "0        21.0  \n",
       "1        38.0  \n",
       "2         5.0  \n",
       "3        13.0  \n",
       "4        20.0  \n",
       "5        16.0  \n",
       "6        18.0  \n",
       "7        17.0  \n",
       "8        10.0  \n",
       "9        16.0  \n",
       "10       23.0  \n",
       "11       23.0  \n",
       "12       20.0  \n",
       "13        7.0  \n",
       "14       15.0  \n",
       "15       21.0  \n",
       "16       20.0  \n",
       "17        7.0  \n",
       "18       10.0  "
      ]
     },
     "execution_count": 36,
     "metadata": {},
     "output_type": "execute_result"
    }
   ],
   "source": [
    "final_tax_system"
   ]
  },
  {
   "cell_type": "markdown",
   "metadata": {},
   "source": [
    "# 3rd phase: Data Visualization.\n",
    "\n",
    "**We are going to use Plotly library and try to obtain beautiful and interactive graphics.**"
   ]
  },
  {
   "cell_type": "code",
   "execution_count": 37,
   "metadata": {},
   "outputs": [],
   "source": [
    "#We´ll start by using the 'express' module which will present us a simpler but still customizable interface. \n",
    "import plotly.express as px"
   ]
  },
  {
   "cell_type": "code",
   "execution_count": 51,
   "metadata": {},
   "outputs": [
    {
     "data": {
      "text/html": [
       "<div>\n",
       "<style scoped>\n",
       "    .dataframe tbody tr th:only-of-type {\n",
       "        vertical-align: middle;\n",
       "    }\n",
       "\n",
       "    .dataframe tbody tr th {\n",
       "        vertical-align: top;\n",
       "    }\n",
       "\n",
       "    .dataframe thead th {\n",
       "        text-align: right;\n",
       "    }\n",
       "</style>\n",
       "<table border=\"1\" class=\"dataframe\">\n",
       "  <thead>\n",
       "    <tr style=\"text-align: right;\">\n",
       "      <th></th>\n",
       "      <th>Country</th>\n",
       "      <th>Corporate Income Tax</th>\n",
       "      <th>Dividend Tax</th>\n",
       "      <th>Personal Income Tax</th>\n",
       "      <th>Sales Tax</th>\n",
       "    </tr>\n",
       "  </thead>\n",
       "  <tbody>\n",
       "    <tr>\n",
       "      <th>0</th>\n",
       "      <td>Argentina</td>\n",
       "      <td>25.00</td>\n",
       "      <td>13.00</td>\n",
       "      <td>35.00</td>\n",
       "      <td>21.0</td>\n",
       "    </tr>\n",
       "    <tr>\n",
       "      <th>1</th>\n",
       "      <td>Brazil</td>\n",
       "      <td>34.00</td>\n",
       "      <td>0.00</td>\n",
       "      <td>27.50</td>\n",
       "      <td>38.0</td>\n",
       "    </tr>\n",
       "    <tr>\n",
       "      <th>2</th>\n",
       "      <td>Canada</td>\n",
       "      <td>26.50</td>\n",
       "      <td>26.44</td>\n",
       "      <td>33.00</td>\n",
       "      <td>5.0</td>\n",
       "    </tr>\n",
       "    <tr>\n",
       "      <th>3</th>\n",
       "      <td>China</td>\n",
       "      <td>25.00</td>\n",
       "      <td>20.00</td>\n",
       "      <td>45.00</td>\n",
       "      <td>13.0</td>\n",
       "    </tr>\n",
       "    <tr>\n",
       "      <th>4</th>\n",
       "      <td>France</td>\n",
       "      <td>28.00</td>\n",
       "      <td>32.02</td>\n",
       "      <td>45.00</td>\n",
       "      <td>20.0</td>\n",
       "    </tr>\n",
       "    <tr>\n",
       "      <th>5</th>\n",
       "      <td>Germany</td>\n",
       "      <td>30.00</td>\n",
       "      <td>29.90</td>\n",
       "      <td>45.00</td>\n",
       "      <td>16.0</td>\n",
       "    </tr>\n",
       "    <tr>\n",
       "      <th>6</th>\n",
       "      <td>India</td>\n",
       "      <td>25.17</td>\n",
       "      <td>10.00</td>\n",
       "      <td>35.88</td>\n",
       "      <td>18.0</td>\n",
       "    </tr>\n",
       "    <tr>\n",
       "      <th>7</th>\n",
       "      <td>Israel</td>\n",
       "      <td>23.00</td>\n",
       "      <td>23.00</td>\n",
       "      <td>50.00</td>\n",
       "      <td>17.0</td>\n",
       "    </tr>\n",
       "    <tr>\n",
       "      <th>8</th>\n",
       "      <td>Japan</td>\n",
       "      <td>30.62</td>\n",
       "      <td>29.74</td>\n",
       "      <td>55.95</td>\n",
       "      <td>10.0</td>\n",
       "    </tr>\n",
       "    <tr>\n",
       "      <th>9</th>\n",
       "      <td>Mexico</td>\n",
       "      <td>30.00</td>\n",
       "      <td>30.00</td>\n",
       "      <td>35.00</td>\n",
       "      <td>16.0</td>\n",
       "    </tr>\n",
       "    <tr>\n",
       "      <th>10</th>\n",
       "      <td>Poland</td>\n",
       "      <td>19.00</td>\n",
       "      <td>19.00</td>\n",
       "      <td>32.00</td>\n",
       "      <td>23.0</td>\n",
       "    </tr>\n",
       "    <tr>\n",
       "      <th>11</th>\n",
       "      <td>Portugal</td>\n",
       "      <td>21.00</td>\n",
       "      <td>31.50</td>\n",
       "      <td>48.00</td>\n",
       "      <td>23.0</td>\n",
       "    </tr>\n",
       "    <tr>\n",
       "      <th>12</th>\n",
       "      <td>Russia</td>\n",
       "      <td>20.00</td>\n",
       "      <td>13.00</td>\n",
       "      <td>13.00</td>\n",
       "      <td>20.0</td>\n",
       "    </tr>\n",
       "    <tr>\n",
       "      <th>13</th>\n",
       "      <td>Singapore</td>\n",
       "      <td>17.00</td>\n",
       "      <td>0.00</td>\n",
       "      <td>22.00</td>\n",
       "      <td>7.0</td>\n",
       "    </tr>\n",
       "    <tr>\n",
       "      <th>14</th>\n",
       "      <td>South Africa</td>\n",
       "      <td>28.00</td>\n",
       "      <td>20.00</td>\n",
       "      <td>45.00</td>\n",
       "      <td>15.0</td>\n",
       "    </tr>\n",
       "    <tr>\n",
       "      <th>15</th>\n",
       "      <td>Spain</td>\n",
       "      <td>25.00</td>\n",
       "      <td>25.00</td>\n",
       "      <td>45.00</td>\n",
       "      <td>21.0</td>\n",
       "    </tr>\n",
       "    <tr>\n",
       "      <th>16</th>\n",
       "      <td>United Kingdom</td>\n",
       "      <td>19.00</td>\n",
       "      <td>19.00</td>\n",
       "      <td>45.00</td>\n",
       "      <td>20.0</td>\n",
       "    </tr>\n",
       "    <tr>\n",
       "      <th>17</th>\n",
       "      <td>United States</td>\n",
       "      <td>21.00</td>\n",
       "      <td>25.77</td>\n",
       "      <td>37.00</td>\n",
       "      <td>7.0</td>\n",
       "    </tr>\n",
       "    <tr>\n",
       "      <th>18</th>\n",
       "      <td>Vietnam</td>\n",
       "      <td>20.00</td>\n",
       "      <td>5.00</td>\n",
       "      <td>35.00</td>\n",
       "      <td>10.0</td>\n",
       "    </tr>\n",
       "  </tbody>\n",
       "</table>\n",
       "</div>"
      ],
      "text/plain": [
       "           Country  Corporate Income Tax  Dividend Tax  Personal Income Tax  \\\n",
       "0        Argentina                 25.00         13.00                35.00   \n",
       "1           Brazil                 34.00          0.00                27.50   \n",
       "2           Canada                 26.50         26.44                33.00   \n",
       "3            China                 25.00         20.00                45.00   \n",
       "4           France                 28.00         32.02                45.00   \n",
       "5          Germany                 30.00         29.90                45.00   \n",
       "6            India                 25.17         10.00                35.88   \n",
       "7           Israel                 23.00         23.00                50.00   \n",
       "8            Japan                 30.62         29.74                55.95   \n",
       "9           Mexico                 30.00         30.00                35.00   \n",
       "10          Poland                 19.00         19.00                32.00   \n",
       "11        Portugal                 21.00         31.50                48.00   \n",
       "12          Russia                 20.00         13.00                13.00   \n",
       "13       Singapore                 17.00          0.00                22.00   \n",
       "14    South Africa                 28.00         20.00                45.00   \n",
       "15           Spain                 25.00         25.00                45.00   \n",
       "16  United Kingdom                 19.00         19.00                45.00   \n",
       "17   United States                 21.00         25.77                37.00   \n",
       "18         Vietnam                 20.00          5.00                35.00   \n",
       "\n",
       "    Sales Tax  \n",
       "0        21.0  \n",
       "1        38.0  \n",
       "2         5.0  \n",
       "3        13.0  \n",
       "4        20.0  \n",
       "5        16.0  \n",
       "6        18.0  \n",
       "7        17.0  \n",
       "8        10.0  \n",
       "9        16.0  \n",
       "10       23.0  \n",
       "11       23.0  \n",
       "12       20.0  \n",
       "13        7.0  \n",
       "14       15.0  \n",
       "15       21.0  \n",
       "16       20.0  \n",
       "17        7.0  \n",
       "18       10.0  "
      ]
     },
     "execution_count": 51,
     "metadata": {},
     "output_type": "execute_result"
    }
   ],
   "source": [
    "final_tax_system"
   ]
  },
  {
   "cell_type": "code",
   "execution_count": 261,
   "metadata": {},
   "outputs": [],
   "source": [
    "#Creating a bar plot showing all the taxes together.\n",
    "taxes_bar_graph = px.bar(data_frame=final_tax_system, x='Country', y=final_tax_system.columns, title='Taxes per Country - #01', width=980, height=600, color_discrete_sequence=px.colors.sequential.Bluyl_r)"
   ]
  },
  {
   "cell_type": "code",
   "execution_count": 269,
   "metadata": {},
   "outputs": [
    {
     "data": {
      "application/vnd.plotly.v1+json": {
       "config": {
        "plotlyServerURL": "https://plot.ly"
       },
       "data": [
        {
         "alignmentgroup": "True",
         "hovertemplate": "variable=Corporate Income Tax<br>Country=%{x}<br>value=%{y}<extra></extra>",
         "legendgroup": "Corporate Income Tax",
         "marker": {
          "color": "rgb(4, 82, 117)"
         },
         "name": "Corporate Income Tax",
         "offsetgroup": "Corporate Income Tax",
         "orientation": "v",
         "showlegend": true,
         "textposition": "auto",
         "type": "bar",
         "x": [
          "Argentina",
          "Brazil",
          "Canada",
          "China",
          "France",
          "Germany",
          "India",
          "Israel",
          "Japan",
          "Mexico",
          "Poland",
          "Portugal",
          "Russia",
          "Singapore",
          "South Africa",
          "Spain",
          "United Kingdom",
          "United States",
          "Vietnam"
         ],
         "xaxis": "x",
         "y": [
          25,
          34,
          26.5,
          25,
          28,
          30,
          25.17,
          23,
          30.62,
          30,
          19,
          21,
          20,
          17,
          28,
          25,
          19,
          21,
          20
         ],
         "yaxis": "y"
        },
        {
         "alignmentgroup": "True",
         "hovertemplate": "variable=Dividend Tax<br>Country=%{x}<br>value=%{y}<extra></extra>",
         "legendgroup": "Dividend Tax",
         "marker": {
          "color": "rgb(0, 113, 139)"
         },
         "name": "Dividend Tax",
         "offsetgroup": "Dividend Tax",
         "orientation": "v",
         "showlegend": true,
         "textposition": "auto",
         "type": "bar",
         "x": [
          "Argentina",
          "Brazil",
          "Canada",
          "China",
          "France",
          "Germany",
          "India",
          "Israel",
          "Japan",
          "Mexico",
          "Poland",
          "Portugal",
          "Russia",
          "Singapore",
          "South Africa",
          "Spain",
          "United Kingdom",
          "United States",
          "Vietnam"
         ],
         "xaxis": "x",
         "y": [
          13,
          0,
          26.44,
          20,
          32.02,
          29.9,
          10,
          23,
          29.74,
          30,
          19,
          31.5,
          13,
          0,
          20,
          25,
          19,
          25.77,
          5
         ],
         "yaxis": "y"
        },
        {
         "alignmentgroup": "True",
         "hovertemplate": "variable=Personal Income Tax<br>Country=%{x}<br>value=%{y}<extra></extra>",
         "legendgroup": "Personal Income Tax",
         "marker": {
          "color": "rgb(8, 144, 153)"
         },
         "name": "Personal Income Tax",
         "offsetgroup": "Personal Income Tax",
         "orientation": "v",
         "showlegend": true,
         "textposition": "auto",
         "type": "bar",
         "x": [
          "Argentina",
          "Brazil",
          "Canada",
          "China",
          "France",
          "Germany",
          "India",
          "Israel",
          "Japan",
          "Mexico",
          "Poland",
          "Portugal",
          "Russia",
          "Singapore",
          "South Africa",
          "Spain",
          "United Kingdom",
          "United States",
          "Vietnam"
         ],
         "xaxis": "x",
         "y": [
          35,
          27.5,
          33,
          45,
          45,
          45,
          35.88,
          50,
          55.95,
          35,
          32,
          48,
          13,
          22,
          45,
          45,
          45,
          37,
          35
         ],
         "yaxis": "y"
        },
        {
         "alignmentgroup": "True",
         "hovertemplate": "variable=Sales Tax<br>Country=%{x}<br>value=%{y}<extra></extra>",
         "legendgroup": "Sales Tax",
         "marker": {
          "color": "rgb(70, 174, 160)"
         },
         "name": "Sales Tax",
         "offsetgroup": "Sales Tax",
         "orientation": "v",
         "showlegend": true,
         "textposition": "auto",
         "type": "bar",
         "x": [
          "Argentina",
          "Brazil",
          "Canada",
          "China",
          "France",
          "Germany",
          "India",
          "Israel",
          "Japan",
          "Mexico",
          "Poland",
          "Portugal",
          "Russia",
          "Singapore",
          "South Africa",
          "Spain",
          "United Kingdom",
          "United States",
          "Vietnam"
         ],
         "xaxis": "x",
         "y": [
          21,
          38,
          5,
          13,
          20,
          16,
          18,
          17,
          10,
          16,
          23,
          23,
          20,
          7,
          15,
          21,
          20,
          7,
          10
         ],
         "yaxis": "y"
        }
       ],
       "layout": {
        "barmode": "relative",
        "height": 600,
        "legend": {
         "title": {
          "text": "Select tax:"
         },
         "tracegroupgap": 0
        },
        "margin": {
         "b": 70,
         "l": 0,
         "r": 0,
         "t": 55
        },
        "plot_bgcolor": "silver",
        "template": {
         "data": {
          "bar": [
           {
            "error_x": {
             "color": "#2a3f5f"
            },
            "error_y": {
             "color": "#2a3f5f"
            },
            "marker": {
             "line": {
              "color": "#E5ECF6",
              "width": 0.5
             }
            },
            "type": "bar"
           }
          ],
          "barpolar": [
           {
            "marker": {
             "line": {
              "color": "#E5ECF6",
              "width": 0.5
             }
            },
            "type": "barpolar"
           }
          ],
          "carpet": [
           {
            "aaxis": {
             "endlinecolor": "#2a3f5f",
             "gridcolor": "white",
             "linecolor": "white",
             "minorgridcolor": "white",
             "startlinecolor": "#2a3f5f"
            },
            "baxis": {
             "endlinecolor": "#2a3f5f",
             "gridcolor": "white",
             "linecolor": "white",
             "minorgridcolor": "white",
             "startlinecolor": "#2a3f5f"
            },
            "type": "carpet"
           }
          ],
          "choropleth": [
           {
            "colorbar": {
             "outlinewidth": 0,
             "ticks": ""
            },
            "type": "choropleth"
           }
          ],
          "contour": [
           {
            "colorbar": {
             "outlinewidth": 0,
             "ticks": ""
            },
            "colorscale": [
             [
              0,
              "#0d0887"
             ],
             [
              0.1111111111111111,
              "#46039f"
             ],
             [
              0.2222222222222222,
              "#7201a8"
             ],
             [
              0.3333333333333333,
              "#9c179e"
             ],
             [
              0.4444444444444444,
              "#bd3786"
             ],
             [
              0.5555555555555556,
              "#d8576b"
             ],
             [
              0.6666666666666666,
              "#ed7953"
             ],
             [
              0.7777777777777778,
              "#fb9f3a"
             ],
             [
              0.8888888888888888,
              "#fdca26"
             ],
             [
              1,
              "#f0f921"
             ]
            ],
            "type": "contour"
           }
          ],
          "contourcarpet": [
           {
            "colorbar": {
             "outlinewidth": 0,
             "ticks": ""
            },
            "type": "contourcarpet"
           }
          ],
          "heatmap": [
           {
            "colorbar": {
             "outlinewidth": 0,
             "ticks": ""
            },
            "colorscale": [
             [
              0,
              "#0d0887"
             ],
             [
              0.1111111111111111,
              "#46039f"
             ],
             [
              0.2222222222222222,
              "#7201a8"
             ],
             [
              0.3333333333333333,
              "#9c179e"
             ],
             [
              0.4444444444444444,
              "#bd3786"
             ],
             [
              0.5555555555555556,
              "#d8576b"
             ],
             [
              0.6666666666666666,
              "#ed7953"
             ],
             [
              0.7777777777777778,
              "#fb9f3a"
             ],
             [
              0.8888888888888888,
              "#fdca26"
             ],
             [
              1,
              "#f0f921"
             ]
            ],
            "type": "heatmap"
           }
          ],
          "heatmapgl": [
           {
            "colorbar": {
             "outlinewidth": 0,
             "ticks": ""
            },
            "colorscale": [
             [
              0,
              "#0d0887"
             ],
             [
              0.1111111111111111,
              "#46039f"
             ],
             [
              0.2222222222222222,
              "#7201a8"
             ],
             [
              0.3333333333333333,
              "#9c179e"
             ],
             [
              0.4444444444444444,
              "#bd3786"
             ],
             [
              0.5555555555555556,
              "#d8576b"
             ],
             [
              0.6666666666666666,
              "#ed7953"
             ],
             [
              0.7777777777777778,
              "#fb9f3a"
             ],
             [
              0.8888888888888888,
              "#fdca26"
             ],
             [
              1,
              "#f0f921"
             ]
            ],
            "type": "heatmapgl"
           }
          ],
          "histogram": [
           {
            "marker": {
             "colorbar": {
              "outlinewidth": 0,
              "ticks": ""
             }
            },
            "type": "histogram"
           }
          ],
          "histogram2d": [
           {
            "colorbar": {
             "outlinewidth": 0,
             "ticks": ""
            },
            "colorscale": [
             [
              0,
              "#0d0887"
             ],
             [
              0.1111111111111111,
              "#46039f"
             ],
             [
              0.2222222222222222,
              "#7201a8"
             ],
             [
              0.3333333333333333,
              "#9c179e"
             ],
             [
              0.4444444444444444,
              "#bd3786"
             ],
             [
              0.5555555555555556,
              "#d8576b"
             ],
             [
              0.6666666666666666,
              "#ed7953"
             ],
             [
              0.7777777777777778,
              "#fb9f3a"
             ],
             [
              0.8888888888888888,
              "#fdca26"
             ],
             [
              1,
              "#f0f921"
             ]
            ],
            "type": "histogram2d"
           }
          ],
          "histogram2dcontour": [
           {
            "colorbar": {
             "outlinewidth": 0,
             "ticks": ""
            },
            "colorscale": [
             [
              0,
              "#0d0887"
             ],
             [
              0.1111111111111111,
              "#46039f"
             ],
             [
              0.2222222222222222,
              "#7201a8"
             ],
             [
              0.3333333333333333,
              "#9c179e"
             ],
             [
              0.4444444444444444,
              "#bd3786"
             ],
             [
              0.5555555555555556,
              "#d8576b"
             ],
             [
              0.6666666666666666,
              "#ed7953"
             ],
             [
              0.7777777777777778,
              "#fb9f3a"
             ],
             [
              0.8888888888888888,
              "#fdca26"
             ],
             [
              1,
              "#f0f921"
             ]
            ],
            "type": "histogram2dcontour"
           }
          ],
          "mesh3d": [
           {
            "colorbar": {
             "outlinewidth": 0,
             "ticks": ""
            },
            "type": "mesh3d"
           }
          ],
          "parcoords": [
           {
            "line": {
             "colorbar": {
              "outlinewidth": 0,
              "ticks": ""
             }
            },
            "type": "parcoords"
           }
          ],
          "pie": [
           {
            "automargin": true,
            "type": "pie"
           }
          ],
          "scatter": [
           {
            "marker": {
             "colorbar": {
              "outlinewidth": 0,
              "ticks": ""
             }
            },
            "type": "scatter"
           }
          ],
          "scatter3d": [
           {
            "line": {
             "colorbar": {
              "outlinewidth": 0,
              "ticks": ""
             }
            },
            "marker": {
             "colorbar": {
              "outlinewidth": 0,
              "ticks": ""
             }
            },
            "type": "scatter3d"
           }
          ],
          "scattercarpet": [
           {
            "marker": {
             "colorbar": {
              "outlinewidth": 0,
              "ticks": ""
             }
            },
            "type": "scattercarpet"
           }
          ],
          "scattergeo": [
           {
            "marker": {
             "colorbar": {
              "outlinewidth": 0,
              "ticks": ""
             }
            },
            "type": "scattergeo"
           }
          ],
          "scattergl": [
           {
            "marker": {
             "colorbar": {
              "outlinewidth": 0,
              "ticks": ""
             }
            },
            "type": "scattergl"
           }
          ],
          "scattermapbox": [
           {
            "marker": {
             "colorbar": {
              "outlinewidth": 0,
              "ticks": ""
             }
            },
            "type": "scattermapbox"
           }
          ],
          "scatterpolar": [
           {
            "marker": {
             "colorbar": {
              "outlinewidth": 0,
              "ticks": ""
             }
            },
            "type": "scatterpolar"
           }
          ],
          "scatterpolargl": [
           {
            "marker": {
             "colorbar": {
              "outlinewidth": 0,
              "ticks": ""
             }
            },
            "type": "scatterpolargl"
           }
          ],
          "scatterternary": [
           {
            "marker": {
             "colorbar": {
              "outlinewidth": 0,
              "ticks": ""
             }
            },
            "type": "scatterternary"
           }
          ],
          "surface": [
           {
            "colorbar": {
             "outlinewidth": 0,
             "ticks": ""
            },
            "colorscale": [
             [
              0,
              "#0d0887"
             ],
             [
              0.1111111111111111,
              "#46039f"
             ],
             [
              0.2222222222222222,
              "#7201a8"
             ],
             [
              0.3333333333333333,
              "#9c179e"
             ],
             [
              0.4444444444444444,
              "#bd3786"
             ],
             [
              0.5555555555555556,
              "#d8576b"
             ],
             [
              0.6666666666666666,
              "#ed7953"
             ],
             [
              0.7777777777777778,
              "#fb9f3a"
             ],
             [
              0.8888888888888888,
              "#fdca26"
             ],
             [
              1,
              "#f0f921"
             ]
            ],
            "type": "surface"
           }
          ],
          "table": [
           {
            "cells": {
             "fill": {
              "color": "#EBF0F8"
             },
             "line": {
              "color": "white"
             }
            },
            "header": {
             "fill": {
              "color": "#C8D4E3"
             },
             "line": {
              "color": "white"
             }
            },
            "type": "table"
           }
          ]
         },
         "layout": {
          "annotationdefaults": {
           "arrowcolor": "#2a3f5f",
           "arrowhead": 0,
           "arrowwidth": 1
          },
          "coloraxis": {
           "colorbar": {
            "outlinewidth": 0,
            "ticks": ""
           }
          },
          "colorscale": {
           "diverging": [
            [
             0,
             "#8e0152"
            ],
            [
             0.1,
             "#c51b7d"
            ],
            [
             0.2,
             "#de77ae"
            ],
            [
             0.3,
             "#f1b6da"
            ],
            [
             0.4,
             "#fde0ef"
            ],
            [
             0.5,
             "#f7f7f7"
            ],
            [
             0.6,
             "#e6f5d0"
            ],
            [
             0.7,
             "#b8e186"
            ],
            [
             0.8,
             "#7fbc41"
            ],
            [
             0.9,
             "#4d9221"
            ],
            [
             1,
             "#276419"
            ]
           ],
           "sequential": [
            [
             0,
             "#0d0887"
            ],
            [
             0.1111111111111111,
             "#46039f"
            ],
            [
             0.2222222222222222,
             "#7201a8"
            ],
            [
             0.3333333333333333,
             "#9c179e"
            ],
            [
             0.4444444444444444,
             "#bd3786"
            ],
            [
             0.5555555555555556,
             "#d8576b"
            ],
            [
             0.6666666666666666,
             "#ed7953"
            ],
            [
             0.7777777777777778,
             "#fb9f3a"
            ],
            [
             0.8888888888888888,
             "#fdca26"
            ],
            [
             1,
             "#f0f921"
            ]
           ],
           "sequentialminus": [
            [
             0,
             "#0d0887"
            ],
            [
             0.1111111111111111,
             "#46039f"
            ],
            [
             0.2222222222222222,
             "#7201a8"
            ],
            [
             0.3333333333333333,
             "#9c179e"
            ],
            [
             0.4444444444444444,
             "#bd3786"
            ],
            [
             0.5555555555555556,
             "#d8576b"
            ],
            [
             0.6666666666666666,
             "#ed7953"
            ],
            [
             0.7777777777777778,
             "#fb9f3a"
            ],
            [
             0.8888888888888888,
             "#fdca26"
            ],
            [
             1,
             "#f0f921"
            ]
           ]
          },
          "colorway": [
           "#636efa",
           "#EF553B",
           "#00cc96",
           "#ab63fa",
           "#FFA15A",
           "#19d3f3",
           "#FF6692",
           "#B6E880",
           "#FF97FF",
           "#FECB52"
          ],
          "font": {
           "color": "#2a3f5f"
          },
          "geo": {
           "bgcolor": "white",
           "lakecolor": "white",
           "landcolor": "#E5ECF6",
           "showlakes": true,
           "showland": true,
           "subunitcolor": "white"
          },
          "hoverlabel": {
           "align": "left"
          },
          "hovermode": "closest",
          "mapbox": {
           "style": "light"
          },
          "paper_bgcolor": "white",
          "plot_bgcolor": "#E5ECF6",
          "polar": {
           "angularaxis": {
            "gridcolor": "white",
            "linecolor": "white",
            "ticks": ""
           },
           "bgcolor": "#E5ECF6",
           "radialaxis": {
            "gridcolor": "white",
            "linecolor": "white",
            "ticks": ""
           }
          },
          "scene": {
           "xaxis": {
            "backgroundcolor": "#E5ECF6",
            "gridcolor": "white",
            "gridwidth": 2,
            "linecolor": "white",
            "showbackground": true,
            "ticks": "",
            "zerolinecolor": "white"
           },
           "yaxis": {
            "backgroundcolor": "#E5ECF6",
            "gridcolor": "white",
            "gridwidth": 2,
            "linecolor": "white",
            "showbackground": true,
            "ticks": "",
            "zerolinecolor": "white"
           },
           "zaxis": {
            "backgroundcolor": "#E5ECF6",
            "gridcolor": "white",
            "gridwidth": 2,
            "linecolor": "white",
            "showbackground": true,
            "ticks": "",
            "zerolinecolor": "white"
           }
          },
          "shapedefaults": {
           "line": {
            "color": "#2a3f5f"
           }
          },
          "ternary": {
           "aaxis": {
            "gridcolor": "white",
            "linecolor": "white",
            "ticks": ""
           },
           "baxis": {
            "gridcolor": "white",
            "linecolor": "white",
            "ticks": ""
           },
           "bgcolor": "#E5ECF6",
           "caxis": {
            "gridcolor": "white",
            "linecolor": "white",
            "ticks": ""
           }
          },
          "title": {
           "x": 0.05
          },
          "xaxis": {
           "automargin": true,
           "gridcolor": "white",
           "linecolor": "white",
           "ticks": "",
           "title": {
            "standoff": 15
           },
           "zerolinecolor": "white",
           "zerolinewidth": 2
          },
          "yaxis": {
           "automargin": true,
           "gridcolor": "white",
           "linecolor": "white",
           "ticks": "",
           "title": {
            "standoff": 15
           },
           "zerolinecolor": "white",
           "zerolinewidth": 2
          }
         }
        },
        "title": {
         "text": "Taxes per Country - #01",
         "x": 0.45
        },
        "width": 980,
        "xaxis": {
         "anchor": "y",
         "domain": [
          0,
          1
         ],
         "title": {
          "text": "Country"
         }
        },
        "yaxis": {
         "anchor": "x",
         "domain": [
          0,
          1
         ],
         "title": {
          "text": "Tax %"
         }
        }
       }
      },
      "text/html": [
       "<div>                            <div id=\"ee0df686-1e76-4cbb-905f-308c6d0a7b89\" class=\"plotly-graph-div\" style=\"height:600px; width:980px;\"></div>            <script type=\"text/javascript\">                require([\"plotly\"], function(Plotly) {                    window.PLOTLYENV=window.PLOTLYENV || {};                                    if (document.getElementById(\"ee0df686-1e76-4cbb-905f-308c6d0a7b89\")) {                    Plotly.newPlot(                        \"ee0df686-1e76-4cbb-905f-308c6d0a7b89\",                        [{\"alignmentgroup\": \"True\", \"hovertemplate\": \"variable=Corporate Income Tax<br>Country=%{x}<br>value=%{y}<extra></extra>\", \"legendgroup\": \"Corporate Income Tax\", \"marker\": {\"color\": \"rgb(4, 82, 117)\"}, \"name\": \"Corporate Income Tax\", \"offsetgroup\": \"Corporate Income Tax\", \"orientation\": \"v\", \"showlegend\": true, \"textposition\": \"auto\", \"type\": \"bar\", \"x\": [\"Argentina\", \"Brazil\", \"Canada\", \"China\", \"France\", \"Germany\", \"India\", \"Israel\", \"Japan\", \"Mexico\", \"Poland\", \"Portugal\", \"Russia\", \"Singapore\", \"South Africa\", \"Spain\", \"United Kingdom\", \"United States\", \"Vietnam\"], \"xaxis\": \"x\", \"y\": [25.0, 34.0, 26.5, 25.0, 28.0, 30.0, 25.17, 23.0, 30.62, 30.0, 19.0, 21.0, 20.0, 17.0, 28.0, 25.0, 19.0, 21.0, 20.0], \"yaxis\": \"y\"}, {\"alignmentgroup\": \"True\", \"hovertemplate\": \"variable=Dividend Tax<br>Country=%{x}<br>value=%{y}<extra></extra>\", \"legendgroup\": \"Dividend Tax\", \"marker\": {\"color\": \"rgb(0, 113, 139)\"}, \"name\": \"Dividend Tax\", \"offsetgroup\": \"Dividend Tax\", \"orientation\": \"v\", \"showlegend\": true, \"textposition\": \"auto\", \"type\": \"bar\", \"x\": [\"Argentina\", \"Brazil\", \"Canada\", \"China\", \"France\", \"Germany\", \"India\", \"Israel\", \"Japan\", \"Mexico\", \"Poland\", \"Portugal\", \"Russia\", \"Singapore\", \"South Africa\", \"Spain\", \"United Kingdom\", \"United States\", \"Vietnam\"], \"xaxis\": \"x\", \"y\": [13.0, 0.0, 26.44, 20.0, 32.02, 29.9, 10.0, 23.0, 29.74, 30.0, 19.0, 31.5, 13.0, 0.0, 20.0, 25.0, 19.0, 25.77, 5.0], \"yaxis\": \"y\"}, {\"alignmentgroup\": \"True\", \"hovertemplate\": \"variable=Personal Income Tax<br>Country=%{x}<br>value=%{y}<extra></extra>\", \"legendgroup\": \"Personal Income Tax\", \"marker\": {\"color\": \"rgb(8, 144, 153)\"}, \"name\": \"Personal Income Tax\", \"offsetgroup\": \"Personal Income Tax\", \"orientation\": \"v\", \"showlegend\": true, \"textposition\": \"auto\", \"type\": \"bar\", \"x\": [\"Argentina\", \"Brazil\", \"Canada\", \"China\", \"France\", \"Germany\", \"India\", \"Israel\", \"Japan\", \"Mexico\", \"Poland\", \"Portugal\", \"Russia\", \"Singapore\", \"South Africa\", \"Spain\", \"United Kingdom\", \"United States\", \"Vietnam\"], \"xaxis\": \"x\", \"y\": [35.0, 27.5, 33.0, 45.0, 45.0, 45.0, 35.88, 50.0, 55.95, 35.0, 32.0, 48.0, 13.0, 22.0, 45.0, 45.0, 45.0, 37.0, 35.0], \"yaxis\": \"y\"}, {\"alignmentgroup\": \"True\", \"hovertemplate\": \"variable=Sales Tax<br>Country=%{x}<br>value=%{y}<extra></extra>\", \"legendgroup\": \"Sales Tax\", \"marker\": {\"color\": \"rgb(70, 174, 160)\"}, \"name\": \"Sales Tax\", \"offsetgroup\": \"Sales Tax\", \"orientation\": \"v\", \"showlegend\": true, \"textposition\": \"auto\", \"type\": \"bar\", \"x\": [\"Argentina\", \"Brazil\", \"Canada\", \"China\", \"France\", \"Germany\", \"India\", \"Israel\", \"Japan\", \"Mexico\", \"Poland\", \"Portugal\", \"Russia\", \"Singapore\", \"South Africa\", \"Spain\", \"United Kingdom\", \"United States\", \"Vietnam\"], \"xaxis\": \"x\", \"y\": [21.0, 38.0, 5.0, 13.0, 20.0, 16.0, 18.0, 17.0, 10.0, 16.0, 23.0, 23.0, 20.0, 7.0, 15.0, 21.0, 20.0, 7.0, 10.0], \"yaxis\": \"y\"}],                        {\"barmode\": \"relative\", \"height\": 600, \"legend\": {\"title\": {\"text\": \"Select tax:\"}, \"tracegroupgap\": 0}, \"margin\": {\"b\": 70, \"l\": 0, \"r\": 0, \"t\": 55}, \"plot_bgcolor\": \"silver\", \"template\": {\"data\": {\"bar\": [{\"error_x\": {\"color\": \"#2a3f5f\"}, \"error_y\": {\"color\": \"#2a3f5f\"}, \"marker\": {\"line\": {\"color\": \"#E5ECF6\", \"width\": 0.5}}, \"type\": \"bar\"}], \"barpolar\": [{\"marker\": {\"line\": {\"color\": \"#E5ECF6\", \"width\": 0.5}}, \"type\": \"barpolar\"}], \"carpet\": [{\"aaxis\": {\"endlinecolor\": \"#2a3f5f\", \"gridcolor\": \"white\", \"linecolor\": \"white\", \"minorgridcolor\": \"white\", \"startlinecolor\": \"#2a3f5f\"}, \"baxis\": {\"endlinecolor\": \"#2a3f5f\", \"gridcolor\": \"white\", \"linecolor\": \"white\", \"minorgridcolor\": \"white\", \"startlinecolor\": \"#2a3f5f\"}, \"type\": \"carpet\"}], \"choropleth\": [{\"colorbar\": {\"outlinewidth\": 0, \"ticks\": \"\"}, \"type\": \"choropleth\"}], \"contour\": [{\"colorbar\": {\"outlinewidth\": 0, \"ticks\": \"\"}, \"colorscale\": [[0.0, \"#0d0887\"], [0.1111111111111111, \"#46039f\"], [0.2222222222222222, \"#7201a8\"], [0.3333333333333333, \"#9c179e\"], [0.4444444444444444, \"#bd3786\"], [0.5555555555555556, \"#d8576b\"], [0.6666666666666666, \"#ed7953\"], [0.7777777777777778, \"#fb9f3a\"], [0.8888888888888888, \"#fdca26\"], [1.0, \"#f0f921\"]], \"type\": \"contour\"}], \"contourcarpet\": [{\"colorbar\": {\"outlinewidth\": 0, \"ticks\": \"\"}, \"type\": \"contourcarpet\"}], \"heatmap\": [{\"colorbar\": {\"outlinewidth\": 0, \"ticks\": \"\"}, \"colorscale\": [[0.0, \"#0d0887\"], [0.1111111111111111, \"#46039f\"], [0.2222222222222222, \"#7201a8\"], [0.3333333333333333, \"#9c179e\"], [0.4444444444444444, \"#bd3786\"], [0.5555555555555556, \"#d8576b\"], [0.6666666666666666, \"#ed7953\"], [0.7777777777777778, \"#fb9f3a\"], [0.8888888888888888, \"#fdca26\"], [1.0, \"#f0f921\"]], \"type\": \"heatmap\"}], \"heatmapgl\": [{\"colorbar\": {\"outlinewidth\": 0, \"ticks\": \"\"}, \"colorscale\": [[0.0, \"#0d0887\"], [0.1111111111111111, \"#46039f\"], [0.2222222222222222, \"#7201a8\"], [0.3333333333333333, \"#9c179e\"], [0.4444444444444444, \"#bd3786\"], [0.5555555555555556, \"#d8576b\"], [0.6666666666666666, \"#ed7953\"], [0.7777777777777778, \"#fb9f3a\"], [0.8888888888888888, \"#fdca26\"], [1.0, \"#f0f921\"]], \"type\": \"heatmapgl\"}], \"histogram\": [{\"marker\": {\"colorbar\": {\"outlinewidth\": 0, \"ticks\": \"\"}}, \"type\": \"histogram\"}], \"histogram2d\": [{\"colorbar\": {\"outlinewidth\": 0, \"ticks\": \"\"}, \"colorscale\": [[0.0, \"#0d0887\"], [0.1111111111111111, \"#46039f\"], [0.2222222222222222, \"#7201a8\"], [0.3333333333333333, \"#9c179e\"], [0.4444444444444444, \"#bd3786\"], [0.5555555555555556, \"#d8576b\"], [0.6666666666666666, \"#ed7953\"], [0.7777777777777778, \"#fb9f3a\"], [0.8888888888888888, \"#fdca26\"], [1.0, \"#f0f921\"]], \"type\": \"histogram2d\"}], \"histogram2dcontour\": [{\"colorbar\": {\"outlinewidth\": 0, \"ticks\": \"\"}, \"colorscale\": [[0.0, \"#0d0887\"], [0.1111111111111111, \"#46039f\"], [0.2222222222222222, \"#7201a8\"], [0.3333333333333333, \"#9c179e\"], [0.4444444444444444, \"#bd3786\"], [0.5555555555555556, \"#d8576b\"], [0.6666666666666666, \"#ed7953\"], [0.7777777777777778, \"#fb9f3a\"], [0.8888888888888888, \"#fdca26\"], [1.0, \"#f0f921\"]], \"type\": \"histogram2dcontour\"}], \"mesh3d\": [{\"colorbar\": {\"outlinewidth\": 0, \"ticks\": \"\"}, \"type\": \"mesh3d\"}], \"parcoords\": [{\"line\": {\"colorbar\": {\"outlinewidth\": 0, \"ticks\": \"\"}}, \"type\": \"parcoords\"}], \"pie\": [{\"automargin\": true, \"type\": \"pie\"}], \"scatter\": [{\"marker\": {\"colorbar\": {\"outlinewidth\": 0, \"ticks\": \"\"}}, \"type\": \"scatter\"}], \"scatter3d\": [{\"line\": {\"colorbar\": {\"outlinewidth\": 0, \"ticks\": \"\"}}, \"marker\": {\"colorbar\": {\"outlinewidth\": 0, \"ticks\": \"\"}}, \"type\": \"scatter3d\"}], \"scattercarpet\": [{\"marker\": {\"colorbar\": {\"outlinewidth\": 0, \"ticks\": \"\"}}, \"type\": \"scattercarpet\"}], \"scattergeo\": [{\"marker\": {\"colorbar\": {\"outlinewidth\": 0, \"ticks\": \"\"}}, \"type\": \"scattergeo\"}], \"scattergl\": [{\"marker\": {\"colorbar\": {\"outlinewidth\": 0, \"ticks\": \"\"}}, \"type\": \"scattergl\"}], \"scattermapbox\": [{\"marker\": {\"colorbar\": {\"outlinewidth\": 0, \"ticks\": \"\"}}, \"type\": \"scattermapbox\"}], \"scatterpolar\": [{\"marker\": {\"colorbar\": {\"outlinewidth\": 0, \"ticks\": \"\"}}, \"type\": \"scatterpolar\"}], \"scatterpolargl\": [{\"marker\": {\"colorbar\": {\"outlinewidth\": 0, \"ticks\": \"\"}}, \"type\": \"scatterpolargl\"}], \"scatterternary\": [{\"marker\": {\"colorbar\": {\"outlinewidth\": 0, \"ticks\": \"\"}}, \"type\": \"scatterternary\"}], \"surface\": [{\"colorbar\": {\"outlinewidth\": 0, \"ticks\": \"\"}, \"colorscale\": [[0.0, \"#0d0887\"], [0.1111111111111111, \"#46039f\"], [0.2222222222222222, \"#7201a8\"], [0.3333333333333333, \"#9c179e\"], [0.4444444444444444, \"#bd3786\"], [0.5555555555555556, \"#d8576b\"], [0.6666666666666666, \"#ed7953\"], [0.7777777777777778, \"#fb9f3a\"], [0.8888888888888888, \"#fdca26\"], [1.0, \"#f0f921\"]], \"type\": \"surface\"}], \"table\": [{\"cells\": {\"fill\": {\"color\": \"#EBF0F8\"}, \"line\": {\"color\": \"white\"}}, \"header\": {\"fill\": {\"color\": \"#C8D4E3\"}, \"line\": {\"color\": \"white\"}}, \"type\": \"table\"}]}, \"layout\": {\"annotationdefaults\": {\"arrowcolor\": \"#2a3f5f\", \"arrowhead\": 0, \"arrowwidth\": 1}, \"coloraxis\": {\"colorbar\": {\"outlinewidth\": 0, \"ticks\": \"\"}}, \"colorscale\": {\"diverging\": [[0, \"#8e0152\"], [0.1, \"#c51b7d\"], [0.2, \"#de77ae\"], [0.3, \"#f1b6da\"], [0.4, \"#fde0ef\"], [0.5, \"#f7f7f7\"], [0.6, \"#e6f5d0\"], [0.7, \"#b8e186\"], [0.8, \"#7fbc41\"], [0.9, \"#4d9221\"], [1, \"#276419\"]], \"sequential\": [[0.0, \"#0d0887\"], [0.1111111111111111, \"#46039f\"], [0.2222222222222222, \"#7201a8\"], [0.3333333333333333, \"#9c179e\"], [0.4444444444444444, \"#bd3786\"], [0.5555555555555556, \"#d8576b\"], [0.6666666666666666, \"#ed7953\"], [0.7777777777777778, \"#fb9f3a\"], [0.8888888888888888, \"#fdca26\"], [1.0, \"#f0f921\"]], \"sequentialminus\": [[0.0, \"#0d0887\"], [0.1111111111111111, \"#46039f\"], [0.2222222222222222, \"#7201a8\"], [0.3333333333333333, \"#9c179e\"], [0.4444444444444444, \"#bd3786\"], [0.5555555555555556, \"#d8576b\"], [0.6666666666666666, \"#ed7953\"], [0.7777777777777778, \"#fb9f3a\"], [0.8888888888888888, \"#fdca26\"], [1.0, \"#f0f921\"]]}, \"colorway\": [\"#636efa\", \"#EF553B\", \"#00cc96\", \"#ab63fa\", \"#FFA15A\", \"#19d3f3\", \"#FF6692\", \"#B6E880\", \"#FF97FF\", \"#FECB52\"], \"font\": {\"color\": \"#2a3f5f\"}, \"geo\": {\"bgcolor\": \"white\", \"lakecolor\": \"white\", \"landcolor\": \"#E5ECF6\", \"showlakes\": true, \"showland\": true, \"subunitcolor\": \"white\"}, \"hoverlabel\": {\"align\": \"left\"}, \"hovermode\": \"closest\", \"mapbox\": {\"style\": \"light\"}, \"paper_bgcolor\": \"white\", \"plot_bgcolor\": \"#E5ECF6\", \"polar\": {\"angularaxis\": {\"gridcolor\": \"white\", \"linecolor\": \"white\", \"ticks\": \"\"}, \"bgcolor\": \"#E5ECF6\", \"radialaxis\": {\"gridcolor\": \"white\", \"linecolor\": \"white\", \"ticks\": \"\"}}, \"scene\": {\"xaxis\": {\"backgroundcolor\": \"#E5ECF6\", \"gridcolor\": \"white\", \"gridwidth\": 2, \"linecolor\": \"white\", \"showbackground\": true, \"ticks\": \"\", \"zerolinecolor\": \"white\"}, \"yaxis\": {\"backgroundcolor\": \"#E5ECF6\", \"gridcolor\": \"white\", \"gridwidth\": 2, \"linecolor\": \"white\", \"showbackground\": true, \"ticks\": \"\", \"zerolinecolor\": \"white\"}, \"zaxis\": {\"backgroundcolor\": \"#E5ECF6\", \"gridcolor\": \"white\", \"gridwidth\": 2, \"linecolor\": \"white\", \"showbackground\": true, \"ticks\": \"\", \"zerolinecolor\": \"white\"}}, \"shapedefaults\": {\"line\": {\"color\": \"#2a3f5f\"}}, \"ternary\": {\"aaxis\": {\"gridcolor\": \"white\", \"linecolor\": \"white\", \"ticks\": \"\"}, \"baxis\": {\"gridcolor\": \"white\", \"linecolor\": \"white\", \"ticks\": \"\"}, \"bgcolor\": \"#E5ECF6\", \"caxis\": {\"gridcolor\": \"white\", \"linecolor\": \"white\", \"ticks\": \"\"}}, \"title\": {\"x\": 0.05}, \"xaxis\": {\"automargin\": true, \"gridcolor\": \"white\", \"linecolor\": \"white\", \"ticks\": \"\", \"title\": {\"standoff\": 15}, \"zerolinecolor\": \"white\", \"zerolinewidth\": 2}, \"yaxis\": {\"automargin\": true, \"gridcolor\": \"white\", \"linecolor\": \"white\", \"ticks\": \"\", \"title\": {\"standoff\": 15}, \"zerolinecolor\": \"white\", \"zerolinewidth\": 2}}}, \"title\": {\"text\": \"Taxes per Country - #01\", \"x\": 0.45}, \"width\": 980, \"xaxis\": {\"anchor\": \"y\", \"domain\": [0.0, 1.0], \"title\": {\"text\": \"Country\"}}, \"yaxis\": {\"anchor\": \"x\", \"domain\": [0.0, 1.0], \"title\": {\"text\": \"Tax %\"}}},                        {\"responsive\": true}                    ).then(function(){\n",
       "                            \n",
       "var gd = document.getElementById('ee0df686-1e76-4cbb-905f-308c6d0a7b89');\n",
       "var x = new MutationObserver(function (mutations, observer) {{\n",
       "        var display = window.getComputedStyle(gd).display;\n",
       "        if (!display || display === 'none') {{\n",
       "            console.log([gd, 'removed!']);\n",
       "            Plotly.purge(gd);\n",
       "            observer.disconnect();\n",
       "        }}\n",
       "}});\n",
       "\n",
       "// Listen for the removal of the full notebook cells\n",
       "var notebookContainer = gd.closest('#notebook-container');\n",
       "if (notebookContainer) {{\n",
       "    x.observe(notebookContainer, {childList: true});\n",
       "}}\n",
       "\n",
       "// Listen for the clearing of the current output cell\n",
       "var outputEl = gd.closest('.output');\n",
       "if (outputEl) {{\n",
       "    x.observe(outputEl, {childList: true});\n",
       "}}\n",
       "\n",
       "                        })                };                });            </script>        </div>"
      ]
     },
     "metadata": {},
     "output_type": "display_data"
    }
   ],
   "source": [
    "#Formatting the y axis title, plot background color and title of the legend and align title to the center.\n",
    "taxes_bar_graph.update_yaxes(title='Tax %')\n",
    "taxes_bar_graph.update_layout(margin={'t':55, 'b':70, 'l':0, 'r':0}, plot_bgcolor='silver', legend={'title':'Select tax:'}, title_x=0.45)\n"
   ]
  },
  {
   "cell_type": "code",
   "execution_count": 259,
   "metadata": {},
   "outputs": [],
   "source": [
    "#Histogram chart showing each tax by country separetly.\n",
    "taxes_hist_graph = px.histogram(data_frame=final_tax_system, x='Country', y=final_tax_system.columns, barmode='group', title='Taxes per Country - #02', width=990, height=600, color_discrete_sequence=px.colors.sequential.Bluyl_r)"
   ]
  },
  {
   "cell_type": "code",
   "execution_count": 270,
   "metadata": {},
   "outputs": [
    {
     "data": {
      "application/vnd.plotly.v1+json": {
       "config": {
        "plotlyServerURL": "https://plot.ly"
       },
       "data": [
        {
         "alignmentgroup": "True",
         "bingroup": "x",
         "histfunc": "sum",
         "hovertemplate": "variable=Corporate Income Tax<br>Country=%{x}<br>sum of value=%{y}<extra></extra>",
         "legendgroup": "Corporate Income Tax",
         "marker": {
          "color": "rgb(4, 82, 117)"
         },
         "name": "Corporate Income Tax",
         "offsetgroup": "Corporate Income Tax",
         "orientation": "v",
         "showlegend": true,
         "type": "histogram",
         "x": [
          "Argentina",
          "Brazil",
          "Canada",
          "China",
          "France",
          "Germany",
          "India",
          "Israel",
          "Japan",
          "Mexico",
          "Poland",
          "Portugal",
          "Russia",
          "Singapore",
          "South Africa",
          "Spain",
          "United Kingdom",
          "United States",
          "Vietnam"
         ],
         "xaxis": "x",
         "y": [
          25,
          34,
          26.5,
          25,
          28,
          30,
          25.17,
          23,
          30.62,
          30,
          19,
          21,
          20,
          17,
          28,
          25,
          19,
          21,
          20
         ],
         "yaxis": "y"
        },
        {
         "alignmentgroup": "True",
         "bingroup": "x",
         "histfunc": "sum",
         "hovertemplate": "variable=Dividend Tax<br>Country=%{x}<br>sum of value=%{y}<extra></extra>",
         "legendgroup": "Dividend Tax",
         "marker": {
          "color": "rgb(0, 113, 139)"
         },
         "name": "Dividend Tax",
         "offsetgroup": "Dividend Tax",
         "orientation": "v",
         "showlegend": true,
         "type": "histogram",
         "x": [
          "Argentina",
          "Brazil",
          "Canada",
          "China",
          "France",
          "Germany",
          "India",
          "Israel",
          "Japan",
          "Mexico",
          "Poland",
          "Portugal",
          "Russia",
          "Singapore",
          "South Africa",
          "Spain",
          "United Kingdom",
          "United States",
          "Vietnam"
         ],
         "xaxis": "x",
         "y": [
          13,
          0,
          26.44,
          20,
          32.02,
          29.9,
          10,
          23,
          29.74,
          30,
          19,
          31.5,
          13,
          0,
          20,
          25,
          19,
          25.77,
          5
         ],
         "yaxis": "y"
        },
        {
         "alignmentgroup": "True",
         "bingroup": "x",
         "histfunc": "sum",
         "hovertemplate": "variable=Personal Income Tax<br>Country=%{x}<br>sum of value=%{y}<extra></extra>",
         "legendgroup": "Personal Income Tax",
         "marker": {
          "color": "rgb(8, 144, 153)"
         },
         "name": "Personal Income Tax",
         "offsetgroup": "Personal Income Tax",
         "orientation": "v",
         "showlegend": true,
         "type": "histogram",
         "x": [
          "Argentina",
          "Brazil",
          "Canada",
          "China",
          "France",
          "Germany",
          "India",
          "Israel",
          "Japan",
          "Mexico",
          "Poland",
          "Portugal",
          "Russia",
          "Singapore",
          "South Africa",
          "Spain",
          "United Kingdom",
          "United States",
          "Vietnam"
         ],
         "xaxis": "x",
         "y": [
          35,
          27.5,
          33,
          45,
          45,
          45,
          35.88,
          50,
          55.95,
          35,
          32,
          48,
          13,
          22,
          45,
          45,
          45,
          37,
          35
         ],
         "yaxis": "y"
        },
        {
         "alignmentgroup": "True",
         "bingroup": "x",
         "histfunc": "sum",
         "hovertemplate": "variable=Sales Tax<br>Country=%{x}<br>sum of value=%{y}<extra></extra>",
         "legendgroup": "Sales Tax",
         "marker": {
          "color": "rgb(70, 174, 160)"
         },
         "name": "Sales Tax",
         "offsetgroup": "Sales Tax",
         "orientation": "v",
         "showlegend": true,
         "type": "histogram",
         "x": [
          "Argentina",
          "Brazil",
          "Canada",
          "China",
          "France",
          "Germany",
          "India",
          "Israel",
          "Japan",
          "Mexico",
          "Poland",
          "Portugal",
          "Russia",
          "Singapore",
          "South Africa",
          "Spain",
          "United Kingdom",
          "United States",
          "Vietnam"
         ],
         "xaxis": "x",
         "y": [
          21,
          38,
          5,
          13,
          20,
          16,
          18,
          17,
          10,
          16,
          23,
          23,
          20,
          7,
          15,
          21,
          20,
          7,
          10
         ],
         "yaxis": "y"
        }
       ],
       "layout": {
        "barmode": "group",
        "height": 600,
        "legend": {
         "title": {
          "text": "Select tax:"
         },
         "tracegroupgap": 0
        },
        "margin": {
         "b": 70,
         "l": 0,
         "r": 0,
         "t": 55
        },
        "plot_bgcolor": "silver",
        "template": {
         "data": {
          "bar": [
           {
            "error_x": {
             "color": "#2a3f5f"
            },
            "error_y": {
             "color": "#2a3f5f"
            },
            "marker": {
             "line": {
              "color": "#E5ECF6",
              "width": 0.5
             }
            },
            "type": "bar"
           }
          ],
          "barpolar": [
           {
            "marker": {
             "line": {
              "color": "#E5ECF6",
              "width": 0.5
             }
            },
            "type": "barpolar"
           }
          ],
          "carpet": [
           {
            "aaxis": {
             "endlinecolor": "#2a3f5f",
             "gridcolor": "white",
             "linecolor": "white",
             "minorgridcolor": "white",
             "startlinecolor": "#2a3f5f"
            },
            "baxis": {
             "endlinecolor": "#2a3f5f",
             "gridcolor": "white",
             "linecolor": "white",
             "minorgridcolor": "white",
             "startlinecolor": "#2a3f5f"
            },
            "type": "carpet"
           }
          ],
          "choropleth": [
           {
            "colorbar": {
             "outlinewidth": 0,
             "ticks": ""
            },
            "type": "choropleth"
           }
          ],
          "contour": [
           {
            "colorbar": {
             "outlinewidth": 0,
             "ticks": ""
            },
            "colorscale": [
             [
              0,
              "#0d0887"
             ],
             [
              0.1111111111111111,
              "#46039f"
             ],
             [
              0.2222222222222222,
              "#7201a8"
             ],
             [
              0.3333333333333333,
              "#9c179e"
             ],
             [
              0.4444444444444444,
              "#bd3786"
             ],
             [
              0.5555555555555556,
              "#d8576b"
             ],
             [
              0.6666666666666666,
              "#ed7953"
             ],
             [
              0.7777777777777778,
              "#fb9f3a"
             ],
             [
              0.8888888888888888,
              "#fdca26"
             ],
             [
              1,
              "#f0f921"
             ]
            ],
            "type": "contour"
           }
          ],
          "contourcarpet": [
           {
            "colorbar": {
             "outlinewidth": 0,
             "ticks": ""
            },
            "type": "contourcarpet"
           }
          ],
          "heatmap": [
           {
            "colorbar": {
             "outlinewidth": 0,
             "ticks": ""
            },
            "colorscale": [
             [
              0,
              "#0d0887"
             ],
             [
              0.1111111111111111,
              "#46039f"
             ],
             [
              0.2222222222222222,
              "#7201a8"
             ],
             [
              0.3333333333333333,
              "#9c179e"
             ],
             [
              0.4444444444444444,
              "#bd3786"
             ],
             [
              0.5555555555555556,
              "#d8576b"
             ],
             [
              0.6666666666666666,
              "#ed7953"
             ],
             [
              0.7777777777777778,
              "#fb9f3a"
             ],
             [
              0.8888888888888888,
              "#fdca26"
             ],
             [
              1,
              "#f0f921"
             ]
            ],
            "type": "heatmap"
           }
          ],
          "heatmapgl": [
           {
            "colorbar": {
             "outlinewidth": 0,
             "ticks": ""
            },
            "colorscale": [
             [
              0,
              "#0d0887"
             ],
             [
              0.1111111111111111,
              "#46039f"
             ],
             [
              0.2222222222222222,
              "#7201a8"
             ],
             [
              0.3333333333333333,
              "#9c179e"
             ],
             [
              0.4444444444444444,
              "#bd3786"
             ],
             [
              0.5555555555555556,
              "#d8576b"
             ],
             [
              0.6666666666666666,
              "#ed7953"
             ],
             [
              0.7777777777777778,
              "#fb9f3a"
             ],
             [
              0.8888888888888888,
              "#fdca26"
             ],
             [
              1,
              "#f0f921"
             ]
            ],
            "type": "heatmapgl"
           }
          ],
          "histogram": [
           {
            "marker": {
             "colorbar": {
              "outlinewidth": 0,
              "ticks": ""
             }
            },
            "type": "histogram"
           }
          ],
          "histogram2d": [
           {
            "colorbar": {
             "outlinewidth": 0,
             "ticks": ""
            },
            "colorscale": [
             [
              0,
              "#0d0887"
             ],
             [
              0.1111111111111111,
              "#46039f"
             ],
             [
              0.2222222222222222,
              "#7201a8"
             ],
             [
              0.3333333333333333,
              "#9c179e"
             ],
             [
              0.4444444444444444,
              "#bd3786"
             ],
             [
              0.5555555555555556,
              "#d8576b"
             ],
             [
              0.6666666666666666,
              "#ed7953"
             ],
             [
              0.7777777777777778,
              "#fb9f3a"
             ],
             [
              0.8888888888888888,
              "#fdca26"
             ],
             [
              1,
              "#f0f921"
             ]
            ],
            "type": "histogram2d"
           }
          ],
          "histogram2dcontour": [
           {
            "colorbar": {
             "outlinewidth": 0,
             "ticks": ""
            },
            "colorscale": [
             [
              0,
              "#0d0887"
             ],
             [
              0.1111111111111111,
              "#46039f"
             ],
             [
              0.2222222222222222,
              "#7201a8"
             ],
             [
              0.3333333333333333,
              "#9c179e"
             ],
             [
              0.4444444444444444,
              "#bd3786"
             ],
             [
              0.5555555555555556,
              "#d8576b"
             ],
             [
              0.6666666666666666,
              "#ed7953"
             ],
             [
              0.7777777777777778,
              "#fb9f3a"
             ],
             [
              0.8888888888888888,
              "#fdca26"
             ],
             [
              1,
              "#f0f921"
             ]
            ],
            "type": "histogram2dcontour"
           }
          ],
          "mesh3d": [
           {
            "colorbar": {
             "outlinewidth": 0,
             "ticks": ""
            },
            "type": "mesh3d"
           }
          ],
          "parcoords": [
           {
            "line": {
             "colorbar": {
              "outlinewidth": 0,
              "ticks": ""
             }
            },
            "type": "parcoords"
           }
          ],
          "pie": [
           {
            "automargin": true,
            "type": "pie"
           }
          ],
          "scatter": [
           {
            "marker": {
             "colorbar": {
              "outlinewidth": 0,
              "ticks": ""
             }
            },
            "type": "scatter"
           }
          ],
          "scatter3d": [
           {
            "line": {
             "colorbar": {
              "outlinewidth": 0,
              "ticks": ""
             }
            },
            "marker": {
             "colorbar": {
              "outlinewidth": 0,
              "ticks": ""
             }
            },
            "type": "scatter3d"
           }
          ],
          "scattercarpet": [
           {
            "marker": {
             "colorbar": {
              "outlinewidth": 0,
              "ticks": ""
             }
            },
            "type": "scattercarpet"
           }
          ],
          "scattergeo": [
           {
            "marker": {
             "colorbar": {
              "outlinewidth": 0,
              "ticks": ""
             }
            },
            "type": "scattergeo"
           }
          ],
          "scattergl": [
           {
            "marker": {
             "colorbar": {
              "outlinewidth": 0,
              "ticks": ""
             }
            },
            "type": "scattergl"
           }
          ],
          "scattermapbox": [
           {
            "marker": {
             "colorbar": {
              "outlinewidth": 0,
              "ticks": ""
             }
            },
            "type": "scattermapbox"
           }
          ],
          "scatterpolar": [
           {
            "marker": {
             "colorbar": {
              "outlinewidth": 0,
              "ticks": ""
             }
            },
            "type": "scatterpolar"
           }
          ],
          "scatterpolargl": [
           {
            "marker": {
             "colorbar": {
              "outlinewidth": 0,
              "ticks": ""
             }
            },
            "type": "scatterpolargl"
           }
          ],
          "scatterternary": [
           {
            "marker": {
             "colorbar": {
              "outlinewidth": 0,
              "ticks": ""
             }
            },
            "type": "scatterternary"
           }
          ],
          "surface": [
           {
            "colorbar": {
             "outlinewidth": 0,
             "ticks": ""
            },
            "colorscale": [
             [
              0,
              "#0d0887"
             ],
             [
              0.1111111111111111,
              "#46039f"
             ],
             [
              0.2222222222222222,
              "#7201a8"
             ],
             [
              0.3333333333333333,
              "#9c179e"
             ],
             [
              0.4444444444444444,
              "#bd3786"
             ],
             [
              0.5555555555555556,
              "#d8576b"
             ],
             [
              0.6666666666666666,
              "#ed7953"
             ],
             [
              0.7777777777777778,
              "#fb9f3a"
             ],
             [
              0.8888888888888888,
              "#fdca26"
             ],
             [
              1,
              "#f0f921"
             ]
            ],
            "type": "surface"
           }
          ],
          "table": [
           {
            "cells": {
             "fill": {
              "color": "#EBF0F8"
             },
             "line": {
              "color": "white"
             }
            },
            "header": {
             "fill": {
              "color": "#C8D4E3"
             },
             "line": {
              "color": "white"
             }
            },
            "type": "table"
           }
          ]
         },
         "layout": {
          "annotationdefaults": {
           "arrowcolor": "#2a3f5f",
           "arrowhead": 0,
           "arrowwidth": 1
          },
          "coloraxis": {
           "colorbar": {
            "outlinewidth": 0,
            "ticks": ""
           }
          },
          "colorscale": {
           "diverging": [
            [
             0,
             "#8e0152"
            ],
            [
             0.1,
             "#c51b7d"
            ],
            [
             0.2,
             "#de77ae"
            ],
            [
             0.3,
             "#f1b6da"
            ],
            [
             0.4,
             "#fde0ef"
            ],
            [
             0.5,
             "#f7f7f7"
            ],
            [
             0.6,
             "#e6f5d0"
            ],
            [
             0.7,
             "#b8e186"
            ],
            [
             0.8,
             "#7fbc41"
            ],
            [
             0.9,
             "#4d9221"
            ],
            [
             1,
             "#276419"
            ]
           ],
           "sequential": [
            [
             0,
             "#0d0887"
            ],
            [
             0.1111111111111111,
             "#46039f"
            ],
            [
             0.2222222222222222,
             "#7201a8"
            ],
            [
             0.3333333333333333,
             "#9c179e"
            ],
            [
             0.4444444444444444,
             "#bd3786"
            ],
            [
             0.5555555555555556,
             "#d8576b"
            ],
            [
             0.6666666666666666,
             "#ed7953"
            ],
            [
             0.7777777777777778,
             "#fb9f3a"
            ],
            [
             0.8888888888888888,
             "#fdca26"
            ],
            [
             1,
             "#f0f921"
            ]
           ],
           "sequentialminus": [
            [
             0,
             "#0d0887"
            ],
            [
             0.1111111111111111,
             "#46039f"
            ],
            [
             0.2222222222222222,
             "#7201a8"
            ],
            [
             0.3333333333333333,
             "#9c179e"
            ],
            [
             0.4444444444444444,
             "#bd3786"
            ],
            [
             0.5555555555555556,
             "#d8576b"
            ],
            [
             0.6666666666666666,
             "#ed7953"
            ],
            [
             0.7777777777777778,
             "#fb9f3a"
            ],
            [
             0.8888888888888888,
             "#fdca26"
            ],
            [
             1,
             "#f0f921"
            ]
           ]
          },
          "colorway": [
           "#636efa",
           "#EF553B",
           "#00cc96",
           "#ab63fa",
           "#FFA15A",
           "#19d3f3",
           "#FF6692",
           "#B6E880",
           "#FF97FF",
           "#FECB52"
          ],
          "font": {
           "color": "#2a3f5f"
          },
          "geo": {
           "bgcolor": "white",
           "lakecolor": "white",
           "landcolor": "#E5ECF6",
           "showlakes": true,
           "showland": true,
           "subunitcolor": "white"
          },
          "hoverlabel": {
           "align": "left"
          },
          "hovermode": "closest",
          "mapbox": {
           "style": "light"
          },
          "paper_bgcolor": "white",
          "plot_bgcolor": "#E5ECF6",
          "polar": {
           "angularaxis": {
            "gridcolor": "white",
            "linecolor": "white",
            "ticks": ""
           },
           "bgcolor": "#E5ECF6",
           "radialaxis": {
            "gridcolor": "white",
            "linecolor": "white",
            "ticks": ""
           }
          },
          "scene": {
           "xaxis": {
            "backgroundcolor": "#E5ECF6",
            "gridcolor": "white",
            "gridwidth": 2,
            "linecolor": "white",
            "showbackground": true,
            "ticks": "",
            "zerolinecolor": "white"
           },
           "yaxis": {
            "backgroundcolor": "#E5ECF6",
            "gridcolor": "white",
            "gridwidth": 2,
            "linecolor": "white",
            "showbackground": true,
            "ticks": "",
            "zerolinecolor": "white"
           },
           "zaxis": {
            "backgroundcolor": "#E5ECF6",
            "gridcolor": "white",
            "gridwidth": 2,
            "linecolor": "white",
            "showbackground": true,
            "ticks": "",
            "zerolinecolor": "white"
           }
          },
          "shapedefaults": {
           "line": {
            "color": "#2a3f5f"
           }
          },
          "ternary": {
           "aaxis": {
            "gridcolor": "white",
            "linecolor": "white",
            "ticks": ""
           },
           "baxis": {
            "gridcolor": "white",
            "linecolor": "white",
            "ticks": ""
           },
           "bgcolor": "#E5ECF6",
           "caxis": {
            "gridcolor": "white",
            "linecolor": "white",
            "ticks": ""
           }
          },
          "title": {
           "x": 0.05
          },
          "xaxis": {
           "automargin": true,
           "gridcolor": "white",
           "linecolor": "white",
           "ticks": "",
           "title": {
            "standoff": 15
           },
           "zerolinecolor": "white",
           "zerolinewidth": 2
          },
          "yaxis": {
           "automargin": true,
           "gridcolor": "white",
           "linecolor": "white",
           "ticks": "",
           "title": {
            "standoff": 15
           },
           "zerolinecolor": "white",
           "zerolinewidth": 2
          }
         }
        },
        "title": {
         "text": "Taxes per Country - #02",
         "x": 0.45
        },
        "width": 990,
        "xaxis": {
         "anchor": "y",
         "domain": [
          0,
          1
         ],
         "title": {
          "text": "Country"
         }
        },
        "yaxis": {
         "anchor": "x",
         "domain": [
          0,
          1
         ],
         "title": {
          "text": "Tax %"
         }
        }
       }
      },
      "text/html": [
       "<div>                            <div id=\"9c493331-460a-4427-aa2a-f0d60e5908d9\" class=\"plotly-graph-div\" style=\"height:600px; width:990px;\"></div>            <script type=\"text/javascript\">                require([\"plotly\"], function(Plotly) {                    window.PLOTLYENV=window.PLOTLYENV || {};                                    if (document.getElementById(\"9c493331-460a-4427-aa2a-f0d60e5908d9\")) {                    Plotly.newPlot(                        \"9c493331-460a-4427-aa2a-f0d60e5908d9\",                        [{\"alignmentgroup\": \"True\", \"bingroup\": \"x\", \"histfunc\": \"sum\", \"hovertemplate\": \"variable=Corporate Income Tax<br>Country=%{x}<br>sum of value=%{y}<extra></extra>\", \"legendgroup\": \"Corporate Income Tax\", \"marker\": {\"color\": \"rgb(4, 82, 117)\"}, \"name\": \"Corporate Income Tax\", \"offsetgroup\": \"Corporate Income Tax\", \"orientation\": \"v\", \"showlegend\": true, \"type\": \"histogram\", \"x\": [\"Argentina\", \"Brazil\", \"Canada\", \"China\", \"France\", \"Germany\", \"India\", \"Israel\", \"Japan\", \"Mexico\", \"Poland\", \"Portugal\", \"Russia\", \"Singapore\", \"South Africa\", \"Spain\", \"United Kingdom\", \"United States\", \"Vietnam\"], \"xaxis\": \"x\", \"y\": [25.0, 34.0, 26.5, 25.0, 28.0, 30.0, 25.17, 23.0, 30.62, 30.0, 19.0, 21.0, 20.0, 17.0, 28.0, 25.0, 19.0, 21.0, 20.0], \"yaxis\": \"y\"}, {\"alignmentgroup\": \"True\", \"bingroup\": \"x\", \"histfunc\": \"sum\", \"hovertemplate\": \"variable=Dividend Tax<br>Country=%{x}<br>sum of value=%{y}<extra></extra>\", \"legendgroup\": \"Dividend Tax\", \"marker\": {\"color\": \"rgb(0, 113, 139)\"}, \"name\": \"Dividend Tax\", \"offsetgroup\": \"Dividend Tax\", \"orientation\": \"v\", \"showlegend\": true, \"type\": \"histogram\", \"x\": [\"Argentina\", \"Brazil\", \"Canada\", \"China\", \"France\", \"Germany\", \"India\", \"Israel\", \"Japan\", \"Mexico\", \"Poland\", \"Portugal\", \"Russia\", \"Singapore\", \"South Africa\", \"Spain\", \"United Kingdom\", \"United States\", \"Vietnam\"], \"xaxis\": \"x\", \"y\": [13.0, 0.0, 26.44, 20.0, 32.02, 29.9, 10.0, 23.0, 29.74, 30.0, 19.0, 31.5, 13.0, 0.0, 20.0, 25.0, 19.0, 25.77, 5.0], \"yaxis\": \"y\"}, {\"alignmentgroup\": \"True\", \"bingroup\": \"x\", \"histfunc\": \"sum\", \"hovertemplate\": \"variable=Personal Income Tax<br>Country=%{x}<br>sum of value=%{y}<extra></extra>\", \"legendgroup\": \"Personal Income Tax\", \"marker\": {\"color\": \"rgb(8, 144, 153)\"}, \"name\": \"Personal Income Tax\", \"offsetgroup\": \"Personal Income Tax\", \"orientation\": \"v\", \"showlegend\": true, \"type\": \"histogram\", \"x\": [\"Argentina\", \"Brazil\", \"Canada\", \"China\", \"France\", \"Germany\", \"India\", \"Israel\", \"Japan\", \"Mexico\", \"Poland\", \"Portugal\", \"Russia\", \"Singapore\", \"South Africa\", \"Spain\", \"United Kingdom\", \"United States\", \"Vietnam\"], \"xaxis\": \"x\", \"y\": [35.0, 27.5, 33.0, 45.0, 45.0, 45.0, 35.88, 50.0, 55.95, 35.0, 32.0, 48.0, 13.0, 22.0, 45.0, 45.0, 45.0, 37.0, 35.0], \"yaxis\": \"y\"}, {\"alignmentgroup\": \"True\", \"bingroup\": \"x\", \"histfunc\": \"sum\", \"hovertemplate\": \"variable=Sales Tax<br>Country=%{x}<br>sum of value=%{y}<extra></extra>\", \"legendgroup\": \"Sales Tax\", \"marker\": {\"color\": \"rgb(70, 174, 160)\"}, \"name\": \"Sales Tax\", \"offsetgroup\": \"Sales Tax\", \"orientation\": \"v\", \"showlegend\": true, \"type\": \"histogram\", \"x\": [\"Argentina\", \"Brazil\", \"Canada\", \"China\", \"France\", \"Germany\", \"India\", \"Israel\", \"Japan\", \"Mexico\", \"Poland\", \"Portugal\", \"Russia\", \"Singapore\", \"South Africa\", \"Spain\", \"United Kingdom\", \"United States\", \"Vietnam\"], \"xaxis\": \"x\", \"y\": [21.0, 38.0, 5.0, 13.0, 20.0, 16.0, 18.0, 17.0, 10.0, 16.0, 23.0, 23.0, 20.0, 7.0, 15.0, 21.0, 20.0, 7.0, 10.0], \"yaxis\": \"y\"}],                        {\"barmode\": \"group\", \"height\": 600, \"legend\": {\"title\": {\"text\": \"Select tax:\"}, \"tracegroupgap\": 0}, \"margin\": {\"b\": 70, \"l\": 0, \"r\": 0, \"t\": 55}, \"plot_bgcolor\": \"silver\", \"template\": {\"data\": {\"bar\": [{\"error_x\": {\"color\": \"#2a3f5f\"}, \"error_y\": {\"color\": \"#2a3f5f\"}, \"marker\": {\"line\": {\"color\": \"#E5ECF6\", \"width\": 0.5}}, \"type\": \"bar\"}], \"barpolar\": [{\"marker\": {\"line\": {\"color\": \"#E5ECF6\", \"width\": 0.5}}, \"type\": \"barpolar\"}], \"carpet\": [{\"aaxis\": {\"endlinecolor\": \"#2a3f5f\", \"gridcolor\": \"white\", \"linecolor\": \"white\", \"minorgridcolor\": \"white\", \"startlinecolor\": \"#2a3f5f\"}, \"baxis\": {\"endlinecolor\": \"#2a3f5f\", \"gridcolor\": \"white\", \"linecolor\": \"white\", \"minorgridcolor\": \"white\", \"startlinecolor\": \"#2a3f5f\"}, \"type\": \"carpet\"}], \"choropleth\": [{\"colorbar\": {\"outlinewidth\": 0, \"ticks\": \"\"}, \"type\": \"choropleth\"}], \"contour\": [{\"colorbar\": {\"outlinewidth\": 0, \"ticks\": \"\"}, \"colorscale\": [[0.0, \"#0d0887\"], [0.1111111111111111, \"#46039f\"], [0.2222222222222222, \"#7201a8\"], [0.3333333333333333, \"#9c179e\"], [0.4444444444444444, \"#bd3786\"], [0.5555555555555556, \"#d8576b\"], [0.6666666666666666, \"#ed7953\"], [0.7777777777777778, \"#fb9f3a\"], [0.8888888888888888, \"#fdca26\"], [1.0, \"#f0f921\"]], \"type\": \"contour\"}], \"contourcarpet\": [{\"colorbar\": {\"outlinewidth\": 0, \"ticks\": \"\"}, \"type\": \"contourcarpet\"}], \"heatmap\": [{\"colorbar\": {\"outlinewidth\": 0, \"ticks\": \"\"}, \"colorscale\": [[0.0, \"#0d0887\"], [0.1111111111111111, \"#46039f\"], [0.2222222222222222, \"#7201a8\"], [0.3333333333333333, \"#9c179e\"], [0.4444444444444444, \"#bd3786\"], [0.5555555555555556, \"#d8576b\"], [0.6666666666666666, \"#ed7953\"], [0.7777777777777778, \"#fb9f3a\"], [0.8888888888888888, \"#fdca26\"], [1.0, \"#f0f921\"]], \"type\": \"heatmap\"}], \"heatmapgl\": [{\"colorbar\": {\"outlinewidth\": 0, \"ticks\": \"\"}, \"colorscale\": [[0.0, \"#0d0887\"], [0.1111111111111111, \"#46039f\"], [0.2222222222222222, \"#7201a8\"], [0.3333333333333333, \"#9c179e\"], [0.4444444444444444, \"#bd3786\"], [0.5555555555555556, \"#d8576b\"], [0.6666666666666666, \"#ed7953\"], [0.7777777777777778, \"#fb9f3a\"], [0.8888888888888888, \"#fdca26\"], [1.0, \"#f0f921\"]], \"type\": \"heatmapgl\"}], \"histogram\": [{\"marker\": {\"colorbar\": {\"outlinewidth\": 0, \"ticks\": \"\"}}, \"type\": \"histogram\"}], \"histogram2d\": [{\"colorbar\": {\"outlinewidth\": 0, \"ticks\": \"\"}, \"colorscale\": [[0.0, \"#0d0887\"], [0.1111111111111111, \"#46039f\"], [0.2222222222222222, \"#7201a8\"], [0.3333333333333333, \"#9c179e\"], [0.4444444444444444, \"#bd3786\"], [0.5555555555555556, \"#d8576b\"], [0.6666666666666666, \"#ed7953\"], [0.7777777777777778, \"#fb9f3a\"], [0.8888888888888888, \"#fdca26\"], [1.0, \"#f0f921\"]], \"type\": \"histogram2d\"}], \"histogram2dcontour\": [{\"colorbar\": {\"outlinewidth\": 0, \"ticks\": \"\"}, \"colorscale\": [[0.0, \"#0d0887\"], [0.1111111111111111, \"#46039f\"], [0.2222222222222222, \"#7201a8\"], [0.3333333333333333, \"#9c179e\"], [0.4444444444444444, \"#bd3786\"], [0.5555555555555556, \"#d8576b\"], [0.6666666666666666, \"#ed7953\"], [0.7777777777777778, \"#fb9f3a\"], [0.8888888888888888, \"#fdca26\"], [1.0, \"#f0f921\"]], \"type\": \"histogram2dcontour\"}], \"mesh3d\": [{\"colorbar\": {\"outlinewidth\": 0, \"ticks\": \"\"}, \"type\": \"mesh3d\"}], \"parcoords\": [{\"line\": {\"colorbar\": {\"outlinewidth\": 0, \"ticks\": \"\"}}, \"type\": \"parcoords\"}], \"pie\": [{\"automargin\": true, \"type\": \"pie\"}], \"scatter\": [{\"marker\": {\"colorbar\": {\"outlinewidth\": 0, \"ticks\": \"\"}}, \"type\": \"scatter\"}], \"scatter3d\": [{\"line\": {\"colorbar\": {\"outlinewidth\": 0, \"ticks\": \"\"}}, \"marker\": {\"colorbar\": {\"outlinewidth\": 0, \"ticks\": \"\"}}, \"type\": \"scatter3d\"}], \"scattercarpet\": [{\"marker\": {\"colorbar\": {\"outlinewidth\": 0, \"ticks\": \"\"}}, \"type\": \"scattercarpet\"}], \"scattergeo\": [{\"marker\": {\"colorbar\": {\"outlinewidth\": 0, \"ticks\": \"\"}}, \"type\": \"scattergeo\"}], \"scattergl\": [{\"marker\": {\"colorbar\": {\"outlinewidth\": 0, \"ticks\": \"\"}}, \"type\": \"scattergl\"}], \"scattermapbox\": [{\"marker\": {\"colorbar\": {\"outlinewidth\": 0, \"ticks\": \"\"}}, \"type\": \"scattermapbox\"}], \"scatterpolar\": [{\"marker\": {\"colorbar\": {\"outlinewidth\": 0, \"ticks\": \"\"}}, \"type\": \"scatterpolar\"}], \"scatterpolargl\": [{\"marker\": {\"colorbar\": {\"outlinewidth\": 0, \"ticks\": \"\"}}, \"type\": \"scatterpolargl\"}], \"scatterternary\": [{\"marker\": {\"colorbar\": {\"outlinewidth\": 0, \"ticks\": \"\"}}, \"type\": \"scatterternary\"}], \"surface\": [{\"colorbar\": {\"outlinewidth\": 0, \"ticks\": \"\"}, \"colorscale\": [[0.0, \"#0d0887\"], [0.1111111111111111, \"#46039f\"], [0.2222222222222222, \"#7201a8\"], [0.3333333333333333, \"#9c179e\"], [0.4444444444444444, \"#bd3786\"], [0.5555555555555556, \"#d8576b\"], [0.6666666666666666, \"#ed7953\"], [0.7777777777777778, \"#fb9f3a\"], [0.8888888888888888, \"#fdca26\"], [1.0, \"#f0f921\"]], \"type\": \"surface\"}], \"table\": [{\"cells\": {\"fill\": {\"color\": \"#EBF0F8\"}, \"line\": {\"color\": \"white\"}}, \"header\": {\"fill\": {\"color\": \"#C8D4E3\"}, \"line\": {\"color\": \"white\"}}, \"type\": \"table\"}]}, \"layout\": {\"annotationdefaults\": {\"arrowcolor\": \"#2a3f5f\", \"arrowhead\": 0, \"arrowwidth\": 1}, \"coloraxis\": {\"colorbar\": {\"outlinewidth\": 0, \"ticks\": \"\"}}, \"colorscale\": {\"diverging\": [[0, \"#8e0152\"], [0.1, \"#c51b7d\"], [0.2, \"#de77ae\"], [0.3, \"#f1b6da\"], [0.4, \"#fde0ef\"], [0.5, \"#f7f7f7\"], [0.6, \"#e6f5d0\"], [0.7, \"#b8e186\"], [0.8, \"#7fbc41\"], [0.9, \"#4d9221\"], [1, \"#276419\"]], \"sequential\": [[0.0, \"#0d0887\"], [0.1111111111111111, \"#46039f\"], [0.2222222222222222, \"#7201a8\"], [0.3333333333333333, \"#9c179e\"], [0.4444444444444444, \"#bd3786\"], [0.5555555555555556, \"#d8576b\"], [0.6666666666666666, \"#ed7953\"], [0.7777777777777778, \"#fb9f3a\"], [0.8888888888888888, \"#fdca26\"], [1.0, \"#f0f921\"]], \"sequentialminus\": [[0.0, \"#0d0887\"], [0.1111111111111111, \"#46039f\"], [0.2222222222222222, \"#7201a8\"], [0.3333333333333333, \"#9c179e\"], [0.4444444444444444, \"#bd3786\"], [0.5555555555555556, \"#d8576b\"], [0.6666666666666666, \"#ed7953\"], [0.7777777777777778, \"#fb9f3a\"], [0.8888888888888888, \"#fdca26\"], [1.0, \"#f0f921\"]]}, \"colorway\": [\"#636efa\", \"#EF553B\", \"#00cc96\", \"#ab63fa\", \"#FFA15A\", \"#19d3f3\", \"#FF6692\", \"#B6E880\", \"#FF97FF\", \"#FECB52\"], \"font\": {\"color\": \"#2a3f5f\"}, \"geo\": {\"bgcolor\": \"white\", \"lakecolor\": \"white\", \"landcolor\": \"#E5ECF6\", \"showlakes\": true, \"showland\": true, \"subunitcolor\": \"white\"}, \"hoverlabel\": {\"align\": \"left\"}, \"hovermode\": \"closest\", \"mapbox\": {\"style\": \"light\"}, \"paper_bgcolor\": \"white\", \"plot_bgcolor\": \"#E5ECF6\", \"polar\": {\"angularaxis\": {\"gridcolor\": \"white\", \"linecolor\": \"white\", \"ticks\": \"\"}, \"bgcolor\": \"#E5ECF6\", \"radialaxis\": {\"gridcolor\": \"white\", \"linecolor\": \"white\", \"ticks\": \"\"}}, \"scene\": {\"xaxis\": {\"backgroundcolor\": \"#E5ECF6\", \"gridcolor\": \"white\", \"gridwidth\": 2, \"linecolor\": \"white\", \"showbackground\": true, \"ticks\": \"\", \"zerolinecolor\": \"white\"}, \"yaxis\": {\"backgroundcolor\": \"#E5ECF6\", \"gridcolor\": \"white\", \"gridwidth\": 2, \"linecolor\": \"white\", \"showbackground\": true, \"ticks\": \"\", \"zerolinecolor\": \"white\"}, \"zaxis\": {\"backgroundcolor\": \"#E5ECF6\", \"gridcolor\": \"white\", \"gridwidth\": 2, \"linecolor\": \"white\", \"showbackground\": true, \"ticks\": \"\", \"zerolinecolor\": \"white\"}}, \"shapedefaults\": {\"line\": {\"color\": \"#2a3f5f\"}}, \"ternary\": {\"aaxis\": {\"gridcolor\": \"white\", \"linecolor\": \"white\", \"ticks\": \"\"}, \"baxis\": {\"gridcolor\": \"white\", \"linecolor\": \"white\", \"ticks\": \"\"}, \"bgcolor\": \"#E5ECF6\", \"caxis\": {\"gridcolor\": \"white\", \"linecolor\": \"white\", \"ticks\": \"\"}}, \"title\": {\"x\": 0.05}, \"xaxis\": {\"automargin\": true, \"gridcolor\": \"white\", \"linecolor\": \"white\", \"ticks\": \"\", \"title\": {\"standoff\": 15}, \"zerolinecolor\": \"white\", \"zerolinewidth\": 2}, \"yaxis\": {\"automargin\": true, \"gridcolor\": \"white\", \"linecolor\": \"white\", \"ticks\": \"\", \"title\": {\"standoff\": 15}, \"zerolinecolor\": \"white\", \"zerolinewidth\": 2}}}, \"title\": {\"text\": \"Taxes per Country - #02\", \"x\": 0.45}, \"width\": 990, \"xaxis\": {\"anchor\": \"y\", \"domain\": [0.0, 1.0], \"title\": {\"text\": \"Country\"}}, \"yaxis\": {\"anchor\": \"x\", \"domain\": [0.0, 1.0], \"title\": {\"text\": \"Tax %\"}}},                        {\"responsive\": true}                    ).then(function(){\n",
       "                            \n",
       "var gd = document.getElementById('9c493331-460a-4427-aa2a-f0d60e5908d9');\n",
       "var x = new MutationObserver(function (mutations, observer) {{\n",
       "        var display = window.getComputedStyle(gd).display;\n",
       "        if (!display || display === 'none') {{\n",
       "            console.log([gd, 'removed!']);\n",
       "            Plotly.purge(gd);\n",
       "            observer.disconnect();\n",
       "        }}\n",
       "}});\n",
       "\n",
       "// Listen for the removal of the full notebook cells\n",
       "var notebookContainer = gd.closest('#notebook-container');\n",
       "if (notebookContainer) {{\n",
       "    x.observe(notebookContainer, {childList: true});\n",
       "}}\n",
       "\n",
       "// Listen for the clearing of the current output cell\n",
       "var outputEl = gd.closest('.output');\n",
       "if (outputEl) {{\n",
       "    x.observe(outputEl, {childList: true});\n",
       "}}\n",
       "\n",
       "                        })                };                });            </script>        </div>"
      ]
     },
     "metadata": {},
     "output_type": "display_data"
    }
   ],
   "source": [
    "#Same formatting as above.\n",
    "taxes_hist_graph.update_yaxes(title='Tax %')\n",
    "taxes_hist_graph.update_layout(margin={'t':55, 'b':70, 'l':0, 'r':0}, plot_bgcolor='silver', legend={'title':'Select tax:'}, title_x=0.45)"
   ]
  },
  {
   "cell_type": "code",
   "execution_count": 264,
   "metadata": {
    "scrolled": false
   },
   "outputs": [
    {
     "data": {
      "application/vnd.plotly.v1+json": {
       "config": {
        "plotlyServerURL": "https://plot.ly"
       },
       "data": [
        {
         "coloraxis": "coloraxis",
         "geo": "geo",
         "hovertemplate": "<b>%{hovertext}</b><br><br>Country=%{location}<br>Sales Tax=%{z}<extra></extra>",
         "hovertext": [
          "Argentina",
          "Brazil",
          "Canada",
          "China",
          "France",
          "Germany",
          "India",
          "Israel",
          "Japan",
          "Mexico",
          "Poland",
          "Portugal",
          "Russia",
          "Singapore",
          "South Africa",
          "Spain",
          "United Kingdom",
          "United States",
          "Vietnam"
         ],
         "locationmode": "country names",
         "locations": [
          "Argentina",
          "Brazil",
          "Canada",
          "China",
          "France",
          "Germany",
          "India",
          "Israel",
          "Japan",
          "Mexico",
          "Poland",
          "Portugal",
          "Russia",
          "Singapore",
          "South Africa",
          "Spain",
          "United Kingdom",
          "United States",
          "Vietnam"
         ],
         "name": "",
         "type": "choropleth",
         "z": [
          21,
          38,
          5,
          13,
          20,
          16,
          18,
          17,
          10,
          16,
          23,
          23,
          20,
          7,
          15,
          21,
          20,
          7,
          10
         ]
        }
       ],
       "layout": {
        "coloraxis": {
         "colorbar": {
          "title": {
           "text": "Sales Tax"
          }
         },
         "colorscale": [
          [
           0,
           "rgb(247, 254, 174)"
          ],
          [
           0.16666666666666666,
           "rgb(183, 230, 165)"
          ],
          [
           0.3333333333333333,
           "rgb(124, 203, 162)"
          ],
          [
           0.5,
           "rgb(70, 174, 160)"
          ],
          [
           0.6666666666666666,
           "rgb(8, 144, 153)"
          ],
          [
           0.8333333333333334,
           "rgb(0, 113, 139)"
          ],
          [
           1,
           "rgb(4, 82, 117)"
          ]
         ]
        },
        "geo": {
         "center": {},
         "domain": {
          "x": [
           0,
           1
          ],
          "y": [
           0,
           1
          ]
         }
        },
        "height": 600,
        "legend": {
         "tracegroupgap": 0
        },
        "margin": {
         "b": 70,
         "l": 0,
         "r": 0,
         "t": 55
        },
        "template": {
         "data": {
          "bar": [
           {
            "error_x": {
             "color": "#2a3f5f"
            },
            "error_y": {
             "color": "#2a3f5f"
            },
            "marker": {
             "line": {
              "color": "#E5ECF6",
              "width": 0.5
             }
            },
            "type": "bar"
           }
          ],
          "barpolar": [
           {
            "marker": {
             "line": {
              "color": "#E5ECF6",
              "width": 0.5
             }
            },
            "type": "barpolar"
           }
          ],
          "carpet": [
           {
            "aaxis": {
             "endlinecolor": "#2a3f5f",
             "gridcolor": "white",
             "linecolor": "white",
             "minorgridcolor": "white",
             "startlinecolor": "#2a3f5f"
            },
            "baxis": {
             "endlinecolor": "#2a3f5f",
             "gridcolor": "white",
             "linecolor": "white",
             "minorgridcolor": "white",
             "startlinecolor": "#2a3f5f"
            },
            "type": "carpet"
           }
          ],
          "choropleth": [
           {
            "colorbar": {
             "outlinewidth": 0,
             "ticks": ""
            },
            "type": "choropleth"
           }
          ],
          "contour": [
           {
            "colorbar": {
             "outlinewidth": 0,
             "ticks": ""
            },
            "colorscale": [
             [
              0,
              "#0d0887"
             ],
             [
              0.1111111111111111,
              "#46039f"
             ],
             [
              0.2222222222222222,
              "#7201a8"
             ],
             [
              0.3333333333333333,
              "#9c179e"
             ],
             [
              0.4444444444444444,
              "#bd3786"
             ],
             [
              0.5555555555555556,
              "#d8576b"
             ],
             [
              0.6666666666666666,
              "#ed7953"
             ],
             [
              0.7777777777777778,
              "#fb9f3a"
             ],
             [
              0.8888888888888888,
              "#fdca26"
             ],
             [
              1,
              "#f0f921"
             ]
            ],
            "type": "contour"
           }
          ],
          "contourcarpet": [
           {
            "colorbar": {
             "outlinewidth": 0,
             "ticks": ""
            },
            "type": "contourcarpet"
           }
          ],
          "heatmap": [
           {
            "colorbar": {
             "outlinewidth": 0,
             "ticks": ""
            },
            "colorscale": [
             [
              0,
              "#0d0887"
             ],
             [
              0.1111111111111111,
              "#46039f"
             ],
             [
              0.2222222222222222,
              "#7201a8"
             ],
             [
              0.3333333333333333,
              "#9c179e"
             ],
             [
              0.4444444444444444,
              "#bd3786"
             ],
             [
              0.5555555555555556,
              "#d8576b"
             ],
             [
              0.6666666666666666,
              "#ed7953"
             ],
             [
              0.7777777777777778,
              "#fb9f3a"
             ],
             [
              0.8888888888888888,
              "#fdca26"
             ],
             [
              1,
              "#f0f921"
             ]
            ],
            "type": "heatmap"
           }
          ],
          "heatmapgl": [
           {
            "colorbar": {
             "outlinewidth": 0,
             "ticks": ""
            },
            "colorscale": [
             [
              0,
              "#0d0887"
             ],
             [
              0.1111111111111111,
              "#46039f"
             ],
             [
              0.2222222222222222,
              "#7201a8"
             ],
             [
              0.3333333333333333,
              "#9c179e"
             ],
             [
              0.4444444444444444,
              "#bd3786"
             ],
             [
              0.5555555555555556,
              "#d8576b"
             ],
             [
              0.6666666666666666,
              "#ed7953"
             ],
             [
              0.7777777777777778,
              "#fb9f3a"
             ],
             [
              0.8888888888888888,
              "#fdca26"
             ],
             [
              1,
              "#f0f921"
             ]
            ],
            "type": "heatmapgl"
           }
          ],
          "histogram": [
           {
            "marker": {
             "colorbar": {
              "outlinewidth": 0,
              "ticks": ""
             }
            },
            "type": "histogram"
           }
          ],
          "histogram2d": [
           {
            "colorbar": {
             "outlinewidth": 0,
             "ticks": ""
            },
            "colorscale": [
             [
              0,
              "#0d0887"
             ],
             [
              0.1111111111111111,
              "#46039f"
             ],
             [
              0.2222222222222222,
              "#7201a8"
             ],
             [
              0.3333333333333333,
              "#9c179e"
             ],
             [
              0.4444444444444444,
              "#bd3786"
             ],
             [
              0.5555555555555556,
              "#d8576b"
             ],
             [
              0.6666666666666666,
              "#ed7953"
             ],
             [
              0.7777777777777778,
              "#fb9f3a"
             ],
             [
              0.8888888888888888,
              "#fdca26"
             ],
             [
              1,
              "#f0f921"
             ]
            ],
            "type": "histogram2d"
           }
          ],
          "histogram2dcontour": [
           {
            "colorbar": {
             "outlinewidth": 0,
             "ticks": ""
            },
            "colorscale": [
             [
              0,
              "#0d0887"
             ],
             [
              0.1111111111111111,
              "#46039f"
             ],
             [
              0.2222222222222222,
              "#7201a8"
             ],
             [
              0.3333333333333333,
              "#9c179e"
             ],
             [
              0.4444444444444444,
              "#bd3786"
             ],
             [
              0.5555555555555556,
              "#d8576b"
             ],
             [
              0.6666666666666666,
              "#ed7953"
             ],
             [
              0.7777777777777778,
              "#fb9f3a"
             ],
             [
              0.8888888888888888,
              "#fdca26"
             ],
             [
              1,
              "#f0f921"
             ]
            ],
            "type": "histogram2dcontour"
           }
          ],
          "mesh3d": [
           {
            "colorbar": {
             "outlinewidth": 0,
             "ticks": ""
            },
            "type": "mesh3d"
           }
          ],
          "parcoords": [
           {
            "line": {
             "colorbar": {
              "outlinewidth": 0,
              "ticks": ""
             }
            },
            "type": "parcoords"
           }
          ],
          "pie": [
           {
            "automargin": true,
            "type": "pie"
           }
          ],
          "scatter": [
           {
            "marker": {
             "colorbar": {
              "outlinewidth": 0,
              "ticks": ""
             }
            },
            "type": "scatter"
           }
          ],
          "scatter3d": [
           {
            "line": {
             "colorbar": {
              "outlinewidth": 0,
              "ticks": ""
             }
            },
            "marker": {
             "colorbar": {
              "outlinewidth": 0,
              "ticks": ""
             }
            },
            "type": "scatter3d"
           }
          ],
          "scattercarpet": [
           {
            "marker": {
             "colorbar": {
              "outlinewidth": 0,
              "ticks": ""
             }
            },
            "type": "scattercarpet"
           }
          ],
          "scattergeo": [
           {
            "marker": {
             "colorbar": {
              "outlinewidth": 0,
              "ticks": ""
             }
            },
            "type": "scattergeo"
           }
          ],
          "scattergl": [
           {
            "marker": {
             "colorbar": {
              "outlinewidth": 0,
              "ticks": ""
             }
            },
            "type": "scattergl"
           }
          ],
          "scattermapbox": [
           {
            "marker": {
             "colorbar": {
              "outlinewidth": 0,
              "ticks": ""
             }
            },
            "type": "scattermapbox"
           }
          ],
          "scatterpolar": [
           {
            "marker": {
             "colorbar": {
              "outlinewidth": 0,
              "ticks": ""
             }
            },
            "type": "scatterpolar"
           }
          ],
          "scatterpolargl": [
           {
            "marker": {
             "colorbar": {
              "outlinewidth": 0,
              "ticks": ""
             }
            },
            "type": "scatterpolargl"
           }
          ],
          "scatterternary": [
           {
            "marker": {
             "colorbar": {
              "outlinewidth": 0,
              "ticks": ""
             }
            },
            "type": "scatterternary"
           }
          ],
          "surface": [
           {
            "colorbar": {
             "outlinewidth": 0,
             "ticks": ""
            },
            "colorscale": [
             [
              0,
              "#0d0887"
             ],
             [
              0.1111111111111111,
              "#46039f"
             ],
             [
              0.2222222222222222,
              "#7201a8"
             ],
             [
              0.3333333333333333,
              "#9c179e"
             ],
             [
              0.4444444444444444,
              "#bd3786"
             ],
             [
              0.5555555555555556,
              "#d8576b"
             ],
             [
              0.6666666666666666,
              "#ed7953"
             ],
             [
              0.7777777777777778,
              "#fb9f3a"
             ],
             [
              0.8888888888888888,
              "#fdca26"
             ],
             [
              1,
              "#f0f921"
             ]
            ],
            "type": "surface"
           }
          ],
          "table": [
           {
            "cells": {
             "fill": {
              "color": "#EBF0F8"
             },
             "line": {
              "color": "white"
             }
            },
            "header": {
             "fill": {
              "color": "#C8D4E3"
             },
             "line": {
              "color": "white"
             }
            },
            "type": "table"
           }
          ]
         },
         "layout": {
          "annotationdefaults": {
           "arrowcolor": "#2a3f5f",
           "arrowhead": 0,
           "arrowwidth": 1
          },
          "coloraxis": {
           "colorbar": {
            "outlinewidth": 0,
            "ticks": ""
           }
          },
          "colorscale": {
           "diverging": [
            [
             0,
             "#8e0152"
            ],
            [
             0.1,
             "#c51b7d"
            ],
            [
             0.2,
             "#de77ae"
            ],
            [
             0.3,
             "#f1b6da"
            ],
            [
             0.4,
             "#fde0ef"
            ],
            [
             0.5,
             "#f7f7f7"
            ],
            [
             0.6,
             "#e6f5d0"
            ],
            [
             0.7,
             "#b8e186"
            ],
            [
             0.8,
             "#7fbc41"
            ],
            [
             0.9,
             "#4d9221"
            ],
            [
             1,
             "#276419"
            ]
           ],
           "sequential": [
            [
             0,
             "#0d0887"
            ],
            [
             0.1111111111111111,
             "#46039f"
            ],
            [
             0.2222222222222222,
             "#7201a8"
            ],
            [
             0.3333333333333333,
             "#9c179e"
            ],
            [
             0.4444444444444444,
             "#bd3786"
            ],
            [
             0.5555555555555556,
             "#d8576b"
            ],
            [
             0.6666666666666666,
             "#ed7953"
            ],
            [
             0.7777777777777778,
             "#fb9f3a"
            ],
            [
             0.8888888888888888,
             "#fdca26"
            ],
            [
             1,
             "#f0f921"
            ]
           ],
           "sequentialminus": [
            [
             0,
             "#0d0887"
            ],
            [
             0.1111111111111111,
             "#46039f"
            ],
            [
             0.2222222222222222,
             "#7201a8"
            ],
            [
             0.3333333333333333,
             "#9c179e"
            ],
            [
             0.4444444444444444,
             "#bd3786"
            ],
            [
             0.5555555555555556,
             "#d8576b"
            ],
            [
             0.6666666666666666,
             "#ed7953"
            ],
            [
             0.7777777777777778,
             "#fb9f3a"
            ],
            [
             0.8888888888888888,
             "#fdca26"
            ],
            [
             1,
             "#f0f921"
            ]
           ]
          },
          "colorway": [
           "#636efa",
           "#EF553B",
           "#00cc96",
           "#ab63fa",
           "#FFA15A",
           "#19d3f3",
           "#FF6692",
           "#B6E880",
           "#FF97FF",
           "#FECB52"
          ],
          "font": {
           "color": "#2a3f5f"
          },
          "geo": {
           "bgcolor": "white",
           "lakecolor": "white",
           "landcolor": "#E5ECF6",
           "showlakes": true,
           "showland": true,
           "subunitcolor": "white"
          },
          "hoverlabel": {
           "align": "left"
          },
          "hovermode": "closest",
          "mapbox": {
           "style": "light"
          },
          "paper_bgcolor": "white",
          "plot_bgcolor": "#E5ECF6",
          "polar": {
           "angularaxis": {
            "gridcolor": "white",
            "linecolor": "white",
            "ticks": ""
           },
           "bgcolor": "#E5ECF6",
           "radialaxis": {
            "gridcolor": "white",
            "linecolor": "white",
            "ticks": ""
           }
          },
          "scene": {
           "xaxis": {
            "backgroundcolor": "#E5ECF6",
            "gridcolor": "white",
            "gridwidth": 2,
            "linecolor": "white",
            "showbackground": true,
            "ticks": "",
            "zerolinecolor": "white"
           },
           "yaxis": {
            "backgroundcolor": "#E5ECF6",
            "gridcolor": "white",
            "gridwidth": 2,
            "linecolor": "white",
            "showbackground": true,
            "ticks": "",
            "zerolinecolor": "white"
           },
           "zaxis": {
            "backgroundcolor": "#E5ECF6",
            "gridcolor": "white",
            "gridwidth": 2,
            "linecolor": "white",
            "showbackground": true,
            "ticks": "",
            "zerolinecolor": "white"
           }
          },
          "shapedefaults": {
           "line": {
            "color": "#2a3f5f"
           }
          },
          "ternary": {
           "aaxis": {
            "gridcolor": "white",
            "linecolor": "white",
            "ticks": ""
           },
           "baxis": {
            "gridcolor": "white",
            "linecolor": "white",
            "ticks": ""
           },
           "bgcolor": "#E5ECF6",
           "caxis": {
            "gridcolor": "white",
            "linecolor": "white",
            "ticks": ""
           }
          },
          "title": {
           "x": 0.05
          },
          "xaxis": {
           "automargin": true,
           "gridcolor": "white",
           "linecolor": "white",
           "ticks": "",
           "title": {
            "standoff": 15
           },
           "zerolinecolor": "white",
           "zerolinewidth": 2
          },
          "yaxis": {
           "automargin": true,
           "gridcolor": "white",
           "linecolor": "white",
           "ticks": "",
           "title": {
            "standoff": 15
           },
           "zerolinecolor": "white",
           "zerolinewidth": 2
          }
         }
        },
        "title": {
         "text": "Sales Tax Worldwide",
         "x": 0.5
        },
        "width": 980
       }
      },
      "text/html": [
       "<div>                            <div id=\"f192c52b-02fb-4462-b429-c78cead2f807\" class=\"plotly-graph-div\" style=\"height:600px; width:980px;\"></div>            <script type=\"text/javascript\">                require([\"plotly\"], function(Plotly) {                    window.PLOTLYENV=window.PLOTLYENV || {};                                    if (document.getElementById(\"f192c52b-02fb-4462-b429-c78cead2f807\")) {                    Plotly.newPlot(                        \"f192c52b-02fb-4462-b429-c78cead2f807\",                        [{\"coloraxis\": \"coloraxis\", \"geo\": \"geo\", \"hovertemplate\": \"<b>%{hovertext}</b><br><br>Country=%{location}<br>Sales Tax=%{z}<extra></extra>\", \"hovertext\": [\"Argentina\", \"Brazil\", \"Canada\", \"China\", \"France\", \"Germany\", \"India\", \"Israel\", \"Japan\", \"Mexico\", \"Poland\", \"Portugal\", \"Russia\", \"Singapore\", \"South Africa\", \"Spain\", \"United Kingdom\", \"United States\", \"Vietnam\"], \"locationmode\": \"country names\", \"locations\": [\"Argentina\", \"Brazil\", \"Canada\", \"China\", \"France\", \"Germany\", \"India\", \"Israel\", \"Japan\", \"Mexico\", \"Poland\", \"Portugal\", \"Russia\", \"Singapore\", \"South Africa\", \"Spain\", \"United Kingdom\", \"United States\", \"Vietnam\"], \"name\": \"\", \"type\": \"choropleth\", \"z\": [21.0, 38.0, 5.0, 13.0, 20.0, 16.0, 18.0, 17.0, 10.0, 16.0, 23.0, 23.0, 20.0, 7.0, 15.0, 21.0, 20.0, 7.0, 10.0]}],                        {\"coloraxis\": {\"colorbar\": {\"title\": {\"text\": \"Sales Tax\"}}, \"colorscale\": [[0.0, \"rgb(247, 254, 174)\"], [0.16666666666666666, \"rgb(183, 230, 165)\"], [0.3333333333333333, \"rgb(124, 203, 162)\"], [0.5, \"rgb(70, 174, 160)\"], [0.6666666666666666, \"rgb(8, 144, 153)\"], [0.8333333333333334, \"rgb(0, 113, 139)\"], [1.0, \"rgb(4, 82, 117)\"]]}, \"geo\": {\"center\": {}, \"domain\": {\"x\": [0.0, 1.0], \"y\": [0.0, 1.0]}}, \"height\": 600, \"legend\": {\"tracegroupgap\": 0}, \"margin\": {\"b\": 70, \"l\": 0, \"r\": 0, \"t\": 55}, \"template\": {\"data\": {\"bar\": [{\"error_x\": {\"color\": \"#2a3f5f\"}, \"error_y\": {\"color\": \"#2a3f5f\"}, \"marker\": {\"line\": {\"color\": \"#E5ECF6\", \"width\": 0.5}}, \"type\": \"bar\"}], \"barpolar\": [{\"marker\": {\"line\": {\"color\": \"#E5ECF6\", \"width\": 0.5}}, \"type\": \"barpolar\"}], \"carpet\": [{\"aaxis\": {\"endlinecolor\": \"#2a3f5f\", \"gridcolor\": \"white\", \"linecolor\": \"white\", \"minorgridcolor\": \"white\", \"startlinecolor\": \"#2a3f5f\"}, \"baxis\": {\"endlinecolor\": \"#2a3f5f\", \"gridcolor\": \"white\", \"linecolor\": \"white\", \"minorgridcolor\": \"white\", \"startlinecolor\": \"#2a3f5f\"}, \"type\": \"carpet\"}], \"choropleth\": [{\"colorbar\": {\"outlinewidth\": 0, \"ticks\": \"\"}, \"type\": \"choropleth\"}], \"contour\": [{\"colorbar\": {\"outlinewidth\": 0, \"ticks\": \"\"}, \"colorscale\": [[0.0, \"#0d0887\"], [0.1111111111111111, \"#46039f\"], [0.2222222222222222, \"#7201a8\"], [0.3333333333333333, \"#9c179e\"], [0.4444444444444444, \"#bd3786\"], [0.5555555555555556, \"#d8576b\"], [0.6666666666666666, \"#ed7953\"], [0.7777777777777778, \"#fb9f3a\"], [0.8888888888888888, \"#fdca26\"], [1.0, \"#f0f921\"]], \"type\": \"contour\"}], \"contourcarpet\": [{\"colorbar\": {\"outlinewidth\": 0, \"ticks\": \"\"}, \"type\": \"contourcarpet\"}], \"heatmap\": [{\"colorbar\": {\"outlinewidth\": 0, \"ticks\": \"\"}, \"colorscale\": [[0.0, \"#0d0887\"], [0.1111111111111111, \"#46039f\"], [0.2222222222222222, \"#7201a8\"], [0.3333333333333333, \"#9c179e\"], [0.4444444444444444, \"#bd3786\"], [0.5555555555555556, \"#d8576b\"], [0.6666666666666666, \"#ed7953\"], [0.7777777777777778, \"#fb9f3a\"], [0.8888888888888888, \"#fdca26\"], [1.0, \"#f0f921\"]], \"type\": \"heatmap\"}], \"heatmapgl\": [{\"colorbar\": {\"outlinewidth\": 0, \"ticks\": \"\"}, \"colorscale\": [[0.0, \"#0d0887\"], [0.1111111111111111, \"#46039f\"], [0.2222222222222222, \"#7201a8\"], [0.3333333333333333, \"#9c179e\"], [0.4444444444444444, \"#bd3786\"], [0.5555555555555556, \"#d8576b\"], [0.6666666666666666, \"#ed7953\"], [0.7777777777777778, \"#fb9f3a\"], [0.8888888888888888, \"#fdca26\"], [1.0, \"#f0f921\"]], \"type\": \"heatmapgl\"}], \"histogram\": [{\"marker\": {\"colorbar\": {\"outlinewidth\": 0, \"ticks\": \"\"}}, \"type\": \"histogram\"}], \"histogram2d\": [{\"colorbar\": {\"outlinewidth\": 0, \"ticks\": \"\"}, \"colorscale\": [[0.0, \"#0d0887\"], [0.1111111111111111, \"#46039f\"], [0.2222222222222222, \"#7201a8\"], [0.3333333333333333, \"#9c179e\"], [0.4444444444444444, \"#bd3786\"], [0.5555555555555556, \"#d8576b\"], [0.6666666666666666, \"#ed7953\"], [0.7777777777777778, \"#fb9f3a\"], [0.8888888888888888, \"#fdca26\"], [1.0, \"#f0f921\"]], \"type\": \"histogram2d\"}], \"histogram2dcontour\": [{\"colorbar\": {\"outlinewidth\": 0, \"ticks\": \"\"}, \"colorscale\": [[0.0, \"#0d0887\"], [0.1111111111111111, \"#46039f\"], [0.2222222222222222, \"#7201a8\"], [0.3333333333333333, \"#9c179e\"], [0.4444444444444444, \"#bd3786\"], [0.5555555555555556, \"#d8576b\"], [0.6666666666666666, \"#ed7953\"], [0.7777777777777778, \"#fb9f3a\"], [0.8888888888888888, \"#fdca26\"], [1.0, \"#f0f921\"]], \"type\": \"histogram2dcontour\"}], \"mesh3d\": [{\"colorbar\": {\"outlinewidth\": 0, \"ticks\": \"\"}, \"type\": \"mesh3d\"}], \"parcoords\": [{\"line\": {\"colorbar\": {\"outlinewidth\": 0, \"ticks\": \"\"}}, \"type\": \"parcoords\"}], \"pie\": [{\"automargin\": true, \"type\": \"pie\"}], \"scatter\": [{\"marker\": {\"colorbar\": {\"outlinewidth\": 0, \"ticks\": \"\"}}, \"type\": \"scatter\"}], \"scatter3d\": [{\"line\": {\"colorbar\": {\"outlinewidth\": 0, \"ticks\": \"\"}}, \"marker\": {\"colorbar\": {\"outlinewidth\": 0, \"ticks\": \"\"}}, \"type\": \"scatter3d\"}], \"scattercarpet\": [{\"marker\": {\"colorbar\": {\"outlinewidth\": 0, \"ticks\": \"\"}}, \"type\": \"scattercarpet\"}], \"scattergeo\": [{\"marker\": {\"colorbar\": {\"outlinewidth\": 0, \"ticks\": \"\"}}, \"type\": \"scattergeo\"}], \"scattergl\": [{\"marker\": {\"colorbar\": {\"outlinewidth\": 0, \"ticks\": \"\"}}, \"type\": \"scattergl\"}], \"scattermapbox\": [{\"marker\": {\"colorbar\": {\"outlinewidth\": 0, \"ticks\": \"\"}}, \"type\": \"scattermapbox\"}], \"scatterpolar\": [{\"marker\": {\"colorbar\": {\"outlinewidth\": 0, \"ticks\": \"\"}}, \"type\": \"scatterpolar\"}], \"scatterpolargl\": [{\"marker\": {\"colorbar\": {\"outlinewidth\": 0, \"ticks\": \"\"}}, \"type\": \"scatterpolargl\"}], \"scatterternary\": [{\"marker\": {\"colorbar\": {\"outlinewidth\": 0, \"ticks\": \"\"}}, \"type\": \"scatterternary\"}], \"surface\": [{\"colorbar\": {\"outlinewidth\": 0, \"ticks\": \"\"}, \"colorscale\": [[0.0, \"#0d0887\"], [0.1111111111111111, \"#46039f\"], [0.2222222222222222, \"#7201a8\"], [0.3333333333333333, \"#9c179e\"], [0.4444444444444444, \"#bd3786\"], [0.5555555555555556, \"#d8576b\"], [0.6666666666666666, \"#ed7953\"], [0.7777777777777778, \"#fb9f3a\"], [0.8888888888888888, \"#fdca26\"], [1.0, \"#f0f921\"]], \"type\": \"surface\"}], \"table\": [{\"cells\": {\"fill\": {\"color\": \"#EBF0F8\"}, \"line\": {\"color\": \"white\"}}, \"header\": {\"fill\": {\"color\": \"#C8D4E3\"}, \"line\": {\"color\": \"white\"}}, \"type\": \"table\"}]}, \"layout\": {\"annotationdefaults\": {\"arrowcolor\": \"#2a3f5f\", \"arrowhead\": 0, \"arrowwidth\": 1}, \"coloraxis\": {\"colorbar\": {\"outlinewidth\": 0, \"ticks\": \"\"}}, \"colorscale\": {\"diverging\": [[0, \"#8e0152\"], [0.1, \"#c51b7d\"], [0.2, \"#de77ae\"], [0.3, \"#f1b6da\"], [0.4, \"#fde0ef\"], [0.5, \"#f7f7f7\"], [0.6, \"#e6f5d0\"], [0.7, \"#b8e186\"], [0.8, \"#7fbc41\"], [0.9, \"#4d9221\"], [1, \"#276419\"]], \"sequential\": [[0.0, \"#0d0887\"], [0.1111111111111111, \"#46039f\"], [0.2222222222222222, \"#7201a8\"], [0.3333333333333333, \"#9c179e\"], [0.4444444444444444, \"#bd3786\"], [0.5555555555555556, \"#d8576b\"], [0.6666666666666666, \"#ed7953\"], [0.7777777777777778, \"#fb9f3a\"], [0.8888888888888888, \"#fdca26\"], [1.0, \"#f0f921\"]], \"sequentialminus\": [[0.0, \"#0d0887\"], [0.1111111111111111, \"#46039f\"], [0.2222222222222222, \"#7201a8\"], [0.3333333333333333, \"#9c179e\"], [0.4444444444444444, \"#bd3786\"], [0.5555555555555556, \"#d8576b\"], [0.6666666666666666, \"#ed7953\"], [0.7777777777777778, \"#fb9f3a\"], [0.8888888888888888, \"#fdca26\"], [1.0, \"#f0f921\"]]}, \"colorway\": [\"#636efa\", \"#EF553B\", \"#00cc96\", \"#ab63fa\", \"#FFA15A\", \"#19d3f3\", \"#FF6692\", \"#B6E880\", \"#FF97FF\", \"#FECB52\"], \"font\": {\"color\": \"#2a3f5f\"}, \"geo\": {\"bgcolor\": \"white\", \"lakecolor\": \"white\", \"landcolor\": \"#E5ECF6\", \"showlakes\": true, \"showland\": true, \"subunitcolor\": \"white\"}, \"hoverlabel\": {\"align\": \"left\"}, \"hovermode\": \"closest\", \"mapbox\": {\"style\": \"light\"}, \"paper_bgcolor\": \"white\", \"plot_bgcolor\": \"#E5ECF6\", \"polar\": {\"angularaxis\": {\"gridcolor\": \"white\", \"linecolor\": \"white\", \"ticks\": \"\"}, \"bgcolor\": \"#E5ECF6\", \"radialaxis\": {\"gridcolor\": \"white\", \"linecolor\": \"white\", \"ticks\": \"\"}}, \"scene\": {\"xaxis\": {\"backgroundcolor\": \"#E5ECF6\", \"gridcolor\": \"white\", \"gridwidth\": 2, \"linecolor\": \"white\", \"showbackground\": true, \"ticks\": \"\", \"zerolinecolor\": \"white\"}, \"yaxis\": {\"backgroundcolor\": \"#E5ECF6\", \"gridcolor\": \"white\", \"gridwidth\": 2, \"linecolor\": \"white\", \"showbackground\": true, \"ticks\": \"\", \"zerolinecolor\": \"white\"}, \"zaxis\": {\"backgroundcolor\": \"#E5ECF6\", \"gridcolor\": \"white\", \"gridwidth\": 2, \"linecolor\": \"white\", \"showbackground\": true, \"ticks\": \"\", \"zerolinecolor\": \"white\"}}, \"shapedefaults\": {\"line\": {\"color\": \"#2a3f5f\"}}, \"ternary\": {\"aaxis\": {\"gridcolor\": \"white\", \"linecolor\": \"white\", \"ticks\": \"\"}, \"baxis\": {\"gridcolor\": \"white\", \"linecolor\": \"white\", \"ticks\": \"\"}, \"bgcolor\": \"#E5ECF6\", \"caxis\": {\"gridcolor\": \"white\", \"linecolor\": \"white\", \"ticks\": \"\"}}, \"title\": {\"x\": 0.05}, \"xaxis\": {\"automargin\": true, \"gridcolor\": \"white\", \"linecolor\": \"white\", \"ticks\": \"\", \"title\": {\"standoff\": 15}, \"zerolinecolor\": \"white\", \"zerolinewidth\": 2}, \"yaxis\": {\"automargin\": true, \"gridcolor\": \"white\", \"linecolor\": \"white\", \"ticks\": \"\", \"title\": {\"standoff\": 15}, \"zerolinecolor\": \"white\", \"zerolinewidth\": 2}}}, \"title\": {\"text\": \"Sales Tax Worldwide\", \"x\": 0.5}, \"width\": 980},                        {\"responsive\": true}                    ).then(function(){\n",
       "                            \n",
       "var gd = document.getElementById('f192c52b-02fb-4462-b429-c78cead2f807');\n",
       "var x = new MutationObserver(function (mutations, observer) {{\n",
       "        var display = window.getComputedStyle(gd).display;\n",
       "        if (!display || display === 'none') {{\n",
       "            console.log([gd, 'removed!']);\n",
       "            Plotly.purge(gd);\n",
       "            observer.disconnect();\n",
       "        }}\n",
       "}});\n",
       "\n",
       "// Listen for the removal of the full notebook cells\n",
       "var notebookContainer = gd.closest('#notebook-container');\n",
       "if (notebookContainer) {{\n",
       "    x.observe(notebookContainer, {childList: true});\n",
       "}}\n",
       "\n",
       "// Listen for the clearing of the current output cell\n",
       "var outputEl = gd.closest('.output');\n",
       "if (outputEl) {{\n",
       "    x.observe(outputEl, {childList: true});\n",
       "}}\n",
       "\n",
       "                        })                };                });            </script>        </div>"
      ]
     },
     "metadata": {},
     "output_type": "display_data"
    }
   ],
   "source": [
    "#Geographic demonstration of sales tax for the selected countries).\n",
    "tax_sales_map = px.choropleth(data_frame=final_tax_system, locations='Country', locationmode='country names', color='Sales Tax', hover_name='Country', title='Sales Tax Worldwide', width=980, height=600, color_continuous_scale=px.colors.sequential.Bluyl)\n",
    "\n",
    "#Setting margins to have the biggest map posible wihtout cutting the title.\n",
    "tax_sales_map.update_layout(margin={'t':55, 'b':70, 'l':0, 'r':0}, title_x=0.5)"
   ]
  },
  {
   "cell_type": "code",
   "execution_count": 44,
   "metadata": {},
   "outputs": [
    {
     "data": {
      "application/vnd.plotly.v1+json": {
       "config": {
        "plotlyServerURL": "https://plot.ly"
       },
       "data": [
        {
         "coloraxis": "coloraxis",
         "geo": "geo",
         "hovertemplate": "<b>%{hovertext}</b><br><br>Country=%{location}<br>Sales Tax=%{z}<extra></extra>",
         "hovertext": [
          "Argentina",
          "Brazil",
          "Canada",
          "China",
          "France",
          "Germany",
          "India",
          "Israel",
          "Japan",
          "Mexico",
          "Poland",
          "Portugal",
          "Russia",
          "Singapore",
          "South Africa",
          "Spain",
          "United Kingdom",
          "United States",
          "Vietnam"
         ],
         "locationmode": "country names",
         "locations": [
          "Argentina",
          "Brazil",
          "Canada",
          "China",
          "France",
          "Germany",
          "India",
          "Israel",
          "Japan",
          "Mexico",
          "Poland",
          "Portugal",
          "Russia",
          "Singapore",
          "South Africa",
          "Spain",
          "United Kingdom",
          "United States",
          "Vietnam"
         ],
         "name": "",
         "type": "choropleth",
         "z": [
          21,
          38,
          5,
          13,
          20,
          16,
          18,
          17,
          10,
          16,
          23,
          23,
          20,
          7,
          15,
          21,
          20,
          7,
          10
         ]
        }
       ],
       "layout": {
        "coloraxis": {
         "colorbar": {
          "title": {
           "text": "Sales Tax"
          }
         },
         "colorscale": [
          [
           0,
           "rgb(247, 254, 174)"
          ],
          [
           0.16666666666666666,
           "rgb(183, 230, 165)"
          ],
          [
           0.3333333333333333,
           "rgb(124, 203, 162)"
          ],
          [
           0.5,
           "rgb(70, 174, 160)"
          ],
          [
           0.6666666666666666,
           "rgb(8, 144, 153)"
          ],
          [
           0.8333333333333334,
           "rgb(0, 113, 139)"
          ],
          [
           1,
           "rgb(4, 82, 117)"
          ]
         ]
        },
        "geo": {
         "center": {},
         "domain": {
          "x": [
           0,
           1
          ],
          "y": [
           0,
           1
          ]
         }
        },
        "legend": {
         "tracegroupgap": 0
        },
        "template": {
         "data": {
          "bar": [
           {
            "error_x": {
             "color": "#2a3f5f"
            },
            "error_y": {
             "color": "#2a3f5f"
            },
            "marker": {
             "line": {
              "color": "#E5ECF6",
              "width": 0.5
             }
            },
            "type": "bar"
           }
          ],
          "barpolar": [
           {
            "marker": {
             "line": {
              "color": "#E5ECF6",
              "width": 0.5
             }
            },
            "type": "barpolar"
           }
          ],
          "carpet": [
           {
            "aaxis": {
             "endlinecolor": "#2a3f5f",
             "gridcolor": "white",
             "linecolor": "white",
             "minorgridcolor": "white",
             "startlinecolor": "#2a3f5f"
            },
            "baxis": {
             "endlinecolor": "#2a3f5f",
             "gridcolor": "white",
             "linecolor": "white",
             "minorgridcolor": "white",
             "startlinecolor": "#2a3f5f"
            },
            "type": "carpet"
           }
          ],
          "choropleth": [
           {
            "colorbar": {
             "outlinewidth": 0,
             "ticks": ""
            },
            "type": "choropleth"
           }
          ],
          "contour": [
           {
            "colorbar": {
             "outlinewidth": 0,
             "ticks": ""
            },
            "colorscale": [
             [
              0,
              "#0d0887"
             ],
             [
              0.1111111111111111,
              "#46039f"
             ],
             [
              0.2222222222222222,
              "#7201a8"
             ],
             [
              0.3333333333333333,
              "#9c179e"
             ],
             [
              0.4444444444444444,
              "#bd3786"
             ],
             [
              0.5555555555555556,
              "#d8576b"
             ],
             [
              0.6666666666666666,
              "#ed7953"
             ],
             [
              0.7777777777777778,
              "#fb9f3a"
             ],
             [
              0.8888888888888888,
              "#fdca26"
             ],
             [
              1,
              "#f0f921"
             ]
            ],
            "type": "contour"
           }
          ],
          "contourcarpet": [
           {
            "colorbar": {
             "outlinewidth": 0,
             "ticks": ""
            },
            "type": "contourcarpet"
           }
          ],
          "heatmap": [
           {
            "colorbar": {
             "outlinewidth": 0,
             "ticks": ""
            },
            "colorscale": [
             [
              0,
              "#0d0887"
             ],
             [
              0.1111111111111111,
              "#46039f"
             ],
             [
              0.2222222222222222,
              "#7201a8"
             ],
             [
              0.3333333333333333,
              "#9c179e"
             ],
             [
              0.4444444444444444,
              "#bd3786"
             ],
             [
              0.5555555555555556,
              "#d8576b"
             ],
             [
              0.6666666666666666,
              "#ed7953"
             ],
             [
              0.7777777777777778,
              "#fb9f3a"
             ],
             [
              0.8888888888888888,
              "#fdca26"
             ],
             [
              1,
              "#f0f921"
             ]
            ],
            "type": "heatmap"
           }
          ],
          "heatmapgl": [
           {
            "colorbar": {
             "outlinewidth": 0,
             "ticks": ""
            },
            "colorscale": [
             [
              0,
              "#0d0887"
             ],
             [
              0.1111111111111111,
              "#46039f"
             ],
             [
              0.2222222222222222,
              "#7201a8"
             ],
             [
              0.3333333333333333,
              "#9c179e"
             ],
             [
              0.4444444444444444,
              "#bd3786"
             ],
             [
              0.5555555555555556,
              "#d8576b"
             ],
             [
              0.6666666666666666,
              "#ed7953"
             ],
             [
              0.7777777777777778,
              "#fb9f3a"
             ],
             [
              0.8888888888888888,
              "#fdca26"
             ],
             [
              1,
              "#f0f921"
             ]
            ],
            "type": "heatmapgl"
           }
          ],
          "histogram": [
           {
            "marker": {
             "colorbar": {
              "outlinewidth": 0,
              "ticks": ""
             }
            },
            "type": "histogram"
           }
          ],
          "histogram2d": [
           {
            "colorbar": {
             "outlinewidth": 0,
             "ticks": ""
            },
            "colorscale": [
             [
              0,
              "#0d0887"
             ],
             [
              0.1111111111111111,
              "#46039f"
             ],
             [
              0.2222222222222222,
              "#7201a8"
             ],
             [
              0.3333333333333333,
              "#9c179e"
             ],
             [
              0.4444444444444444,
              "#bd3786"
             ],
             [
              0.5555555555555556,
              "#d8576b"
             ],
             [
              0.6666666666666666,
              "#ed7953"
             ],
             [
              0.7777777777777778,
              "#fb9f3a"
             ],
             [
              0.8888888888888888,
              "#fdca26"
             ],
             [
              1,
              "#f0f921"
             ]
            ],
            "type": "histogram2d"
           }
          ],
          "histogram2dcontour": [
           {
            "colorbar": {
             "outlinewidth": 0,
             "ticks": ""
            },
            "colorscale": [
             [
              0,
              "#0d0887"
             ],
             [
              0.1111111111111111,
              "#46039f"
             ],
             [
              0.2222222222222222,
              "#7201a8"
             ],
             [
              0.3333333333333333,
              "#9c179e"
             ],
             [
              0.4444444444444444,
              "#bd3786"
             ],
             [
              0.5555555555555556,
              "#d8576b"
             ],
             [
              0.6666666666666666,
              "#ed7953"
             ],
             [
              0.7777777777777778,
              "#fb9f3a"
             ],
             [
              0.8888888888888888,
              "#fdca26"
             ],
             [
              1,
              "#f0f921"
             ]
            ],
            "type": "histogram2dcontour"
           }
          ],
          "mesh3d": [
           {
            "colorbar": {
             "outlinewidth": 0,
             "ticks": ""
            },
            "type": "mesh3d"
           }
          ],
          "parcoords": [
           {
            "line": {
             "colorbar": {
              "outlinewidth": 0,
              "ticks": ""
             }
            },
            "type": "parcoords"
           }
          ],
          "pie": [
           {
            "automargin": true,
            "type": "pie"
           }
          ],
          "scatter": [
           {
            "marker": {
             "colorbar": {
              "outlinewidth": 0,
              "ticks": ""
             }
            },
            "type": "scatter"
           }
          ],
          "scatter3d": [
           {
            "line": {
             "colorbar": {
              "outlinewidth": 0,
              "ticks": ""
             }
            },
            "marker": {
             "colorbar": {
              "outlinewidth": 0,
              "ticks": ""
             }
            },
            "type": "scatter3d"
           }
          ],
          "scattercarpet": [
           {
            "marker": {
             "colorbar": {
              "outlinewidth": 0,
              "ticks": ""
             }
            },
            "type": "scattercarpet"
           }
          ],
          "scattergeo": [
           {
            "marker": {
             "colorbar": {
              "outlinewidth": 0,
              "ticks": ""
             }
            },
            "type": "scattergeo"
           }
          ],
          "scattergl": [
           {
            "marker": {
             "colorbar": {
              "outlinewidth": 0,
              "ticks": ""
             }
            },
            "type": "scattergl"
           }
          ],
          "scattermapbox": [
           {
            "marker": {
             "colorbar": {
              "outlinewidth": 0,
              "ticks": ""
             }
            },
            "type": "scattermapbox"
           }
          ],
          "scatterpolar": [
           {
            "marker": {
             "colorbar": {
              "outlinewidth": 0,
              "ticks": ""
             }
            },
            "type": "scatterpolar"
           }
          ],
          "scatterpolargl": [
           {
            "marker": {
             "colorbar": {
              "outlinewidth": 0,
              "ticks": ""
             }
            },
            "type": "scatterpolargl"
           }
          ],
          "scatterternary": [
           {
            "marker": {
             "colorbar": {
              "outlinewidth": 0,
              "ticks": ""
             }
            },
            "type": "scatterternary"
           }
          ],
          "surface": [
           {
            "colorbar": {
             "outlinewidth": 0,
             "ticks": ""
            },
            "colorscale": [
             [
              0,
              "#0d0887"
             ],
             [
              0.1111111111111111,
              "#46039f"
             ],
             [
              0.2222222222222222,
              "#7201a8"
             ],
             [
              0.3333333333333333,
              "#9c179e"
             ],
             [
              0.4444444444444444,
              "#bd3786"
             ],
             [
              0.5555555555555556,
              "#d8576b"
             ],
             [
              0.6666666666666666,
              "#ed7953"
             ],
             [
              0.7777777777777778,
              "#fb9f3a"
             ],
             [
              0.8888888888888888,
              "#fdca26"
             ],
             [
              1,
              "#f0f921"
             ]
            ],
            "type": "surface"
           }
          ],
          "table": [
           {
            "cells": {
             "fill": {
              "color": "#EBF0F8"
             },
             "line": {
              "color": "white"
             }
            },
            "header": {
             "fill": {
              "color": "#C8D4E3"
             },
             "line": {
              "color": "white"
             }
            },
            "type": "table"
           }
          ]
         },
         "layout": {
          "annotationdefaults": {
           "arrowcolor": "#2a3f5f",
           "arrowhead": 0,
           "arrowwidth": 1
          },
          "coloraxis": {
           "colorbar": {
            "outlinewidth": 0,
            "ticks": ""
           }
          },
          "colorscale": {
           "diverging": [
            [
             0,
             "#8e0152"
            ],
            [
             0.1,
             "#c51b7d"
            ],
            [
             0.2,
             "#de77ae"
            ],
            [
             0.3,
             "#f1b6da"
            ],
            [
             0.4,
             "#fde0ef"
            ],
            [
             0.5,
             "#f7f7f7"
            ],
            [
             0.6,
             "#e6f5d0"
            ],
            [
             0.7,
             "#b8e186"
            ],
            [
             0.8,
             "#7fbc41"
            ],
            [
             0.9,
             "#4d9221"
            ],
            [
             1,
             "#276419"
            ]
           ],
           "sequential": [
            [
             0,
             "#0d0887"
            ],
            [
             0.1111111111111111,
             "#46039f"
            ],
            [
             0.2222222222222222,
             "#7201a8"
            ],
            [
             0.3333333333333333,
             "#9c179e"
            ],
            [
             0.4444444444444444,
             "#bd3786"
            ],
            [
             0.5555555555555556,
             "#d8576b"
            ],
            [
             0.6666666666666666,
             "#ed7953"
            ],
            [
             0.7777777777777778,
             "#fb9f3a"
            ],
            [
             0.8888888888888888,
             "#fdca26"
            ],
            [
             1,
             "#f0f921"
            ]
           ],
           "sequentialminus": [
            [
             0,
             "#0d0887"
            ],
            [
             0.1111111111111111,
             "#46039f"
            ],
            [
             0.2222222222222222,
             "#7201a8"
            ],
            [
             0.3333333333333333,
             "#9c179e"
            ],
            [
             0.4444444444444444,
             "#bd3786"
            ],
            [
             0.5555555555555556,
             "#d8576b"
            ],
            [
             0.6666666666666666,
             "#ed7953"
            ],
            [
             0.7777777777777778,
             "#fb9f3a"
            ],
            [
             0.8888888888888888,
             "#fdca26"
            ],
            [
             1,
             "#f0f921"
            ]
           ]
          },
          "colorway": [
           "#636efa",
           "#EF553B",
           "#00cc96",
           "#ab63fa",
           "#FFA15A",
           "#19d3f3",
           "#FF6692",
           "#B6E880",
           "#FF97FF",
           "#FECB52"
          ],
          "font": {
           "color": "#2a3f5f"
          },
          "geo": {
           "bgcolor": "white",
           "lakecolor": "white",
           "landcolor": "#E5ECF6",
           "showlakes": true,
           "showland": true,
           "subunitcolor": "white"
          },
          "hoverlabel": {
           "align": "left"
          },
          "hovermode": "closest",
          "mapbox": {
           "style": "light"
          },
          "paper_bgcolor": "white",
          "plot_bgcolor": "#E5ECF6",
          "polar": {
           "angularaxis": {
            "gridcolor": "white",
            "linecolor": "white",
            "ticks": ""
           },
           "bgcolor": "#E5ECF6",
           "radialaxis": {
            "gridcolor": "white",
            "linecolor": "white",
            "ticks": ""
           }
          },
          "scene": {
           "xaxis": {
            "backgroundcolor": "#E5ECF6",
            "gridcolor": "white",
            "gridwidth": 2,
            "linecolor": "white",
            "showbackground": true,
            "ticks": "",
            "zerolinecolor": "white"
           },
           "yaxis": {
            "backgroundcolor": "#E5ECF6",
            "gridcolor": "white",
            "gridwidth": 2,
            "linecolor": "white",
            "showbackground": true,
            "ticks": "",
            "zerolinecolor": "white"
           },
           "zaxis": {
            "backgroundcolor": "#E5ECF6",
            "gridcolor": "white",
            "gridwidth": 2,
            "linecolor": "white",
            "showbackground": true,
            "ticks": "",
            "zerolinecolor": "white"
           }
          },
          "shapedefaults": {
           "line": {
            "color": "#2a3f5f"
           }
          },
          "ternary": {
           "aaxis": {
            "gridcolor": "white",
            "linecolor": "white",
            "ticks": ""
           },
           "baxis": {
            "gridcolor": "white",
            "linecolor": "white",
            "ticks": ""
           },
           "bgcolor": "#E5ECF6",
           "caxis": {
            "gridcolor": "white",
            "linecolor": "white",
            "ticks": ""
           }
          },
          "title": {
           "x": 0.05
          },
          "xaxis": {
           "automargin": true,
           "gridcolor": "white",
           "linecolor": "white",
           "ticks": "",
           "title": {
            "standoff": 15
           },
           "zerolinecolor": "white",
           "zerolinewidth": 2
          },
          "yaxis": {
           "automargin": true,
           "gridcolor": "white",
           "linecolor": "white",
           "ticks": "",
           "title": {
            "standoff": 15
           },
           "zerolinecolor": "white",
           "zerolinewidth": 2
          }
         }
        },
        "title": {
         "text": "Sales Tax Worldwide"
        },
        "updatemenus": [
         {
          "buttons": [
           {
            "label": "Corporate Income Tax",
            "method": "restyle"
           },
           {
            "label": "Dividend Tax",
            "method": "restyle"
           }
          ],
          "direction": "down",
          "pad": {
           "r": -5,
           "t": -5
          },
          "showactive": true,
          "x": -0.04,
          "xanchor": "left",
          "y": 1.1,
          "yanchor": "top"
         }
        ]
       }
      },
      "text/html": [
       "<div>                            <div id=\"3ba3e336-d0f7-4975-9f8f-66b5151be34d\" class=\"plotly-graph-div\" style=\"height:525px; width:100%;\"></div>            <script type=\"text/javascript\">                require([\"plotly\"], function(Plotly) {                    window.PLOTLYENV=window.PLOTLYENV || {};                                    if (document.getElementById(\"3ba3e336-d0f7-4975-9f8f-66b5151be34d\")) {                    Plotly.newPlot(                        \"3ba3e336-d0f7-4975-9f8f-66b5151be34d\",                        [{\"coloraxis\": \"coloraxis\", \"geo\": \"geo\", \"hovertemplate\": \"<b>%{hovertext}</b><br><br>Country=%{location}<br>Sales Tax=%{z}<extra></extra>\", \"hovertext\": [\"Argentina\", \"Brazil\", \"Canada\", \"China\", \"France\", \"Germany\", \"India\", \"Israel\", \"Japan\", \"Mexico\", \"Poland\", \"Portugal\", \"Russia\", \"Singapore\", \"South Africa\", \"Spain\", \"United Kingdom\", \"United States\", \"Vietnam\"], \"locationmode\": \"country names\", \"locations\": [\"Argentina\", \"Brazil\", \"Canada\", \"China\", \"France\", \"Germany\", \"India\", \"Israel\", \"Japan\", \"Mexico\", \"Poland\", \"Portugal\", \"Russia\", \"Singapore\", \"South Africa\", \"Spain\", \"United Kingdom\", \"United States\", \"Vietnam\"], \"name\": \"\", \"type\": \"choropleth\", \"z\": [21.0, 38.0, 5.0, 13.0, 20.0, 16.0, 18.0, 17.0, 10.0, 16.0, 23.0, 23.0, 20.0, 7.0, 15.0, 21.0, 20.0, 7.0, 10.0]}],                        {\"coloraxis\": {\"colorbar\": {\"title\": {\"text\": \"Sales Tax\"}}, \"colorscale\": [[0.0, \"rgb(247, 254, 174)\"], [0.16666666666666666, \"rgb(183, 230, 165)\"], [0.3333333333333333, \"rgb(124, 203, 162)\"], [0.5, \"rgb(70, 174, 160)\"], [0.6666666666666666, \"rgb(8, 144, 153)\"], [0.8333333333333334, \"rgb(0, 113, 139)\"], [1.0, \"rgb(4, 82, 117)\"]]}, \"geo\": {\"center\": {}, \"domain\": {\"x\": [0.0, 1.0], \"y\": [0.0, 1.0]}}, \"legend\": {\"tracegroupgap\": 0}, \"template\": {\"data\": {\"bar\": [{\"error_x\": {\"color\": \"#2a3f5f\"}, \"error_y\": {\"color\": \"#2a3f5f\"}, \"marker\": {\"line\": {\"color\": \"#E5ECF6\", \"width\": 0.5}}, \"type\": \"bar\"}], \"barpolar\": [{\"marker\": {\"line\": {\"color\": \"#E5ECF6\", \"width\": 0.5}}, \"type\": \"barpolar\"}], \"carpet\": [{\"aaxis\": {\"endlinecolor\": \"#2a3f5f\", \"gridcolor\": \"white\", \"linecolor\": \"white\", \"minorgridcolor\": \"white\", \"startlinecolor\": \"#2a3f5f\"}, \"baxis\": {\"endlinecolor\": \"#2a3f5f\", \"gridcolor\": \"white\", \"linecolor\": \"white\", \"minorgridcolor\": \"white\", \"startlinecolor\": \"#2a3f5f\"}, \"type\": \"carpet\"}], \"choropleth\": [{\"colorbar\": {\"outlinewidth\": 0, \"ticks\": \"\"}, \"type\": \"choropleth\"}], \"contour\": [{\"colorbar\": {\"outlinewidth\": 0, \"ticks\": \"\"}, \"colorscale\": [[0.0, \"#0d0887\"], [0.1111111111111111, \"#46039f\"], [0.2222222222222222, \"#7201a8\"], [0.3333333333333333, \"#9c179e\"], [0.4444444444444444, \"#bd3786\"], [0.5555555555555556, \"#d8576b\"], [0.6666666666666666, \"#ed7953\"], [0.7777777777777778, \"#fb9f3a\"], [0.8888888888888888, \"#fdca26\"], [1.0, \"#f0f921\"]], \"type\": \"contour\"}], \"contourcarpet\": [{\"colorbar\": {\"outlinewidth\": 0, \"ticks\": \"\"}, \"type\": \"contourcarpet\"}], \"heatmap\": [{\"colorbar\": {\"outlinewidth\": 0, \"ticks\": \"\"}, \"colorscale\": [[0.0, \"#0d0887\"], [0.1111111111111111, \"#46039f\"], [0.2222222222222222, \"#7201a8\"], [0.3333333333333333, \"#9c179e\"], [0.4444444444444444, \"#bd3786\"], [0.5555555555555556, \"#d8576b\"], [0.6666666666666666, \"#ed7953\"], [0.7777777777777778, \"#fb9f3a\"], [0.8888888888888888, \"#fdca26\"], [1.0, \"#f0f921\"]], \"type\": \"heatmap\"}], \"heatmapgl\": [{\"colorbar\": {\"outlinewidth\": 0, \"ticks\": \"\"}, \"colorscale\": [[0.0, \"#0d0887\"], [0.1111111111111111, \"#46039f\"], [0.2222222222222222, \"#7201a8\"], [0.3333333333333333, \"#9c179e\"], [0.4444444444444444, \"#bd3786\"], [0.5555555555555556, \"#d8576b\"], [0.6666666666666666, \"#ed7953\"], [0.7777777777777778, \"#fb9f3a\"], [0.8888888888888888, \"#fdca26\"], [1.0, \"#f0f921\"]], \"type\": \"heatmapgl\"}], \"histogram\": [{\"marker\": {\"colorbar\": {\"outlinewidth\": 0, \"ticks\": \"\"}}, \"type\": \"histogram\"}], \"histogram2d\": [{\"colorbar\": {\"outlinewidth\": 0, \"ticks\": \"\"}, \"colorscale\": [[0.0, \"#0d0887\"], [0.1111111111111111, \"#46039f\"], [0.2222222222222222, \"#7201a8\"], [0.3333333333333333, \"#9c179e\"], [0.4444444444444444, \"#bd3786\"], [0.5555555555555556, \"#d8576b\"], [0.6666666666666666, \"#ed7953\"], [0.7777777777777778, \"#fb9f3a\"], [0.8888888888888888, \"#fdca26\"], [1.0, \"#f0f921\"]], \"type\": \"histogram2d\"}], \"histogram2dcontour\": [{\"colorbar\": {\"outlinewidth\": 0, \"ticks\": \"\"}, \"colorscale\": [[0.0, \"#0d0887\"], [0.1111111111111111, \"#46039f\"], [0.2222222222222222, \"#7201a8\"], [0.3333333333333333, \"#9c179e\"], [0.4444444444444444, \"#bd3786\"], [0.5555555555555556, \"#d8576b\"], [0.6666666666666666, \"#ed7953\"], [0.7777777777777778, \"#fb9f3a\"], [0.8888888888888888, \"#fdca26\"], [1.0, \"#f0f921\"]], \"type\": \"histogram2dcontour\"}], \"mesh3d\": [{\"colorbar\": {\"outlinewidth\": 0, \"ticks\": \"\"}, \"type\": \"mesh3d\"}], \"parcoords\": [{\"line\": {\"colorbar\": {\"outlinewidth\": 0, \"ticks\": \"\"}}, \"type\": \"parcoords\"}], \"pie\": [{\"automargin\": true, \"type\": \"pie\"}], \"scatter\": [{\"marker\": {\"colorbar\": {\"outlinewidth\": 0, \"ticks\": \"\"}}, \"type\": \"scatter\"}], \"scatter3d\": [{\"line\": {\"colorbar\": {\"outlinewidth\": 0, \"ticks\": \"\"}}, \"marker\": {\"colorbar\": {\"outlinewidth\": 0, \"ticks\": \"\"}}, \"type\": \"scatter3d\"}], \"scattercarpet\": [{\"marker\": {\"colorbar\": {\"outlinewidth\": 0, \"ticks\": \"\"}}, \"type\": \"scattercarpet\"}], \"scattergeo\": [{\"marker\": {\"colorbar\": {\"outlinewidth\": 0, \"ticks\": \"\"}}, \"type\": \"scattergeo\"}], \"scattergl\": [{\"marker\": {\"colorbar\": {\"outlinewidth\": 0, \"ticks\": \"\"}}, \"type\": \"scattergl\"}], \"scattermapbox\": [{\"marker\": {\"colorbar\": {\"outlinewidth\": 0, \"ticks\": \"\"}}, \"type\": \"scattermapbox\"}], \"scatterpolar\": [{\"marker\": {\"colorbar\": {\"outlinewidth\": 0, \"ticks\": \"\"}}, \"type\": \"scatterpolar\"}], \"scatterpolargl\": [{\"marker\": {\"colorbar\": {\"outlinewidth\": 0, \"ticks\": \"\"}}, \"type\": \"scatterpolargl\"}], \"scatterternary\": [{\"marker\": {\"colorbar\": {\"outlinewidth\": 0, \"ticks\": \"\"}}, \"type\": \"scatterternary\"}], \"surface\": [{\"colorbar\": {\"outlinewidth\": 0, \"ticks\": \"\"}, \"colorscale\": [[0.0, \"#0d0887\"], [0.1111111111111111, \"#46039f\"], [0.2222222222222222, \"#7201a8\"], [0.3333333333333333, \"#9c179e\"], [0.4444444444444444, \"#bd3786\"], [0.5555555555555556, \"#d8576b\"], [0.6666666666666666, \"#ed7953\"], [0.7777777777777778, \"#fb9f3a\"], [0.8888888888888888, \"#fdca26\"], [1.0, \"#f0f921\"]], \"type\": \"surface\"}], \"table\": [{\"cells\": {\"fill\": {\"color\": \"#EBF0F8\"}, \"line\": {\"color\": \"white\"}}, \"header\": {\"fill\": {\"color\": \"#C8D4E3\"}, \"line\": {\"color\": \"white\"}}, \"type\": \"table\"}]}, \"layout\": {\"annotationdefaults\": {\"arrowcolor\": \"#2a3f5f\", \"arrowhead\": 0, \"arrowwidth\": 1}, \"coloraxis\": {\"colorbar\": {\"outlinewidth\": 0, \"ticks\": \"\"}}, \"colorscale\": {\"diverging\": [[0, \"#8e0152\"], [0.1, \"#c51b7d\"], [0.2, \"#de77ae\"], [0.3, \"#f1b6da\"], [0.4, \"#fde0ef\"], [0.5, \"#f7f7f7\"], [0.6, \"#e6f5d0\"], [0.7, \"#b8e186\"], [0.8, \"#7fbc41\"], [0.9, \"#4d9221\"], [1, \"#276419\"]], \"sequential\": [[0.0, \"#0d0887\"], [0.1111111111111111, \"#46039f\"], [0.2222222222222222, \"#7201a8\"], [0.3333333333333333, \"#9c179e\"], [0.4444444444444444, \"#bd3786\"], [0.5555555555555556, \"#d8576b\"], [0.6666666666666666, \"#ed7953\"], [0.7777777777777778, \"#fb9f3a\"], [0.8888888888888888, \"#fdca26\"], [1.0, \"#f0f921\"]], \"sequentialminus\": [[0.0, \"#0d0887\"], [0.1111111111111111, \"#46039f\"], [0.2222222222222222, \"#7201a8\"], [0.3333333333333333, \"#9c179e\"], [0.4444444444444444, \"#bd3786\"], [0.5555555555555556, \"#d8576b\"], [0.6666666666666666, \"#ed7953\"], [0.7777777777777778, \"#fb9f3a\"], [0.8888888888888888, \"#fdca26\"], [1.0, \"#f0f921\"]]}, \"colorway\": [\"#636efa\", \"#EF553B\", \"#00cc96\", \"#ab63fa\", \"#FFA15A\", \"#19d3f3\", \"#FF6692\", \"#B6E880\", \"#FF97FF\", \"#FECB52\"], \"font\": {\"color\": \"#2a3f5f\"}, \"geo\": {\"bgcolor\": \"white\", \"lakecolor\": \"white\", \"landcolor\": \"#E5ECF6\", \"showlakes\": true, \"showland\": true, \"subunitcolor\": \"white\"}, \"hoverlabel\": {\"align\": \"left\"}, \"hovermode\": \"closest\", \"mapbox\": {\"style\": \"light\"}, \"paper_bgcolor\": \"white\", \"plot_bgcolor\": \"#E5ECF6\", \"polar\": {\"angularaxis\": {\"gridcolor\": \"white\", \"linecolor\": \"white\", \"ticks\": \"\"}, \"bgcolor\": \"#E5ECF6\", \"radialaxis\": {\"gridcolor\": \"white\", \"linecolor\": \"white\", \"ticks\": \"\"}}, \"scene\": {\"xaxis\": {\"backgroundcolor\": \"#E5ECF6\", \"gridcolor\": \"white\", \"gridwidth\": 2, \"linecolor\": \"white\", \"showbackground\": true, \"ticks\": \"\", \"zerolinecolor\": \"white\"}, \"yaxis\": {\"backgroundcolor\": \"#E5ECF6\", \"gridcolor\": \"white\", \"gridwidth\": 2, \"linecolor\": \"white\", \"showbackground\": true, \"ticks\": \"\", \"zerolinecolor\": \"white\"}, \"zaxis\": {\"backgroundcolor\": \"#E5ECF6\", \"gridcolor\": \"white\", \"gridwidth\": 2, \"linecolor\": \"white\", \"showbackground\": true, \"ticks\": \"\", \"zerolinecolor\": \"white\"}}, \"shapedefaults\": {\"line\": {\"color\": \"#2a3f5f\"}}, \"ternary\": {\"aaxis\": {\"gridcolor\": \"white\", \"linecolor\": \"white\", \"ticks\": \"\"}, \"baxis\": {\"gridcolor\": \"white\", \"linecolor\": \"white\", \"ticks\": \"\"}, \"bgcolor\": \"#E5ECF6\", \"caxis\": {\"gridcolor\": \"white\", \"linecolor\": \"white\", \"ticks\": \"\"}}, \"title\": {\"x\": 0.05}, \"xaxis\": {\"automargin\": true, \"gridcolor\": \"white\", \"linecolor\": \"white\", \"ticks\": \"\", \"title\": {\"standoff\": 15}, \"zerolinecolor\": \"white\", \"zerolinewidth\": 2}, \"yaxis\": {\"automargin\": true, \"gridcolor\": \"white\", \"linecolor\": \"white\", \"ticks\": \"\", \"title\": {\"standoff\": 15}, \"zerolinecolor\": \"white\", \"zerolinewidth\": 2}}}, \"title\": {\"text\": \"Sales Tax Worldwide\"}, \"updatemenus\": [{\"buttons\": [{\"label\": \"Corporate Income Tax\", \"method\": \"restyle\"}, {\"label\": \"Dividend Tax\", \"method\": \"restyle\"}], \"direction\": \"down\", \"pad\": {\"r\": -5, \"t\": -5}, \"showactive\": true, \"x\": -0.04, \"xanchor\": \"left\", \"y\": 1.1, \"yanchor\": \"top\"}]},                        {\"responsive\": true}                    ).then(function(){\n",
       "                            \n",
       "var gd = document.getElementById('3ba3e336-d0f7-4975-9f8f-66b5151be34d');\n",
       "var x = new MutationObserver(function (mutations, observer) {{\n",
       "        var display = window.getComputedStyle(gd).display;\n",
       "        if (!display || display === 'none') {{\n",
       "            console.log([gd, 'removed!']);\n",
       "            Plotly.purge(gd);\n",
       "            observer.disconnect();\n",
       "        }}\n",
       "}});\n",
       "\n",
       "// Listen for the removal of the full notebook cells\n",
       "var notebookContainer = gd.closest('#notebook-container');\n",
       "if (notebookContainer) {{\n",
       "    x.observe(notebookContainer, {childList: true});\n",
       "}}\n",
       "\n",
       "// Listen for the clearing of the current output cell\n",
       "var outputEl = gd.closest('.output');\n",
       "if (outputEl) {{\n",
       "    x.observe(outputEl, {childList: true});\n",
       "}}\n",
       "\n",
       "                        })                };                });            </script>        </div>"
      ]
     },
     "metadata": {},
     "output_type": "display_data"
    }
   ],
   "source": [
    "tax_sales_map.update_layout(updatemenus=[dict(buttons=list([dict(label=\"Corporate Income Tax\", method=\"restyle\"), dict(label=\"Dividend Tax\", method=\"restyle\")]), direction=\"down\", pad={\"r\": -5, \"t\": -5}, showactive=True, x=-0.04, xanchor=\"left\", y=1.1, yanchor=\"top\"),])"
   ]
  },
  {
   "cell_type": "markdown",
   "metadata": {},
   "source": [
    "   **In this part we created a MySql database using the same data in the final_tax_system df, but organizing it in a different way in order to make the treemap graph work the way we wanted.**"
   ]
  },
  {
   "cell_type": "code",
   "execution_count": 45,
   "metadata": {},
   "outputs": [],
   "source": [
    "#Importing library to connect with MySql database.\n",
    "import mysql.connector"
   ]
  },
  {
   "cell_type": "code",
   "execution_count": 152,
   "metadata": {},
   "outputs": [],
   "source": [
    "#Create connection with MySql database using the information from MySql workbench connection.\n",
    "mysql_bridge = mysql.connector.connect(host='127.0.0.1', port=3306, user='root', passwd='Fe908119l', database='countries_info', buffered=True)"
   ]
  },
  {
   "cell_type": "code",
   "execution_count": 153,
   "metadata": {},
   "outputs": [],
   "source": [
    "#Creating df from reading table inside MySql database.\n",
    "treemap_df = pd.read_sql('select * from countries', mysql_bridge)"
   ]
  },
  {
   "cell_type": "code",
   "execution_count": 154,
   "metadata": {},
   "outputs": [
    {
     "data": {
      "text/html": [
       "<div>\n",
       "<style scoped>\n",
       "    .dataframe tbody tr th:only-of-type {\n",
       "        vertical-align: middle;\n",
       "    }\n",
       "\n",
       "    .dataframe tbody tr th {\n",
       "        vertical-align: top;\n",
       "    }\n",
       "\n",
       "    .dataframe thead th {\n",
       "        text-align: right;\n",
       "    }\n",
       "</style>\n",
       "<table border=\"1\" class=\"dataframe\">\n",
       "  <thead>\n",
       "    <tr style=\"text-align: right;\">\n",
       "      <th></th>\n",
       "      <th>id</th>\n",
       "      <th>country</th>\n",
       "      <th>tax_name</th>\n",
       "      <th>tax_value</th>\n",
       "    </tr>\n",
       "  </thead>\n",
       "  <tbody>\n",
       "    <tr>\n",
       "      <th>0</th>\n",
       "      <td>1</td>\n",
       "      <td>Argentina</td>\n",
       "      <td>Corporate Income Tax</td>\n",
       "      <td>25.0</td>\n",
       "    </tr>\n",
       "    <tr>\n",
       "      <th>1</th>\n",
       "      <td>2</td>\n",
       "      <td>Brazil</td>\n",
       "      <td>Corporate Income Tax</td>\n",
       "      <td>34.0</td>\n",
       "    </tr>\n",
       "    <tr>\n",
       "      <th>2</th>\n",
       "      <td>3</td>\n",
       "      <td>Canada</td>\n",
       "      <td>Corporate Income Tax</td>\n",
       "      <td>26.5</td>\n",
       "    </tr>\n",
       "    <tr>\n",
       "      <th>3</th>\n",
       "      <td>4</td>\n",
       "      <td>China</td>\n",
       "      <td>Corporate Income Tax</td>\n",
       "      <td>25.0</td>\n",
       "    </tr>\n",
       "    <tr>\n",
       "      <th>4</th>\n",
       "      <td>5</td>\n",
       "      <td>France</td>\n",
       "      <td>Corporate Income Tax</td>\n",
       "      <td>28.0</td>\n",
       "    </tr>\n",
       "    <tr>\n",
       "      <th>...</th>\n",
       "      <td>...</td>\n",
       "      <td>...</td>\n",
       "      <td>...</td>\n",
       "      <td>...</td>\n",
       "    </tr>\n",
       "    <tr>\n",
       "      <th>71</th>\n",
       "      <td>72</td>\n",
       "      <td>South Africa</td>\n",
       "      <td>Sales Tax</td>\n",
       "      <td>15.0</td>\n",
       "    </tr>\n",
       "    <tr>\n",
       "      <th>72</th>\n",
       "      <td>73</td>\n",
       "      <td>Spain</td>\n",
       "      <td>Sales Tax</td>\n",
       "      <td>21.0</td>\n",
       "    </tr>\n",
       "    <tr>\n",
       "      <th>73</th>\n",
       "      <td>74</td>\n",
       "      <td>United Kingdom</td>\n",
       "      <td>Sales Tax</td>\n",
       "      <td>20.0</td>\n",
       "    </tr>\n",
       "    <tr>\n",
       "      <th>74</th>\n",
       "      <td>75</td>\n",
       "      <td>United States</td>\n",
       "      <td>Sales Tax</td>\n",
       "      <td>7.0</td>\n",
       "    </tr>\n",
       "    <tr>\n",
       "      <th>75</th>\n",
       "      <td>76</td>\n",
       "      <td>Vietnam</td>\n",
       "      <td>Sales Tax</td>\n",
       "      <td>10.0</td>\n",
       "    </tr>\n",
       "  </tbody>\n",
       "</table>\n",
       "<p>76 rows × 4 columns</p>\n",
       "</div>"
      ],
      "text/plain": [
       "    id         country              tax_name  tax_value\n",
       "0    1       Argentina  Corporate Income Tax       25.0\n",
       "1    2          Brazil  Corporate Income Tax       34.0\n",
       "2    3          Canada  Corporate Income Tax       26.5\n",
       "3    4           China  Corporate Income Tax       25.0\n",
       "4    5          France  Corporate Income Tax       28.0\n",
       "..  ..             ...                   ...        ...\n",
       "71  72    South Africa             Sales Tax       15.0\n",
       "72  73           Spain             Sales Tax       21.0\n",
       "73  74  United Kingdom             Sales Tax       20.0\n",
       "74  75   United States             Sales Tax        7.0\n",
       "75  76         Vietnam             Sales Tax       10.0\n",
       "\n",
       "[76 rows x 4 columns]"
      ]
     },
     "execution_count": 154,
     "metadata": {},
     "output_type": "execute_result"
    }
   ],
   "source": [
    "treemap_df"
   ]
  },
  {
   "cell_type": "code",
   "execution_count": 271,
   "metadata": {
    "scrolled": false
   },
   "outputs": [
    {
     "data": {
      "application/vnd.plotly.v1+json": {
       "config": {
        "plotlyServerURL": "https://plot.ly"
       },
       "data": [
        {
         "branchvalues": "total",
         "customdata": [
          [
           "Argentina",
           "Corporate Income Tax",
           25
          ],
          [
           "United States",
           "Corporate Income Tax",
           21
          ],
          [
           "United Kingdom",
           "Corporate Income Tax",
           19
          ],
          [
           "Spain",
           "Corporate Income Tax",
           25
          ],
          [
           "South Africa",
           "Corporate Income Tax",
           28
          ],
          [
           "Singapore",
           "Corporate Income Tax",
           17
          ],
          [
           "Russia",
           "Corporate Income Tax",
           20
          ],
          [
           "Portugal",
           "Corporate Income Tax",
           21
          ],
          [
           "Poland",
           "Corporate Income Tax",
           19
          ],
          [
           "Vietnam",
           "Corporate Income Tax",
           20
          ],
          [
           "Japan",
           "Corporate Income Tax",
           30.62
          ],
          [
           "Israel",
           "Corporate Income Tax",
           23
          ],
          [
           "India",
           "Corporate Income Tax",
           25.17
          ],
          [
           "Germany",
           "Corporate Income Tax",
           30
          ],
          [
           "France",
           "Corporate Income Tax",
           28
          ],
          [
           "China",
           "Corporate Income Tax",
           25
          ],
          [
           "Canada",
           "Corporate Income Tax",
           26.5
          ],
          [
           "Brazil",
           "Corporate Income Tax",
           34
          ],
          [
           "Mexico",
           "Corporate Income Tax",
           30
          ],
          [
           "Israel",
           "Private Income Tax",
           50
          ],
          [
           "India",
           "Private Income Tax",
           35.88
          ],
          [
           "Canada",
           "Private Income Tax",
           33
          ],
          [
           "France",
           "Private Income Tax",
           45
          ],
          [
           "China",
           "Private Income Tax",
           45
          ],
          [
           "Japan",
           "Private Income Tax",
           55.95
          ],
          [
           "Germany",
           "Private Income Tax",
           45
          ],
          [
           "Mexico",
           "Private Income Tax",
           35
          ],
          [
           "South Africa",
           "Private Income Tax",
           45
          ],
          [
           "Portugal",
           "Private Income Tax",
           48
          ],
          [
           "Russia",
           "Private Income Tax",
           13
          ],
          [
           "Singapore",
           "Private Income Tax",
           22
          ],
          [
           "Spain",
           "Private Income Tax",
           45
          ],
          [
           "United Kingdom",
           "Private Income Tax",
           45
          ],
          [
           "United States",
           "Private Income Tax",
           37
          ],
          [
           "Vietnam",
           "Private Income Tax",
           35
          ],
          [
           "Brazil",
           "Private Income Tax",
           27.5
          ],
          [
           "Poland",
           "Private Income Tax",
           32
          ],
          [
           "Argentina",
           "Private Income Tax",
           35
          ],
          [
           "Vietnam",
           "Dividend Tax",
           5
          ],
          [
           "United States",
           "Dividend Tax",
           25.77
          ],
          [
           "Argentina",
           "Dividend Tax",
           13
          ],
          [
           "Brazil",
           "Dividend Tax",
           0
          ],
          [
           "Canada",
           "Dividend Tax",
           26.44
          ],
          [
           "China",
           "Dividend Tax",
           20
          ],
          [
           "France",
           "Dividend Tax",
           32.02
          ],
          [
           "India",
           "Dividend Tax",
           10
          ],
          [
           "Israel",
           "Dividend Tax",
           23
          ],
          [
           "Japan",
           "Dividend Tax",
           29.74
          ],
          [
           "Germany",
           "Dividend Tax",
           29.09
          ],
          [
           "Poland",
           "Dividend Tax",
           19
          ],
          [
           "Portugal",
           "Dividend Tax",
           31.5
          ],
          [
           "Russia",
           "Dividend Tax",
           13
          ],
          [
           "Singapore",
           "Dividend Tax",
           0
          ],
          [
           "South Africa",
           "Dividend Tax",
           20
          ],
          [
           "Spain",
           "Dividend Tax",
           25
          ],
          [
           "United Kingdom",
           "Dividend Tax",
           19
          ],
          [
           "Mexico",
           "Dividend Tax",
           30
          ],
          [
           "Poland",
           "Sales Tax",
           23
          ],
          [
           "United Kingdom",
           "Sales Tax",
           20
          ],
          [
           "Spain",
           "Sales Tax",
           21
          ],
          [
           "South Africa",
           "Sales Tax",
           15
          ],
          [
           "Singapore",
           "Sales Tax",
           7
          ],
          [
           "Russia",
           "Sales Tax",
           20
          ],
          [
           "Portugal",
           "Sales Tax",
           23
          ],
          [
           "Mexico",
           "Sales Tax",
           16
          ],
          [
           "Argentina",
           "Sales Tax",
           21
          ],
          [
           "Israel",
           "Sales Tax",
           17
          ],
          [
           "India",
           "Sales Tax",
           18
          ],
          [
           "Germany",
           "Sales Tax",
           16
          ],
          [
           "France",
           "Sales Tax",
           20
          ],
          [
           "China",
           "Sales Tax",
           13
          ],
          [
           "Canada",
           "Sales Tax",
           5
          ],
          [
           "Brazil",
           "Sales Tax",
           38
          ],
          [
           "United States",
           "Sales Tax",
           7
          ],
          [
           "Japan",
           "Sales Tax",
           10
          ],
          [
           "Vietnam",
           "Sales Tax",
           10
          ],
          [
           "Argentina",
           "(?)",
           94
          ],
          [
           "Brazil",
           "(?)",
           99.5
          ],
          [
           "Canada",
           "(?)",
           90.94
          ],
          [
           "China",
           "(?)",
           103
          ],
          [
           "France",
           "(?)",
           125.02000000000001
          ],
          [
           "Germany",
           "(?)",
           120.09
          ],
          [
           "India",
           "(?)",
           89.05000000000001
          ],
          [
           "Israel",
           "(?)",
           113
          ],
          [
           "Japan",
           "(?)",
           126.31
          ],
          [
           "Mexico",
           "(?)",
           111
          ],
          [
           "Poland",
           "(?)",
           93
          ],
          [
           "Portugal",
           "(?)",
           123.5
          ],
          [
           "Russia",
           "(?)",
           66
          ],
          [
           "Singapore",
           "(?)",
           46
          ],
          [
           "South Africa",
           "(?)",
           108
          ],
          [
           "Spain",
           "(?)",
           116
          ],
          [
           "United Kingdom",
           "(?)",
           103
          ],
          [
           "United States",
           "(?)",
           90.77
          ],
          [
           "Vietnam",
           "(?)",
           70
          ]
         ],
         "domain": {
          "x": [
           0,
           1
          ],
          "y": [
           0,
           1
          ]
         },
         "hovertemplate": "<b>%{hovertext}</b><br><br>labels=%{label}<br>tax_value=%{customdata[2]}<br>parent=%{parent}<br>id=%{id}<extra></extra>",
         "hovertext": [
          "Argentina",
          "United States",
          "United Kingdom",
          "Spain",
          "South Africa",
          "Singapore",
          "Russia",
          "Portugal",
          "Poland",
          "Vietnam",
          "Japan",
          "Israel",
          "India",
          "Germany",
          "France",
          "China",
          "Canada",
          "Brazil",
          "Mexico",
          "Israel",
          "India",
          "Canada",
          "France",
          "China",
          "Japan",
          "Germany",
          "Mexico",
          "South Africa",
          "Portugal",
          "Russia",
          "Singapore",
          "Spain",
          "United Kingdom",
          "United States",
          "Vietnam",
          "Brazil",
          "Poland",
          "Argentina",
          "Vietnam",
          "United States",
          "Argentina",
          "Brazil",
          "Canada",
          "China",
          "France",
          "India",
          "Israel",
          "Japan",
          "Germany",
          "Poland",
          "Portugal",
          "Russia",
          "Singapore",
          "South Africa",
          "Spain",
          "United Kingdom",
          "Mexico",
          "Poland",
          "United Kingdom",
          "Spain",
          "South Africa",
          "Singapore",
          "Russia",
          "Portugal",
          "Mexico",
          "Argentina",
          "Israel",
          "India",
          "Germany",
          "France",
          "China",
          "Canada",
          "Brazil",
          "United States",
          "Japan",
          "Vietnam",
          "Argentina",
          "Brazil",
          "Canada",
          "China",
          "France",
          "Germany",
          "India",
          "Israel",
          "Japan",
          "Mexico",
          "Poland",
          "Portugal",
          "Russia",
          "Singapore",
          "South Africa",
          "Spain",
          "United Kingdom",
          "United States",
          "Vietnam"
         ],
         "ids": [
          "Argentina/Corporate Income Tax",
          "United States/Corporate Income Tax",
          "United Kingdom/Corporate Income Tax",
          "Spain/Corporate Income Tax",
          "South Africa/Corporate Income Tax",
          "Singapore/Corporate Income Tax",
          "Russia/Corporate Income Tax",
          "Portugal/Corporate Income Tax",
          "Poland/Corporate Income Tax",
          "Vietnam/Corporate Income Tax",
          "Japan/Corporate Income Tax",
          "Israel/Corporate Income Tax",
          "India/Corporate Income Tax",
          "Germany/Corporate Income Tax",
          "France/Corporate Income Tax",
          "China/Corporate Income Tax",
          "Canada/Corporate Income Tax",
          "Brazil/Corporate Income Tax",
          "Mexico/Corporate Income Tax",
          "Israel/Private Income Tax",
          "India/Private Income Tax",
          "Canada/Private Income Tax",
          "France/Private Income Tax",
          "China/Private Income Tax",
          "Japan/Private Income Tax",
          "Germany/Private Income Tax",
          "Mexico/Private Income Tax",
          "South Africa/Private Income Tax",
          "Portugal/Private Income Tax",
          "Russia/Private Income Tax",
          "Singapore/Private Income Tax",
          "Spain/Private Income Tax",
          "United Kingdom/Private Income Tax",
          "United States/Private Income Tax",
          "Vietnam/Private Income Tax",
          "Brazil/Private Income Tax",
          "Poland/Private Income Tax",
          "Argentina/Private Income Tax",
          "Vietnam/Dividend Tax",
          "United States/Dividend Tax",
          "Argentina/Dividend Tax",
          "Brazil/Dividend Tax",
          "Canada/Dividend Tax",
          "China/Dividend Tax",
          "France/Dividend Tax",
          "India/Dividend Tax",
          "Israel/Dividend Tax",
          "Japan/Dividend Tax",
          "Germany/Dividend Tax",
          "Poland/Dividend Tax",
          "Portugal/Dividend Tax",
          "Russia/Dividend Tax",
          "Singapore/Dividend Tax",
          "South Africa/Dividend Tax",
          "Spain/Dividend Tax",
          "United Kingdom/Dividend Tax",
          "Mexico/Dividend Tax",
          "Poland/Sales Tax",
          "United Kingdom/Sales Tax",
          "Spain/Sales Tax",
          "South Africa/Sales Tax",
          "Singapore/Sales Tax",
          "Russia/Sales Tax",
          "Portugal/Sales Tax",
          "Mexico/Sales Tax",
          "Argentina/Sales Tax",
          "Israel/Sales Tax",
          "India/Sales Tax",
          "Germany/Sales Tax",
          "France/Sales Tax",
          "China/Sales Tax",
          "Canada/Sales Tax",
          "Brazil/Sales Tax",
          "United States/Sales Tax",
          "Japan/Sales Tax",
          "Vietnam/Sales Tax",
          "Argentina",
          "Brazil",
          "Canada",
          "China",
          "France",
          "Germany",
          "India",
          "Israel",
          "Japan",
          "Mexico",
          "Poland",
          "Portugal",
          "Russia",
          "Singapore",
          "South Africa",
          "Spain",
          "United Kingdom",
          "United States",
          "Vietnam"
         ],
         "labels": [
          "Corporate Income Tax",
          "Corporate Income Tax",
          "Corporate Income Tax",
          "Corporate Income Tax",
          "Corporate Income Tax",
          "Corporate Income Tax",
          "Corporate Income Tax",
          "Corporate Income Tax",
          "Corporate Income Tax",
          "Corporate Income Tax",
          "Corporate Income Tax",
          "Corporate Income Tax",
          "Corporate Income Tax",
          "Corporate Income Tax",
          "Corporate Income Tax",
          "Corporate Income Tax",
          "Corporate Income Tax",
          "Corporate Income Tax",
          "Corporate Income Tax",
          "Private Income Tax",
          "Private Income Tax",
          "Private Income Tax",
          "Private Income Tax",
          "Private Income Tax",
          "Private Income Tax",
          "Private Income Tax",
          "Private Income Tax",
          "Private Income Tax",
          "Private Income Tax",
          "Private Income Tax",
          "Private Income Tax",
          "Private Income Tax",
          "Private Income Tax",
          "Private Income Tax",
          "Private Income Tax",
          "Private Income Tax",
          "Private Income Tax",
          "Private Income Tax",
          "Dividend Tax",
          "Dividend Tax",
          "Dividend Tax",
          "Dividend Tax",
          "Dividend Tax",
          "Dividend Tax",
          "Dividend Tax",
          "Dividend Tax",
          "Dividend Tax",
          "Dividend Tax",
          "Dividend Tax",
          "Dividend Tax",
          "Dividend Tax",
          "Dividend Tax",
          "Dividend Tax",
          "Dividend Tax",
          "Dividend Tax",
          "Dividend Tax",
          "Dividend Tax",
          "Sales Tax",
          "Sales Tax",
          "Sales Tax",
          "Sales Tax",
          "Sales Tax",
          "Sales Tax",
          "Sales Tax",
          "Sales Tax",
          "Sales Tax",
          "Sales Tax",
          "Sales Tax",
          "Sales Tax",
          "Sales Tax",
          "Sales Tax",
          "Sales Tax",
          "Sales Tax",
          "Sales Tax",
          "Sales Tax",
          "Sales Tax",
          "Argentina",
          "Brazil",
          "Canada",
          "China",
          "France",
          "Germany",
          "India",
          "Israel",
          "Japan",
          "Mexico",
          "Poland",
          "Portugal",
          "Russia",
          "Singapore",
          "South Africa",
          "Spain",
          "United Kingdom",
          "United States",
          "Vietnam"
         ],
         "marker": {
          "colors": [
           "rgb(247, 254, 174)",
           "rgb(247, 254, 174)",
           "rgb(247, 254, 174)",
           "rgb(247, 254, 174)",
           "rgb(247, 254, 174)",
           "rgb(247, 254, 174)",
           "rgb(247, 254, 174)",
           "rgb(247, 254, 174)",
           "rgb(247, 254, 174)",
           "rgb(247, 254, 174)",
           "rgb(247, 254, 174)",
           "rgb(247, 254, 174)",
           "rgb(247, 254, 174)",
           "rgb(247, 254, 174)",
           "rgb(247, 254, 174)",
           "rgb(247, 254, 174)",
           "rgb(247, 254, 174)",
           "rgb(247, 254, 174)",
           "rgb(247, 254, 174)",
           "rgb(183, 230, 165)",
           "rgb(183, 230, 165)",
           "rgb(183, 230, 165)",
           "rgb(183, 230, 165)",
           "rgb(183, 230, 165)",
           "rgb(183, 230, 165)",
           "rgb(183, 230, 165)",
           "rgb(183, 230, 165)",
           "rgb(183, 230, 165)",
           "rgb(183, 230, 165)",
           "rgb(183, 230, 165)",
           "rgb(183, 230, 165)",
           "rgb(183, 230, 165)",
           "rgb(183, 230, 165)",
           "rgb(183, 230, 165)",
           "rgb(183, 230, 165)",
           "rgb(183, 230, 165)",
           "rgb(183, 230, 165)",
           "rgb(183, 230, 165)",
           "rgb(124, 203, 162)",
           "rgb(124, 203, 162)",
           "rgb(124, 203, 162)",
           "rgb(124, 203, 162)",
           "rgb(124, 203, 162)",
           "rgb(124, 203, 162)",
           "rgb(124, 203, 162)",
           "rgb(124, 203, 162)",
           "rgb(124, 203, 162)",
           "rgb(124, 203, 162)",
           "rgb(124, 203, 162)",
           "rgb(124, 203, 162)",
           "rgb(124, 203, 162)",
           "rgb(124, 203, 162)",
           "rgb(124, 203, 162)",
           "rgb(124, 203, 162)",
           "rgb(124, 203, 162)",
           "rgb(124, 203, 162)",
           "rgb(124, 203, 162)",
           "rgb(70, 174, 160)",
           "rgb(70, 174, 160)",
           "rgb(70, 174, 160)",
           "rgb(70, 174, 160)",
           "rgb(70, 174, 160)",
           "rgb(70, 174, 160)",
           "rgb(70, 174, 160)",
           "rgb(70, 174, 160)",
           "rgb(70, 174, 160)",
           "rgb(70, 174, 160)",
           "rgb(70, 174, 160)",
           "rgb(70, 174, 160)",
           "rgb(70, 174, 160)",
           "rgb(70, 174, 160)",
           "rgb(70, 174, 160)",
           "rgb(70, 174, 160)",
           "rgb(70, 174, 160)",
           "rgb(70, 174, 160)",
           "rgb(70, 174, 160)",
           "rgb(8, 144, 153)",
           "rgb(8, 144, 153)",
           "rgb(8, 144, 153)",
           "rgb(8, 144, 153)",
           "rgb(8, 144, 153)",
           "rgb(8, 144, 153)",
           "rgb(8, 144, 153)",
           "rgb(8, 144, 153)",
           "rgb(8, 144, 153)",
           "rgb(8, 144, 153)",
           "rgb(8, 144, 153)",
           "rgb(8, 144, 153)",
           "rgb(8, 144, 153)",
           "rgb(8, 144, 153)",
           "rgb(8, 144, 153)",
           "rgb(8, 144, 153)",
           "rgb(8, 144, 153)",
           "rgb(8, 144, 153)",
           "rgb(8, 144, 153)"
          ]
         },
         "name": "",
         "parents": [
          "Argentina",
          "United States",
          "United Kingdom",
          "Spain",
          "South Africa",
          "Singapore",
          "Russia",
          "Portugal",
          "Poland",
          "Vietnam",
          "Japan",
          "Israel",
          "India",
          "Germany",
          "France",
          "China",
          "Canada",
          "Brazil",
          "Mexico",
          "Israel",
          "India",
          "Canada",
          "France",
          "China",
          "Japan",
          "Germany",
          "Mexico",
          "South Africa",
          "Portugal",
          "Russia",
          "Singapore",
          "Spain",
          "United Kingdom",
          "United States",
          "Vietnam",
          "Brazil",
          "Poland",
          "Argentina",
          "Vietnam",
          "United States",
          "Argentina",
          "Brazil",
          "Canada",
          "China",
          "France",
          "India",
          "Israel",
          "Japan",
          "Germany",
          "Poland",
          "Portugal",
          "Russia",
          "Singapore",
          "South Africa",
          "Spain",
          "United Kingdom",
          "Mexico",
          "Poland",
          "United Kingdom",
          "Spain",
          "South Africa",
          "Singapore",
          "Russia",
          "Portugal",
          "Mexico",
          "Argentina",
          "Israel",
          "India",
          "Germany",
          "France",
          "China",
          "Canada",
          "Brazil",
          "United States",
          "Japan",
          "Vietnam",
          "",
          "",
          "",
          "",
          "",
          "",
          "",
          "",
          "",
          "",
          "",
          "",
          "",
          "",
          "",
          "",
          "",
          "",
          ""
         ],
         "type": "treemap",
         "values": [
          25,
          21,
          19,
          25,
          28,
          17,
          20,
          21,
          19,
          20,
          30.62,
          23,
          25.17,
          30,
          28,
          25,
          26.5,
          34,
          30,
          50,
          35.88,
          33,
          45,
          45,
          55.95,
          45,
          35,
          45,
          48,
          13,
          22,
          45,
          45,
          37,
          35,
          27.5,
          32,
          35,
          5,
          25.77,
          13,
          0,
          26.44,
          20,
          32.02,
          10,
          23,
          29.74,
          29.09,
          19,
          31.5,
          13,
          0,
          20,
          25,
          19,
          30,
          23,
          20,
          21,
          15,
          7,
          20,
          23,
          16,
          21,
          17,
          18,
          16,
          20,
          13,
          5,
          38,
          7,
          10,
          10,
          94,
          99.5,
          90.94,
          103,
          125.02000000000001,
          120.09,
          89.05000000000001,
          113,
          126.31,
          111,
          93,
          123.5,
          66,
          46,
          108,
          116,
          103,
          90.77,
          70
         ]
        }
       ],
       "layout": {
        "height": 800,
        "legend": {
         "tracegroupgap": 0
        },
        "template": {
         "data": {
          "bar": [
           {
            "error_x": {
             "color": "#2a3f5f"
            },
            "error_y": {
             "color": "#2a3f5f"
            },
            "marker": {
             "line": {
              "color": "#E5ECF6",
              "width": 0.5
             }
            },
            "type": "bar"
           }
          ],
          "barpolar": [
           {
            "marker": {
             "line": {
              "color": "#E5ECF6",
              "width": 0.5
             }
            },
            "type": "barpolar"
           }
          ],
          "carpet": [
           {
            "aaxis": {
             "endlinecolor": "#2a3f5f",
             "gridcolor": "white",
             "linecolor": "white",
             "minorgridcolor": "white",
             "startlinecolor": "#2a3f5f"
            },
            "baxis": {
             "endlinecolor": "#2a3f5f",
             "gridcolor": "white",
             "linecolor": "white",
             "minorgridcolor": "white",
             "startlinecolor": "#2a3f5f"
            },
            "type": "carpet"
           }
          ],
          "choropleth": [
           {
            "colorbar": {
             "outlinewidth": 0,
             "ticks": ""
            },
            "type": "choropleth"
           }
          ],
          "contour": [
           {
            "colorbar": {
             "outlinewidth": 0,
             "ticks": ""
            },
            "colorscale": [
             [
              0,
              "#0d0887"
             ],
             [
              0.1111111111111111,
              "#46039f"
             ],
             [
              0.2222222222222222,
              "#7201a8"
             ],
             [
              0.3333333333333333,
              "#9c179e"
             ],
             [
              0.4444444444444444,
              "#bd3786"
             ],
             [
              0.5555555555555556,
              "#d8576b"
             ],
             [
              0.6666666666666666,
              "#ed7953"
             ],
             [
              0.7777777777777778,
              "#fb9f3a"
             ],
             [
              0.8888888888888888,
              "#fdca26"
             ],
             [
              1,
              "#f0f921"
             ]
            ],
            "type": "contour"
           }
          ],
          "contourcarpet": [
           {
            "colorbar": {
             "outlinewidth": 0,
             "ticks": ""
            },
            "type": "contourcarpet"
           }
          ],
          "heatmap": [
           {
            "colorbar": {
             "outlinewidth": 0,
             "ticks": ""
            },
            "colorscale": [
             [
              0,
              "#0d0887"
             ],
             [
              0.1111111111111111,
              "#46039f"
             ],
             [
              0.2222222222222222,
              "#7201a8"
             ],
             [
              0.3333333333333333,
              "#9c179e"
             ],
             [
              0.4444444444444444,
              "#bd3786"
             ],
             [
              0.5555555555555556,
              "#d8576b"
             ],
             [
              0.6666666666666666,
              "#ed7953"
             ],
             [
              0.7777777777777778,
              "#fb9f3a"
             ],
             [
              0.8888888888888888,
              "#fdca26"
             ],
             [
              1,
              "#f0f921"
             ]
            ],
            "type": "heatmap"
           }
          ],
          "heatmapgl": [
           {
            "colorbar": {
             "outlinewidth": 0,
             "ticks": ""
            },
            "colorscale": [
             [
              0,
              "#0d0887"
             ],
             [
              0.1111111111111111,
              "#46039f"
             ],
             [
              0.2222222222222222,
              "#7201a8"
             ],
             [
              0.3333333333333333,
              "#9c179e"
             ],
             [
              0.4444444444444444,
              "#bd3786"
             ],
             [
              0.5555555555555556,
              "#d8576b"
             ],
             [
              0.6666666666666666,
              "#ed7953"
             ],
             [
              0.7777777777777778,
              "#fb9f3a"
             ],
             [
              0.8888888888888888,
              "#fdca26"
             ],
             [
              1,
              "#f0f921"
             ]
            ],
            "type": "heatmapgl"
           }
          ],
          "histogram": [
           {
            "marker": {
             "colorbar": {
              "outlinewidth": 0,
              "ticks": ""
             }
            },
            "type": "histogram"
           }
          ],
          "histogram2d": [
           {
            "colorbar": {
             "outlinewidth": 0,
             "ticks": ""
            },
            "colorscale": [
             [
              0,
              "#0d0887"
             ],
             [
              0.1111111111111111,
              "#46039f"
             ],
             [
              0.2222222222222222,
              "#7201a8"
             ],
             [
              0.3333333333333333,
              "#9c179e"
             ],
             [
              0.4444444444444444,
              "#bd3786"
             ],
             [
              0.5555555555555556,
              "#d8576b"
             ],
             [
              0.6666666666666666,
              "#ed7953"
             ],
             [
              0.7777777777777778,
              "#fb9f3a"
             ],
             [
              0.8888888888888888,
              "#fdca26"
             ],
             [
              1,
              "#f0f921"
             ]
            ],
            "type": "histogram2d"
           }
          ],
          "histogram2dcontour": [
           {
            "colorbar": {
             "outlinewidth": 0,
             "ticks": ""
            },
            "colorscale": [
             [
              0,
              "#0d0887"
             ],
             [
              0.1111111111111111,
              "#46039f"
             ],
             [
              0.2222222222222222,
              "#7201a8"
             ],
             [
              0.3333333333333333,
              "#9c179e"
             ],
             [
              0.4444444444444444,
              "#bd3786"
             ],
             [
              0.5555555555555556,
              "#d8576b"
             ],
             [
              0.6666666666666666,
              "#ed7953"
             ],
             [
              0.7777777777777778,
              "#fb9f3a"
             ],
             [
              0.8888888888888888,
              "#fdca26"
             ],
             [
              1,
              "#f0f921"
             ]
            ],
            "type": "histogram2dcontour"
           }
          ],
          "mesh3d": [
           {
            "colorbar": {
             "outlinewidth": 0,
             "ticks": ""
            },
            "type": "mesh3d"
           }
          ],
          "parcoords": [
           {
            "line": {
             "colorbar": {
              "outlinewidth": 0,
              "ticks": ""
             }
            },
            "type": "parcoords"
           }
          ],
          "pie": [
           {
            "automargin": true,
            "type": "pie"
           }
          ],
          "scatter": [
           {
            "marker": {
             "colorbar": {
              "outlinewidth": 0,
              "ticks": ""
             }
            },
            "type": "scatter"
           }
          ],
          "scatter3d": [
           {
            "line": {
             "colorbar": {
              "outlinewidth": 0,
              "ticks": ""
             }
            },
            "marker": {
             "colorbar": {
              "outlinewidth": 0,
              "ticks": ""
             }
            },
            "type": "scatter3d"
           }
          ],
          "scattercarpet": [
           {
            "marker": {
             "colorbar": {
              "outlinewidth": 0,
              "ticks": ""
             }
            },
            "type": "scattercarpet"
           }
          ],
          "scattergeo": [
           {
            "marker": {
             "colorbar": {
              "outlinewidth": 0,
              "ticks": ""
             }
            },
            "type": "scattergeo"
           }
          ],
          "scattergl": [
           {
            "marker": {
             "colorbar": {
              "outlinewidth": 0,
              "ticks": ""
             }
            },
            "type": "scattergl"
           }
          ],
          "scattermapbox": [
           {
            "marker": {
             "colorbar": {
              "outlinewidth": 0,
              "ticks": ""
             }
            },
            "type": "scattermapbox"
           }
          ],
          "scatterpolar": [
           {
            "marker": {
             "colorbar": {
              "outlinewidth": 0,
              "ticks": ""
             }
            },
            "type": "scatterpolar"
           }
          ],
          "scatterpolargl": [
           {
            "marker": {
             "colorbar": {
              "outlinewidth": 0,
              "ticks": ""
             }
            },
            "type": "scatterpolargl"
           }
          ],
          "scatterternary": [
           {
            "marker": {
             "colorbar": {
              "outlinewidth": 0,
              "ticks": ""
             }
            },
            "type": "scatterternary"
           }
          ],
          "surface": [
           {
            "colorbar": {
             "outlinewidth": 0,
             "ticks": ""
            },
            "colorscale": [
             [
              0,
              "#0d0887"
             ],
             [
              0.1111111111111111,
              "#46039f"
             ],
             [
              0.2222222222222222,
              "#7201a8"
             ],
             [
              0.3333333333333333,
              "#9c179e"
             ],
             [
              0.4444444444444444,
              "#bd3786"
             ],
             [
              0.5555555555555556,
              "#d8576b"
             ],
             [
              0.6666666666666666,
              "#ed7953"
             ],
             [
              0.7777777777777778,
              "#fb9f3a"
             ],
             [
              0.8888888888888888,
              "#fdca26"
             ],
             [
              1,
              "#f0f921"
             ]
            ],
            "type": "surface"
           }
          ],
          "table": [
           {
            "cells": {
             "fill": {
              "color": "#EBF0F8"
             },
             "line": {
              "color": "white"
             }
            },
            "header": {
             "fill": {
              "color": "#C8D4E3"
             },
             "line": {
              "color": "white"
             }
            },
            "type": "table"
           }
          ]
         },
         "layout": {
          "annotationdefaults": {
           "arrowcolor": "#2a3f5f",
           "arrowhead": 0,
           "arrowwidth": 1
          },
          "coloraxis": {
           "colorbar": {
            "outlinewidth": 0,
            "ticks": ""
           }
          },
          "colorscale": {
           "diverging": [
            [
             0,
             "#8e0152"
            ],
            [
             0.1,
             "#c51b7d"
            ],
            [
             0.2,
             "#de77ae"
            ],
            [
             0.3,
             "#f1b6da"
            ],
            [
             0.4,
             "#fde0ef"
            ],
            [
             0.5,
             "#f7f7f7"
            ],
            [
             0.6,
             "#e6f5d0"
            ],
            [
             0.7,
             "#b8e186"
            ],
            [
             0.8,
             "#7fbc41"
            ],
            [
             0.9,
             "#4d9221"
            ],
            [
             1,
             "#276419"
            ]
           ],
           "sequential": [
            [
             0,
             "#0d0887"
            ],
            [
             0.1111111111111111,
             "#46039f"
            ],
            [
             0.2222222222222222,
             "#7201a8"
            ],
            [
             0.3333333333333333,
             "#9c179e"
            ],
            [
             0.4444444444444444,
             "#bd3786"
            ],
            [
             0.5555555555555556,
             "#d8576b"
            ],
            [
             0.6666666666666666,
             "#ed7953"
            ],
            [
             0.7777777777777778,
             "#fb9f3a"
            ],
            [
             0.8888888888888888,
             "#fdca26"
            ],
            [
             1,
             "#f0f921"
            ]
           ],
           "sequentialminus": [
            [
             0,
             "#0d0887"
            ],
            [
             0.1111111111111111,
             "#46039f"
            ],
            [
             0.2222222222222222,
             "#7201a8"
            ],
            [
             0.3333333333333333,
             "#9c179e"
            ],
            [
             0.4444444444444444,
             "#bd3786"
            ],
            [
             0.5555555555555556,
             "#d8576b"
            ],
            [
             0.6666666666666666,
             "#ed7953"
            ],
            [
             0.7777777777777778,
             "#fb9f3a"
            ],
            [
             0.8888888888888888,
             "#fdca26"
            ],
            [
             1,
             "#f0f921"
            ]
           ]
          },
          "colorway": [
           "#636efa",
           "#EF553B",
           "#00cc96",
           "#ab63fa",
           "#FFA15A",
           "#19d3f3",
           "#FF6692",
           "#B6E880",
           "#FF97FF",
           "#FECB52"
          ],
          "font": {
           "color": "#2a3f5f"
          },
          "geo": {
           "bgcolor": "white",
           "lakecolor": "white",
           "landcolor": "#E5ECF6",
           "showlakes": true,
           "showland": true,
           "subunitcolor": "white"
          },
          "hoverlabel": {
           "align": "left"
          },
          "hovermode": "closest",
          "mapbox": {
           "style": "light"
          },
          "paper_bgcolor": "white",
          "plot_bgcolor": "#E5ECF6",
          "polar": {
           "angularaxis": {
            "gridcolor": "white",
            "linecolor": "white",
            "ticks": ""
           },
           "bgcolor": "#E5ECF6",
           "radialaxis": {
            "gridcolor": "white",
            "linecolor": "white",
            "ticks": ""
           }
          },
          "scene": {
           "xaxis": {
            "backgroundcolor": "#E5ECF6",
            "gridcolor": "white",
            "gridwidth": 2,
            "linecolor": "white",
            "showbackground": true,
            "ticks": "",
            "zerolinecolor": "white"
           },
           "yaxis": {
            "backgroundcolor": "#E5ECF6",
            "gridcolor": "white",
            "gridwidth": 2,
            "linecolor": "white",
            "showbackground": true,
            "ticks": "",
            "zerolinecolor": "white"
           },
           "zaxis": {
            "backgroundcolor": "#E5ECF6",
            "gridcolor": "white",
            "gridwidth": 2,
            "linecolor": "white",
            "showbackground": true,
            "ticks": "",
            "zerolinecolor": "white"
           }
          },
          "shapedefaults": {
           "line": {
            "color": "#2a3f5f"
           }
          },
          "ternary": {
           "aaxis": {
            "gridcolor": "white",
            "linecolor": "white",
            "ticks": ""
           },
           "baxis": {
            "gridcolor": "white",
            "linecolor": "white",
            "ticks": ""
           },
           "bgcolor": "#E5ECF6",
           "caxis": {
            "gridcolor": "white",
            "linecolor": "white",
            "ticks": ""
           }
          },
          "title": {
           "x": 0.05
          },
          "xaxis": {
           "automargin": true,
           "gridcolor": "white",
           "linecolor": "white",
           "ticks": "",
           "title": {
            "standoff": 15
           },
           "zerolinecolor": "white",
           "zerolinewidth": 2
          },
          "yaxis": {
           "automargin": true,
           "gridcolor": "white",
           "linecolor": "white",
           "ticks": "",
           "title": {
            "standoff": 15
           },
           "zerolinecolor": "white",
           "zerolinewidth": 2
          }
         }
        },
        "title": {
         "text": "Taxes Treemap",
         "x": 0.5
        },
        "treemapcolorway": [
         "rgb(247, 254, 174)",
         "rgb(183, 230, 165)",
         "rgb(124, 203, 162)",
         "rgb(70, 174, 160)",
         "rgb(8, 144, 153)",
         "rgb(0, 113, 139)",
         "rgb(4, 82, 117)"
        ],
        "width": 950
       }
      },
      "text/html": [
       "<div>                            <div id=\"81752f9c-25c6-4b9f-84a1-87a07d351daf\" class=\"plotly-graph-div\" style=\"height:800px; width:950px;\"></div>            <script type=\"text/javascript\">                require([\"plotly\"], function(Plotly) {                    window.PLOTLYENV=window.PLOTLYENV || {};                                    if (document.getElementById(\"81752f9c-25c6-4b9f-84a1-87a07d351daf\")) {                    Plotly.newPlot(                        \"81752f9c-25c6-4b9f-84a1-87a07d351daf\",                        [{\"branchvalues\": \"total\", \"customdata\": [[\"Argentina\", \"Corporate Income Tax\", 25.0], [\"United States\", \"Corporate Income Tax\", 21.0], [\"United Kingdom\", \"Corporate Income Tax\", 19.0], [\"Spain\", \"Corporate Income Tax\", 25.0], [\"South Africa\", \"Corporate Income Tax\", 28.0], [\"Singapore\", \"Corporate Income Tax\", 17.0], [\"Russia\", \"Corporate Income Tax\", 20.0], [\"Portugal\", \"Corporate Income Tax\", 21.0], [\"Poland\", \"Corporate Income Tax\", 19.0], [\"Vietnam\", \"Corporate Income Tax\", 20.0], [\"Japan\", \"Corporate Income Tax\", 30.62], [\"Israel\", \"Corporate Income Tax\", 23.0], [\"India\", \"Corporate Income Tax\", 25.17], [\"Germany\", \"Corporate Income Tax\", 30.0], [\"France\", \"Corporate Income Tax\", 28.0], [\"China\", \"Corporate Income Tax\", 25.0], [\"Canada\", \"Corporate Income Tax\", 26.5], [\"Brazil\", \"Corporate Income Tax\", 34.0], [\"Mexico\", \"Corporate Income Tax\", 30.0], [\"Israel\", \"Private Income Tax\", 50.0], [\"India\", \"Private Income Tax\", 35.88], [\"Canada\", \"Private Income Tax\", 33.0], [\"France\", \"Private Income Tax\", 45.0], [\"China\", \"Private Income Tax\", 45.0], [\"Japan\", \"Private Income Tax\", 55.95], [\"Germany\", \"Private Income Tax\", 45.0], [\"Mexico\", \"Private Income Tax\", 35.0], [\"South Africa\", \"Private Income Tax\", 45.0], [\"Portugal\", \"Private Income Tax\", 48.0], [\"Russia\", \"Private Income Tax\", 13.0], [\"Singapore\", \"Private Income Tax\", 22.0], [\"Spain\", \"Private Income Tax\", 45.0], [\"United Kingdom\", \"Private Income Tax\", 45.0], [\"United States\", \"Private Income Tax\", 37.0], [\"Vietnam\", \"Private Income Tax\", 35.0], [\"Brazil\", \"Private Income Tax\", 27.5], [\"Poland\", \"Private Income Tax\", 32.0], [\"Argentina\", \"Private Income Tax\", 35.0], [\"Vietnam\", \"Dividend Tax\", 5.0], [\"United States\", \"Dividend Tax\", 25.77], [\"Argentina\", \"Dividend Tax\", 13.0], [\"Brazil\", \"Dividend Tax\", 0.0], [\"Canada\", \"Dividend Tax\", 26.44], [\"China\", \"Dividend Tax\", 20.0], [\"France\", \"Dividend Tax\", 32.02], [\"India\", \"Dividend Tax\", 10.0], [\"Israel\", \"Dividend Tax\", 23.0], [\"Japan\", \"Dividend Tax\", 29.74], [\"Germany\", \"Dividend Tax\", 29.09], [\"Poland\", \"Dividend Tax\", 19.0], [\"Portugal\", \"Dividend Tax\", 31.5], [\"Russia\", \"Dividend Tax\", 13.0], [\"Singapore\", \"Dividend Tax\", 0.0], [\"South Africa\", \"Dividend Tax\", 20.0], [\"Spain\", \"Dividend Tax\", 25.0], [\"United Kingdom\", \"Dividend Tax\", 19.0], [\"Mexico\", \"Dividend Tax\", 30.0], [\"Poland\", \"Sales Tax\", 23.0], [\"United Kingdom\", \"Sales Tax\", 20.0], [\"Spain\", \"Sales Tax\", 21.0], [\"South Africa\", \"Sales Tax\", 15.0], [\"Singapore\", \"Sales Tax\", 7.0], [\"Russia\", \"Sales Tax\", 20.0], [\"Portugal\", \"Sales Tax\", 23.0], [\"Mexico\", \"Sales Tax\", 16.0], [\"Argentina\", \"Sales Tax\", 21.0], [\"Israel\", \"Sales Tax\", 17.0], [\"India\", \"Sales Tax\", 18.0], [\"Germany\", \"Sales Tax\", 16.0], [\"France\", \"Sales Tax\", 20.0], [\"China\", \"Sales Tax\", 13.0], [\"Canada\", \"Sales Tax\", 5.0], [\"Brazil\", \"Sales Tax\", 38.0], [\"United States\", \"Sales Tax\", 7.0], [\"Japan\", \"Sales Tax\", 10.0], [\"Vietnam\", \"Sales Tax\", 10.0], [\"Argentina\", \"(?)\", 94.0], [\"Brazil\", \"(?)\", 99.5], [\"Canada\", \"(?)\", 90.94], [\"China\", \"(?)\", 103.0], [\"France\", \"(?)\", 125.02000000000001], [\"Germany\", \"(?)\", 120.09], [\"India\", \"(?)\", 89.05000000000001], [\"Israel\", \"(?)\", 113.0], [\"Japan\", \"(?)\", 126.31], [\"Mexico\", \"(?)\", 111.0], [\"Poland\", \"(?)\", 93.0], [\"Portugal\", \"(?)\", 123.5], [\"Russia\", \"(?)\", 66.0], [\"Singapore\", \"(?)\", 46.0], [\"South Africa\", \"(?)\", 108.0], [\"Spain\", \"(?)\", 116.0], [\"United Kingdom\", \"(?)\", 103.0], [\"United States\", \"(?)\", 90.77], [\"Vietnam\", \"(?)\", 70.0]], \"domain\": {\"x\": [0.0, 1.0], \"y\": [0.0, 1.0]}, \"hovertemplate\": \"<b>%{hovertext}</b><br><br>labels=%{label}<br>tax_value=%{customdata[2]}<br>parent=%{parent}<br>id=%{id}<extra></extra>\", \"hovertext\": [\"Argentina\", \"United States\", \"United Kingdom\", \"Spain\", \"South Africa\", \"Singapore\", \"Russia\", \"Portugal\", \"Poland\", \"Vietnam\", \"Japan\", \"Israel\", \"India\", \"Germany\", \"France\", \"China\", \"Canada\", \"Brazil\", \"Mexico\", \"Israel\", \"India\", \"Canada\", \"France\", \"China\", \"Japan\", \"Germany\", \"Mexico\", \"South Africa\", \"Portugal\", \"Russia\", \"Singapore\", \"Spain\", \"United Kingdom\", \"United States\", \"Vietnam\", \"Brazil\", \"Poland\", \"Argentina\", \"Vietnam\", \"United States\", \"Argentina\", \"Brazil\", \"Canada\", \"China\", \"France\", \"India\", \"Israel\", \"Japan\", \"Germany\", \"Poland\", \"Portugal\", \"Russia\", \"Singapore\", \"South Africa\", \"Spain\", \"United Kingdom\", \"Mexico\", \"Poland\", \"United Kingdom\", \"Spain\", \"South Africa\", \"Singapore\", \"Russia\", \"Portugal\", \"Mexico\", \"Argentina\", \"Israel\", \"India\", \"Germany\", \"France\", \"China\", \"Canada\", \"Brazil\", \"United States\", \"Japan\", \"Vietnam\", \"Argentina\", \"Brazil\", \"Canada\", \"China\", \"France\", \"Germany\", \"India\", \"Israel\", \"Japan\", \"Mexico\", \"Poland\", \"Portugal\", \"Russia\", \"Singapore\", \"South Africa\", \"Spain\", \"United Kingdom\", \"United States\", \"Vietnam\"], \"ids\": [\"Argentina/Corporate Income Tax\", \"United States/Corporate Income Tax\", \"United Kingdom/Corporate Income Tax\", \"Spain/Corporate Income Tax\", \"South Africa/Corporate Income Tax\", \"Singapore/Corporate Income Tax\", \"Russia/Corporate Income Tax\", \"Portugal/Corporate Income Tax\", \"Poland/Corporate Income Tax\", \"Vietnam/Corporate Income Tax\", \"Japan/Corporate Income Tax\", \"Israel/Corporate Income Tax\", \"India/Corporate Income Tax\", \"Germany/Corporate Income Tax\", \"France/Corporate Income Tax\", \"China/Corporate Income Tax\", \"Canada/Corporate Income Tax\", \"Brazil/Corporate Income Tax\", \"Mexico/Corporate Income Tax\", \"Israel/Private Income Tax\", \"India/Private Income Tax\", \"Canada/Private Income Tax\", \"France/Private Income Tax\", \"China/Private Income Tax\", \"Japan/Private Income Tax\", \"Germany/Private Income Tax\", \"Mexico/Private Income Tax\", \"South Africa/Private Income Tax\", \"Portugal/Private Income Tax\", \"Russia/Private Income Tax\", \"Singapore/Private Income Tax\", \"Spain/Private Income Tax\", \"United Kingdom/Private Income Tax\", \"United States/Private Income Tax\", \"Vietnam/Private Income Tax\", \"Brazil/Private Income Tax\", \"Poland/Private Income Tax\", \"Argentina/Private Income Tax\", \"Vietnam/Dividend Tax\", \"United States/Dividend Tax\", \"Argentina/Dividend Tax\", \"Brazil/Dividend Tax\", \"Canada/Dividend Tax\", \"China/Dividend Tax\", \"France/Dividend Tax\", \"India/Dividend Tax\", \"Israel/Dividend Tax\", \"Japan/Dividend Tax\", \"Germany/Dividend Tax\", \"Poland/Dividend Tax\", \"Portugal/Dividend Tax\", \"Russia/Dividend Tax\", \"Singapore/Dividend Tax\", \"South Africa/Dividend Tax\", \"Spain/Dividend Tax\", \"United Kingdom/Dividend Tax\", \"Mexico/Dividend Tax\", \"Poland/Sales Tax\", \"United Kingdom/Sales Tax\", \"Spain/Sales Tax\", \"South Africa/Sales Tax\", \"Singapore/Sales Tax\", \"Russia/Sales Tax\", \"Portugal/Sales Tax\", \"Mexico/Sales Tax\", \"Argentina/Sales Tax\", \"Israel/Sales Tax\", \"India/Sales Tax\", \"Germany/Sales Tax\", \"France/Sales Tax\", \"China/Sales Tax\", \"Canada/Sales Tax\", \"Brazil/Sales Tax\", \"United States/Sales Tax\", \"Japan/Sales Tax\", \"Vietnam/Sales Tax\", \"Argentina\", \"Brazil\", \"Canada\", \"China\", \"France\", \"Germany\", \"India\", \"Israel\", \"Japan\", \"Mexico\", \"Poland\", \"Portugal\", \"Russia\", \"Singapore\", \"South Africa\", \"Spain\", \"United Kingdom\", \"United States\", \"Vietnam\"], \"labels\": [\"Corporate Income Tax\", \"Corporate Income Tax\", \"Corporate Income Tax\", \"Corporate Income Tax\", \"Corporate Income Tax\", \"Corporate Income Tax\", \"Corporate Income Tax\", \"Corporate Income Tax\", \"Corporate Income Tax\", \"Corporate Income Tax\", \"Corporate Income Tax\", \"Corporate Income Tax\", \"Corporate Income Tax\", \"Corporate Income Tax\", \"Corporate Income Tax\", \"Corporate Income Tax\", \"Corporate Income Tax\", \"Corporate Income Tax\", \"Corporate Income Tax\", \"Private Income Tax\", \"Private Income Tax\", \"Private Income Tax\", \"Private Income Tax\", \"Private Income Tax\", \"Private Income Tax\", \"Private Income Tax\", \"Private Income Tax\", \"Private Income Tax\", \"Private Income Tax\", \"Private Income Tax\", \"Private Income Tax\", \"Private Income Tax\", \"Private Income Tax\", \"Private Income Tax\", \"Private Income Tax\", \"Private Income Tax\", \"Private Income Tax\", \"Private Income Tax\", \"Dividend Tax\", \"Dividend Tax\", \"Dividend Tax\", \"Dividend Tax\", \"Dividend Tax\", \"Dividend Tax\", \"Dividend Tax\", \"Dividend Tax\", \"Dividend Tax\", \"Dividend Tax\", \"Dividend Tax\", \"Dividend Tax\", \"Dividend Tax\", \"Dividend Tax\", \"Dividend Tax\", \"Dividend Tax\", \"Dividend Tax\", \"Dividend Tax\", \"Dividend Tax\", \"Sales Tax\", \"Sales Tax\", \"Sales Tax\", \"Sales Tax\", \"Sales Tax\", \"Sales Tax\", \"Sales Tax\", \"Sales Tax\", \"Sales Tax\", \"Sales Tax\", \"Sales Tax\", \"Sales Tax\", \"Sales Tax\", \"Sales Tax\", \"Sales Tax\", \"Sales Tax\", \"Sales Tax\", \"Sales Tax\", \"Sales Tax\", \"Argentina\", \"Brazil\", \"Canada\", \"China\", \"France\", \"Germany\", \"India\", \"Israel\", \"Japan\", \"Mexico\", \"Poland\", \"Portugal\", \"Russia\", \"Singapore\", \"South Africa\", \"Spain\", \"United Kingdom\", \"United States\", \"Vietnam\"], \"marker\": {\"colors\": [\"rgb(247, 254, 174)\", \"rgb(247, 254, 174)\", \"rgb(247, 254, 174)\", \"rgb(247, 254, 174)\", \"rgb(247, 254, 174)\", \"rgb(247, 254, 174)\", \"rgb(247, 254, 174)\", \"rgb(247, 254, 174)\", \"rgb(247, 254, 174)\", \"rgb(247, 254, 174)\", \"rgb(247, 254, 174)\", \"rgb(247, 254, 174)\", \"rgb(247, 254, 174)\", \"rgb(247, 254, 174)\", \"rgb(247, 254, 174)\", \"rgb(247, 254, 174)\", \"rgb(247, 254, 174)\", \"rgb(247, 254, 174)\", \"rgb(247, 254, 174)\", \"rgb(183, 230, 165)\", \"rgb(183, 230, 165)\", \"rgb(183, 230, 165)\", \"rgb(183, 230, 165)\", \"rgb(183, 230, 165)\", \"rgb(183, 230, 165)\", \"rgb(183, 230, 165)\", \"rgb(183, 230, 165)\", \"rgb(183, 230, 165)\", \"rgb(183, 230, 165)\", \"rgb(183, 230, 165)\", \"rgb(183, 230, 165)\", \"rgb(183, 230, 165)\", \"rgb(183, 230, 165)\", \"rgb(183, 230, 165)\", \"rgb(183, 230, 165)\", \"rgb(183, 230, 165)\", \"rgb(183, 230, 165)\", \"rgb(183, 230, 165)\", \"rgb(124, 203, 162)\", \"rgb(124, 203, 162)\", \"rgb(124, 203, 162)\", \"rgb(124, 203, 162)\", \"rgb(124, 203, 162)\", \"rgb(124, 203, 162)\", \"rgb(124, 203, 162)\", \"rgb(124, 203, 162)\", \"rgb(124, 203, 162)\", \"rgb(124, 203, 162)\", \"rgb(124, 203, 162)\", \"rgb(124, 203, 162)\", \"rgb(124, 203, 162)\", \"rgb(124, 203, 162)\", \"rgb(124, 203, 162)\", \"rgb(124, 203, 162)\", \"rgb(124, 203, 162)\", \"rgb(124, 203, 162)\", \"rgb(124, 203, 162)\", \"rgb(70, 174, 160)\", \"rgb(70, 174, 160)\", \"rgb(70, 174, 160)\", \"rgb(70, 174, 160)\", \"rgb(70, 174, 160)\", \"rgb(70, 174, 160)\", \"rgb(70, 174, 160)\", \"rgb(70, 174, 160)\", \"rgb(70, 174, 160)\", \"rgb(70, 174, 160)\", \"rgb(70, 174, 160)\", \"rgb(70, 174, 160)\", \"rgb(70, 174, 160)\", \"rgb(70, 174, 160)\", \"rgb(70, 174, 160)\", \"rgb(70, 174, 160)\", \"rgb(70, 174, 160)\", \"rgb(70, 174, 160)\", \"rgb(70, 174, 160)\", \"rgb(8, 144, 153)\", \"rgb(8, 144, 153)\", \"rgb(8, 144, 153)\", \"rgb(8, 144, 153)\", \"rgb(8, 144, 153)\", \"rgb(8, 144, 153)\", \"rgb(8, 144, 153)\", \"rgb(8, 144, 153)\", \"rgb(8, 144, 153)\", \"rgb(8, 144, 153)\", \"rgb(8, 144, 153)\", \"rgb(8, 144, 153)\", \"rgb(8, 144, 153)\", \"rgb(8, 144, 153)\", \"rgb(8, 144, 153)\", \"rgb(8, 144, 153)\", \"rgb(8, 144, 153)\", \"rgb(8, 144, 153)\", \"rgb(8, 144, 153)\"]}, \"name\": \"\", \"parents\": [\"Argentina\", \"United States\", \"United Kingdom\", \"Spain\", \"South Africa\", \"Singapore\", \"Russia\", \"Portugal\", \"Poland\", \"Vietnam\", \"Japan\", \"Israel\", \"India\", \"Germany\", \"France\", \"China\", \"Canada\", \"Brazil\", \"Mexico\", \"Israel\", \"India\", \"Canada\", \"France\", \"China\", \"Japan\", \"Germany\", \"Mexico\", \"South Africa\", \"Portugal\", \"Russia\", \"Singapore\", \"Spain\", \"United Kingdom\", \"United States\", \"Vietnam\", \"Brazil\", \"Poland\", \"Argentina\", \"Vietnam\", \"United States\", \"Argentina\", \"Brazil\", \"Canada\", \"China\", \"France\", \"India\", \"Israel\", \"Japan\", \"Germany\", \"Poland\", \"Portugal\", \"Russia\", \"Singapore\", \"South Africa\", \"Spain\", \"United Kingdom\", \"Mexico\", \"Poland\", \"United Kingdom\", \"Spain\", \"South Africa\", \"Singapore\", \"Russia\", \"Portugal\", \"Mexico\", \"Argentina\", \"Israel\", \"India\", \"Germany\", \"France\", \"China\", \"Canada\", \"Brazil\", \"United States\", \"Japan\", \"Vietnam\", \"\", \"\", \"\", \"\", \"\", \"\", \"\", \"\", \"\", \"\", \"\", \"\", \"\", \"\", \"\", \"\", \"\", \"\", \"\"], \"type\": \"treemap\", \"values\": [25.0, 21.0, 19.0, 25.0, 28.0, 17.0, 20.0, 21.0, 19.0, 20.0, 30.62, 23.0, 25.17, 30.0, 28.0, 25.0, 26.5, 34.0, 30.0, 50.0, 35.88, 33.0, 45.0, 45.0, 55.95, 45.0, 35.0, 45.0, 48.0, 13.0, 22.0, 45.0, 45.0, 37.0, 35.0, 27.5, 32.0, 35.0, 5.0, 25.77, 13.0, 0.0, 26.44, 20.0, 32.02, 10.0, 23.0, 29.74, 29.09, 19.0, 31.5, 13.0, 0.0, 20.0, 25.0, 19.0, 30.0, 23.0, 20.0, 21.0, 15.0, 7.0, 20.0, 23.0, 16.0, 21.0, 17.0, 18.0, 16.0, 20.0, 13.0, 5.0, 38.0, 7.0, 10.0, 10.0, 94.0, 99.5, 90.94, 103.0, 125.02000000000001, 120.09, 89.05000000000001, 113.0, 126.31, 111.0, 93.0, 123.5, 66.0, 46.0, 108.0, 116.0, 103.0, 90.77, 70.0]}],                        {\"height\": 800, \"legend\": {\"tracegroupgap\": 0}, \"template\": {\"data\": {\"bar\": [{\"error_x\": {\"color\": \"#2a3f5f\"}, \"error_y\": {\"color\": \"#2a3f5f\"}, \"marker\": {\"line\": {\"color\": \"#E5ECF6\", \"width\": 0.5}}, \"type\": \"bar\"}], \"barpolar\": [{\"marker\": {\"line\": {\"color\": \"#E5ECF6\", \"width\": 0.5}}, \"type\": \"barpolar\"}], \"carpet\": [{\"aaxis\": {\"endlinecolor\": \"#2a3f5f\", \"gridcolor\": \"white\", \"linecolor\": \"white\", \"minorgridcolor\": \"white\", \"startlinecolor\": \"#2a3f5f\"}, \"baxis\": {\"endlinecolor\": \"#2a3f5f\", \"gridcolor\": \"white\", \"linecolor\": \"white\", \"minorgridcolor\": \"white\", \"startlinecolor\": \"#2a3f5f\"}, \"type\": \"carpet\"}], \"choropleth\": [{\"colorbar\": {\"outlinewidth\": 0, \"ticks\": \"\"}, \"type\": \"choropleth\"}], \"contour\": [{\"colorbar\": {\"outlinewidth\": 0, \"ticks\": \"\"}, \"colorscale\": [[0.0, \"#0d0887\"], [0.1111111111111111, \"#46039f\"], [0.2222222222222222, \"#7201a8\"], [0.3333333333333333, \"#9c179e\"], [0.4444444444444444, \"#bd3786\"], [0.5555555555555556, \"#d8576b\"], [0.6666666666666666, \"#ed7953\"], [0.7777777777777778, \"#fb9f3a\"], [0.8888888888888888, \"#fdca26\"], [1.0, \"#f0f921\"]], \"type\": \"contour\"}], \"contourcarpet\": [{\"colorbar\": {\"outlinewidth\": 0, \"ticks\": \"\"}, \"type\": \"contourcarpet\"}], \"heatmap\": [{\"colorbar\": {\"outlinewidth\": 0, \"ticks\": \"\"}, \"colorscale\": [[0.0, \"#0d0887\"], [0.1111111111111111, \"#46039f\"], [0.2222222222222222, \"#7201a8\"], [0.3333333333333333, \"#9c179e\"], [0.4444444444444444, \"#bd3786\"], [0.5555555555555556, \"#d8576b\"], [0.6666666666666666, \"#ed7953\"], [0.7777777777777778, \"#fb9f3a\"], [0.8888888888888888, \"#fdca26\"], [1.0, \"#f0f921\"]], \"type\": \"heatmap\"}], \"heatmapgl\": [{\"colorbar\": {\"outlinewidth\": 0, \"ticks\": \"\"}, \"colorscale\": [[0.0, \"#0d0887\"], [0.1111111111111111, \"#46039f\"], [0.2222222222222222, \"#7201a8\"], [0.3333333333333333, \"#9c179e\"], [0.4444444444444444, \"#bd3786\"], [0.5555555555555556, \"#d8576b\"], [0.6666666666666666, \"#ed7953\"], [0.7777777777777778, \"#fb9f3a\"], [0.8888888888888888, \"#fdca26\"], [1.0, \"#f0f921\"]], \"type\": \"heatmapgl\"}], \"histogram\": [{\"marker\": {\"colorbar\": {\"outlinewidth\": 0, \"ticks\": \"\"}}, \"type\": \"histogram\"}], \"histogram2d\": [{\"colorbar\": {\"outlinewidth\": 0, \"ticks\": \"\"}, \"colorscale\": [[0.0, \"#0d0887\"], [0.1111111111111111, \"#46039f\"], [0.2222222222222222, \"#7201a8\"], [0.3333333333333333, \"#9c179e\"], [0.4444444444444444, \"#bd3786\"], [0.5555555555555556, \"#d8576b\"], [0.6666666666666666, \"#ed7953\"], [0.7777777777777778, \"#fb9f3a\"], [0.8888888888888888, \"#fdca26\"], [1.0, \"#f0f921\"]], \"type\": \"histogram2d\"}], \"histogram2dcontour\": [{\"colorbar\": {\"outlinewidth\": 0, \"ticks\": \"\"}, \"colorscale\": [[0.0, \"#0d0887\"], [0.1111111111111111, \"#46039f\"], [0.2222222222222222, \"#7201a8\"], [0.3333333333333333, \"#9c179e\"], [0.4444444444444444, \"#bd3786\"], [0.5555555555555556, \"#d8576b\"], [0.6666666666666666, \"#ed7953\"], [0.7777777777777778, \"#fb9f3a\"], [0.8888888888888888, \"#fdca26\"], [1.0, \"#f0f921\"]], \"type\": \"histogram2dcontour\"}], \"mesh3d\": [{\"colorbar\": {\"outlinewidth\": 0, \"ticks\": \"\"}, \"type\": \"mesh3d\"}], \"parcoords\": [{\"line\": {\"colorbar\": {\"outlinewidth\": 0, \"ticks\": \"\"}}, \"type\": \"parcoords\"}], \"pie\": [{\"automargin\": true, \"type\": \"pie\"}], \"scatter\": [{\"marker\": {\"colorbar\": {\"outlinewidth\": 0, \"ticks\": \"\"}}, \"type\": \"scatter\"}], \"scatter3d\": [{\"line\": {\"colorbar\": {\"outlinewidth\": 0, \"ticks\": \"\"}}, \"marker\": {\"colorbar\": {\"outlinewidth\": 0, \"ticks\": \"\"}}, \"type\": \"scatter3d\"}], \"scattercarpet\": [{\"marker\": {\"colorbar\": {\"outlinewidth\": 0, \"ticks\": \"\"}}, \"type\": \"scattercarpet\"}], \"scattergeo\": [{\"marker\": {\"colorbar\": {\"outlinewidth\": 0, \"ticks\": \"\"}}, \"type\": \"scattergeo\"}], \"scattergl\": [{\"marker\": {\"colorbar\": {\"outlinewidth\": 0, \"ticks\": \"\"}}, \"type\": \"scattergl\"}], \"scattermapbox\": [{\"marker\": {\"colorbar\": {\"outlinewidth\": 0, \"ticks\": \"\"}}, \"type\": \"scattermapbox\"}], \"scatterpolar\": [{\"marker\": {\"colorbar\": {\"outlinewidth\": 0, \"ticks\": \"\"}}, \"type\": \"scatterpolar\"}], \"scatterpolargl\": [{\"marker\": {\"colorbar\": {\"outlinewidth\": 0, \"ticks\": \"\"}}, \"type\": \"scatterpolargl\"}], \"scatterternary\": [{\"marker\": {\"colorbar\": {\"outlinewidth\": 0, \"ticks\": \"\"}}, \"type\": \"scatterternary\"}], \"surface\": [{\"colorbar\": {\"outlinewidth\": 0, \"ticks\": \"\"}, \"colorscale\": [[0.0, \"#0d0887\"], [0.1111111111111111, \"#46039f\"], [0.2222222222222222, \"#7201a8\"], [0.3333333333333333, \"#9c179e\"], [0.4444444444444444, \"#bd3786\"], [0.5555555555555556, \"#d8576b\"], [0.6666666666666666, \"#ed7953\"], [0.7777777777777778, \"#fb9f3a\"], [0.8888888888888888, \"#fdca26\"], [1.0, \"#f0f921\"]], \"type\": \"surface\"}], \"table\": [{\"cells\": {\"fill\": {\"color\": \"#EBF0F8\"}, \"line\": {\"color\": \"white\"}}, \"header\": {\"fill\": {\"color\": \"#C8D4E3\"}, \"line\": {\"color\": \"white\"}}, \"type\": \"table\"}]}, \"layout\": {\"annotationdefaults\": {\"arrowcolor\": \"#2a3f5f\", \"arrowhead\": 0, \"arrowwidth\": 1}, \"coloraxis\": {\"colorbar\": {\"outlinewidth\": 0, \"ticks\": \"\"}}, \"colorscale\": {\"diverging\": [[0, \"#8e0152\"], [0.1, \"#c51b7d\"], [0.2, \"#de77ae\"], [0.3, \"#f1b6da\"], [0.4, \"#fde0ef\"], [0.5, \"#f7f7f7\"], [0.6, \"#e6f5d0\"], [0.7, \"#b8e186\"], [0.8, \"#7fbc41\"], [0.9, \"#4d9221\"], [1, \"#276419\"]], \"sequential\": [[0.0, \"#0d0887\"], [0.1111111111111111, \"#46039f\"], [0.2222222222222222, \"#7201a8\"], [0.3333333333333333, \"#9c179e\"], [0.4444444444444444, \"#bd3786\"], [0.5555555555555556, \"#d8576b\"], [0.6666666666666666, \"#ed7953\"], [0.7777777777777778, \"#fb9f3a\"], [0.8888888888888888, \"#fdca26\"], [1.0, \"#f0f921\"]], \"sequentialminus\": [[0.0, \"#0d0887\"], [0.1111111111111111, \"#46039f\"], [0.2222222222222222, \"#7201a8\"], [0.3333333333333333, \"#9c179e\"], [0.4444444444444444, \"#bd3786\"], [0.5555555555555556, \"#d8576b\"], [0.6666666666666666, \"#ed7953\"], [0.7777777777777778, \"#fb9f3a\"], [0.8888888888888888, \"#fdca26\"], [1.0, \"#f0f921\"]]}, \"colorway\": [\"#636efa\", \"#EF553B\", \"#00cc96\", \"#ab63fa\", \"#FFA15A\", \"#19d3f3\", \"#FF6692\", \"#B6E880\", \"#FF97FF\", \"#FECB52\"], \"font\": {\"color\": \"#2a3f5f\"}, \"geo\": {\"bgcolor\": \"white\", \"lakecolor\": \"white\", \"landcolor\": \"#E5ECF6\", \"showlakes\": true, \"showland\": true, \"subunitcolor\": \"white\"}, \"hoverlabel\": {\"align\": \"left\"}, \"hovermode\": \"closest\", \"mapbox\": {\"style\": \"light\"}, \"paper_bgcolor\": \"white\", \"plot_bgcolor\": \"#E5ECF6\", \"polar\": {\"angularaxis\": {\"gridcolor\": \"white\", \"linecolor\": \"white\", \"ticks\": \"\"}, \"bgcolor\": \"#E5ECF6\", \"radialaxis\": {\"gridcolor\": \"white\", \"linecolor\": \"white\", \"ticks\": \"\"}}, \"scene\": {\"xaxis\": {\"backgroundcolor\": \"#E5ECF6\", \"gridcolor\": \"white\", \"gridwidth\": 2, \"linecolor\": \"white\", \"showbackground\": true, \"ticks\": \"\", \"zerolinecolor\": \"white\"}, \"yaxis\": {\"backgroundcolor\": \"#E5ECF6\", \"gridcolor\": \"white\", \"gridwidth\": 2, \"linecolor\": \"white\", \"showbackground\": true, \"ticks\": \"\", \"zerolinecolor\": \"white\"}, \"zaxis\": {\"backgroundcolor\": \"#E5ECF6\", \"gridcolor\": \"white\", \"gridwidth\": 2, \"linecolor\": \"white\", \"showbackground\": true, \"ticks\": \"\", \"zerolinecolor\": \"white\"}}, \"shapedefaults\": {\"line\": {\"color\": \"#2a3f5f\"}}, \"ternary\": {\"aaxis\": {\"gridcolor\": \"white\", \"linecolor\": \"white\", \"ticks\": \"\"}, \"baxis\": {\"gridcolor\": \"white\", \"linecolor\": \"white\", \"ticks\": \"\"}, \"bgcolor\": \"#E5ECF6\", \"caxis\": {\"gridcolor\": \"white\", \"linecolor\": \"white\", \"ticks\": \"\"}}, \"title\": {\"x\": 0.05}, \"xaxis\": {\"automargin\": true, \"gridcolor\": \"white\", \"linecolor\": \"white\", \"ticks\": \"\", \"title\": {\"standoff\": 15}, \"zerolinecolor\": \"white\", \"zerolinewidth\": 2}, \"yaxis\": {\"automargin\": true, \"gridcolor\": \"white\", \"linecolor\": \"white\", \"ticks\": \"\", \"title\": {\"standoff\": 15}, \"zerolinecolor\": \"white\", \"zerolinewidth\": 2}}}, \"title\": {\"text\": \"Taxes Treemap\", \"x\": 0.5}, \"treemapcolorway\": [\"rgb(247, 254, 174)\", \"rgb(183, 230, 165)\", \"rgb(124, 203, 162)\", \"rgb(70, 174, 160)\", \"rgb(8, 144, 153)\", \"rgb(0, 113, 139)\", \"rgb(4, 82, 117)\"], \"width\": 950},                        {\"responsive\": true}                    ).then(function(){\n",
       "                            \n",
       "var gd = document.getElementById('81752f9c-25c6-4b9f-84a1-87a07d351daf');\n",
       "var x = new MutationObserver(function (mutations, observer) {{\n",
       "        var display = window.getComputedStyle(gd).display;\n",
       "        if (!display || display === 'none') {{\n",
       "            console.log([gd, 'removed!']);\n",
       "            Plotly.purge(gd);\n",
       "            observer.disconnect();\n",
       "        }}\n",
       "}});\n",
       "\n",
       "// Listen for the removal of the full notebook cells\n",
       "var notebookContainer = gd.closest('#notebook-container');\n",
       "if (notebookContainer) {{\n",
       "    x.observe(notebookContainer, {childList: true});\n",
       "}}\n",
       "\n",
       "// Listen for the clearing of the current output cell\n",
       "var outputEl = gd.closest('.output');\n",
       "if (outputEl) {{\n",
       "    x.observe(outputEl, {childList: true});\n",
       "}}\n",
       "\n",
       "                        })                };                });            </script>        </div>"
      ]
     },
     "metadata": {},
     "output_type": "display_data"
    }
   ],
   "source": [
    "#Treemap for the taxes in selected countries.\n",
    "tax_treemap = px.treemap(data_frame=treemap_df, path=['country', 'tax_name'], values='tax_value', title='Taxes Treemap', hover_name='country', hover_data={'country':False, 'tax_name':False, 'tax_value':True}, color='tax_name', color_discrete_sequence=px.colors.sequential.Bluyl, width=950, height=800)\n",
    "tax_treemap.update_layout(title_x=0.5)"
   ]
  },
  {
   "cell_type": "code",
   "execution_count": null,
   "metadata": {},
   "outputs": [],
   "source": []
  },
  {
   "cell_type": "code",
   "execution_count": null,
   "metadata": {},
   "outputs": [],
   "source": []
  }
 ],
 "metadata": {
  "kernelspec": {
   "display_name": "Python 3",
   "language": "python",
   "name": "python3"
  },
  "language_info": {
   "codemirror_mode": {
    "name": "ipython",
    "version": 3
   },
   "file_extension": ".py",
   "mimetype": "text/x-python",
   "name": "python",
   "nbconvert_exporter": "python",
   "pygments_lexer": "ipython3",
   "version": "3.8.3"
  }
 },
 "nbformat": 4,
 "nbformat_minor": 4
}
